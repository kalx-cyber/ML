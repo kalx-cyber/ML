{
 "cells": [
  {
   "cell_type": "markdown",
   "id": "f9202b9b",
   "metadata": {},
   "source": [
    "# Ionosphere Dataset"
   ]
  },
  {
   "cell_type": "markdown",
   "id": "1911eaa4",
   "metadata": {},
   "source": [
    "Importing Libraries"
   ]
  },
  {
   "cell_type": "code",
   "execution_count": 1,
   "id": "36efdc7d",
   "metadata": {},
   "outputs": [],
   "source": [
    "import numpy as np\n",
    "import pandas as pd\n",
    "import seaborn as sns\n",
    "from sklearn.svm import SVC\n",
    "from matplotlib import pyplot as plt\n",
    "from sklearn.model_selection import train_test_split\n",
    "from sklearn.linear_model import RidgeClassifier as RC, LogisticRegression as LR\n",
    "from sklearn.ensemble import RandomForestClassifier as RFC, GradientBoostingClassifier as GBC\n",
    "from sklearn.pipeline import make_pipeline\n",
    "from sklearn.preprocessing import StandardScaler\n",
    "from sklearn.tree import DecisionTreeClassifier as DTC\n",
    "\n",
    "from sklearn.metrics import classification_report,confusion_matrix,accuracy_score"
   ]
  },
  {
   "cell_type": "markdown",
   "id": "c2172409",
   "metadata": {},
   "source": [
    "Importing Dataset"
   ]
  },
  {
   "cell_type": "code",
   "execution_count": 2,
   "id": "33b2a3a5",
   "metadata": {},
   "outputs": [],
   "source": [
    "names = ('a01', 'a02', 'a03', 'a04', 'a05', 'a06', 'a07', 'a08', 'a09', 'a10',\n",
    "         'a11', 'a12', 'a13', 'a14', 'a15', 'a16', 'a17', 'a18', 'a19', 'a20',\n",
    "         'a21', 'a22', 'a23', 'a24', 'a25', 'a26', 'a27', 'a28', 'a29', 'a30',\n",
    "         'a31', 'a32', 'a33', 'a34', 'class1')"
   ]
  },
  {
   "cell_type": "code",
   "execution_count": 3,
   "id": "15e3119b",
   "metadata": {},
   "outputs": [],
   "source": [
    "df = pd.read_csv('ionosphere.csv', names = names)"
   ]
  },
  {
   "cell_type": "markdown",
   "id": "165e8fa2",
   "metadata": {},
   "source": [
    "Exploratory Data Analysis"
   ]
  },
  {
   "cell_type": "code",
   "execution_count": 4,
   "id": "6539414b",
   "metadata": {},
   "outputs": [
    {
     "data": {
      "text/html": [
       "<div>\n",
       "<style scoped>\n",
       "    .dataframe tbody tr th:only-of-type {\n",
       "        vertical-align: middle;\n",
       "    }\n",
       "\n",
       "    .dataframe tbody tr th {\n",
       "        vertical-align: top;\n",
       "    }\n",
       "\n",
       "    .dataframe thead th {\n",
       "        text-align: right;\n",
       "    }\n",
       "</style>\n",
       "<table border=\"1\" class=\"dataframe\">\n",
       "  <thead>\n",
       "    <tr style=\"text-align: right;\">\n",
       "      <th></th>\n",
       "      <th>a01</th>\n",
       "      <th>a02</th>\n",
       "      <th>a03</th>\n",
       "      <th>a04</th>\n",
       "      <th>a05</th>\n",
       "      <th>a06</th>\n",
       "      <th>a07</th>\n",
       "      <th>a08</th>\n",
       "      <th>a09</th>\n",
       "      <th>a10</th>\n",
       "      <th>...</th>\n",
       "      <th>a26</th>\n",
       "      <th>a27</th>\n",
       "      <th>a28</th>\n",
       "      <th>a29</th>\n",
       "      <th>a30</th>\n",
       "      <th>a31</th>\n",
       "      <th>a32</th>\n",
       "      <th>a33</th>\n",
       "      <th>a34</th>\n",
       "      <th>class1</th>\n",
       "    </tr>\n",
       "  </thead>\n",
       "  <tbody>\n",
       "    <tr>\n",
       "      <th>0</th>\n",
       "      <td>1</td>\n",
       "      <td>0</td>\n",
       "      <td>0.99539</td>\n",
       "      <td>-0.05889</td>\n",
       "      <td>0.85243</td>\n",
       "      <td>0.02306</td>\n",
       "      <td>0.83398</td>\n",
       "      <td>-0.37708</td>\n",
       "      <td>1.00000</td>\n",
       "      <td>0.03760</td>\n",
       "      <td>...</td>\n",
       "      <td>-0.51171</td>\n",
       "      <td>0.41078</td>\n",
       "      <td>-0.46168</td>\n",
       "      <td>0.21266</td>\n",
       "      <td>-0.34090</td>\n",
       "      <td>0.42267</td>\n",
       "      <td>-0.54487</td>\n",
       "      <td>0.18641</td>\n",
       "      <td>-0.45300</td>\n",
       "      <td>g</td>\n",
       "    </tr>\n",
       "    <tr>\n",
       "      <th>1</th>\n",
       "      <td>1</td>\n",
       "      <td>0</td>\n",
       "      <td>1.00000</td>\n",
       "      <td>-0.18829</td>\n",
       "      <td>0.93035</td>\n",
       "      <td>-0.36156</td>\n",
       "      <td>-0.10868</td>\n",
       "      <td>-0.93597</td>\n",
       "      <td>1.00000</td>\n",
       "      <td>-0.04549</td>\n",
       "      <td>...</td>\n",
       "      <td>-0.26569</td>\n",
       "      <td>-0.20468</td>\n",
       "      <td>-0.18401</td>\n",
       "      <td>-0.19040</td>\n",
       "      <td>-0.11593</td>\n",
       "      <td>-0.16626</td>\n",
       "      <td>-0.06288</td>\n",
       "      <td>-0.13738</td>\n",
       "      <td>-0.02447</td>\n",
       "      <td>b</td>\n",
       "    </tr>\n",
       "    <tr>\n",
       "      <th>2</th>\n",
       "      <td>1</td>\n",
       "      <td>0</td>\n",
       "      <td>1.00000</td>\n",
       "      <td>-0.03365</td>\n",
       "      <td>1.00000</td>\n",
       "      <td>0.00485</td>\n",
       "      <td>1.00000</td>\n",
       "      <td>-0.12062</td>\n",
       "      <td>0.88965</td>\n",
       "      <td>0.01198</td>\n",
       "      <td>...</td>\n",
       "      <td>-0.40220</td>\n",
       "      <td>0.58984</td>\n",
       "      <td>-0.22145</td>\n",
       "      <td>0.43100</td>\n",
       "      <td>-0.17365</td>\n",
       "      <td>0.60436</td>\n",
       "      <td>-0.24180</td>\n",
       "      <td>0.56045</td>\n",
       "      <td>-0.38238</td>\n",
       "      <td>g</td>\n",
       "    </tr>\n",
       "    <tr>\n",
       "      <th>3</th>\n",
       "      <td>1</td>\n",
       "      <td>0</td>\n",
       "      <td>1.00000</td>\n",
       "      <td>-0.45161</td>\n",
       "      <td>1.00000</td>\n",
       "      <td>1.00000</td>\n",
       "      <td>0.71216</td>\n",
       "      <td>-1.00000</td>\n",
       "      <td>0.00000</td>\n",
       "      <td>0.00000</td>\n",
       "      <td>...</td>\n",
       "      <td>0.90695</td>\n",
       "      <td>0.51613</td>\n",
       "      <td>1.00000</td>\n",
       "      <td>1.00000</td>\n",
       "      <td>-0.20099</td>\n",
       "      <td>0.25682</td>\n",
       "      <td>1.00000</td>\n",
       "      <td>-0.32382</td>\n",
       "      <td>1.00000</td>\n",
       "      <td>b</td>\n",
       "    </tr>\n",
       "    <tr>\n",
       "      <th>4</th>\n",
       "      <td>1</td>\n",
       "      <td>0</td>\n",
       "      <td>1.00000</td>\n",
       "      <td>-0.02401</td>\n",
       "      <td>0.94140</td>\n",
       "      <td>0.06531</td>\n",
       "      <td>0.92106</td>\n",
       "      <td>-0.23255</td>\n",
       "      <td>0.77152</td>\n",
       "      <td>-0.16399</td>\n",
       "      <td>...</td>\n",
       "      <td>-0.65158</td>\n",
       "      <td>0.13290</td>\n",
       "      <td>-0.53206</td>\n",
       "      <td>0.02431</td>\n",
       "      <td>-0.62197</td>\n",
       "      <td>-0.05707</td>\n",
       "      <td>-0.59573</td>\n",
       "      <td>-0.04608</td>\n",
       "      <td>-0.65697</td>\n",
       "      <td>g</td>\n",
       "    </tr>\n",
       "  </tbody>\n",
       "</table>\n",
       "<p>5 rows × 35 columns</p>\n",
       "</div>"
      ],
      "text/plain": [
       "   a01  a02      a03      a04      a05      a06      a07      a08      a09  \\\n",
       "0    1    0  0.99539 -0.05889  0.85243  0.02306  0.83398 -0.37708  1.00000   \n",
       "1    1    0  1.00000 -0.18829  0.93035 -0.36156 -0.10868 -0.93597  1.00000   \n",
       "2    1    0  1.00000 -0.03365  1.00000  0.00485  1.00000 -0.12062  0.88965   \n",
       "3    1    0  1.00000 -0.45161  1.00000  1.00000  0.71216 -1.00000  0.00000   \n",
       "4    1    0  1.00000 -0.02401  0.94140  0.06531  0.92106 -0.23255  0.77152   \n",
       "\n",
       "       a10  ...      a26      a27      a28      a29      a30      a31  \\\n",
       "0  0.03760  ... -0.51171  0.41078 -0.46168  0.21266 -0.34090  0.42267   \n",
       "1 -0.04549  ... -0.26569 -0.20468 -0.18401 -0.19040 -0.11593 -0.16626   \n",
       "2  0.01198  ... -0.40220  0.58984 -0.22145  0.43100 -0.17365  0.60436   \n",
       "3  0.00000  ...  0.90695  0.51613  1.00000  1.00000 -0.20099  0.25682   \n",
       "4 -0.16399  ... -0.65158  0.13290 -0.53206  0.02431 -0.62197 -0.05707   \n",
       "\n",
       "       a32      a33      a34  class1  \n",
       "0 -0.54487  0.18641 -0.45300       g  \n",
       "1 -0.06288 -0.13738 -0.02447       b  \n",
       "2 -0.24180  0.56045 -0.38238       g  \n",
       "3  1.00000 -0.32382  1.00000       b  \n",
       "4 -0.59573 -0.04608 -0.65697       g  \n",
       "\n",
       "[5 rows x 35 columns]"
      ]
     },
     "execution_count": 4,
     "metadata": {},
     "output_type": "execute_result"
    }
   ],
   "source": [
    "df.head()"
   ]
  },
  {
   "cell_type": "code",
   "execution_count": 5,
   "id": "51416c86",
   "metadata": {},
   "outputs": [
    {
     "data": {
      "text/plain": [
       "a01       0\n",
       "a02       0\n",
       "a03       0\n",
       "a04       0\n",
       "a05       0\n",
       "a06       0\n",
       "a07       0\n",
       "a08       0\n",
       "a09       0\n",
       "a10       0\n",
       "a11       0\n",
       "a12       0\n",
       "a13       0\n",
       "a14       0\n",
       "a15       0\n",
       "a16       0\n",
       "a17       0\n",
       "a18       0\n",
       "a19       0\n",
       "a20       0\n",
       "a21       0\n",
       "a22       0\n",
       "a23       0\n",
       "a24       0\n",
       "a25       0\n",
       "a26       0\n",
       "a27       0\n",
       "a28       0\n",
       "a29       0\n",
       "a30       0\n",
       "a31       0\n",
       "a32       0\n",
       "a33       0\n",
       "a34       0\n",
       "class1    0\n",
       "dtype: int64"
      ]
     },
     "execution_count": 5,
     "metadata": {},
     "output_type": "execute_result"
    }
   ],
   "source": [
    "df.isnull().sum()"
   ]
  },
  {
   "cell_type": "code",
   "execution_count": 6,
   "id": "92d1036e",
   "metadata": {
    "scrolled": true
   },
   "outputs": [
    {
     "data": {
      "text/html": [
       "<div>\n",
       "<style scoped>\n",
       "    .dataframe tbody tr th:only-of-type {\n",
       "        vertical-align: middle;\n",
       "    }\n",
       "\n",
       "    .dataframe tbody tr th {\n",
       "        vertical-align: top;\n",
       "    }\n",
       "\n",
       "    .dataframe thead th {\n",
       "        text-align: right;\n",
       "    }\n",
       "</style>\n",
       "<table border=\"1\" class=\"dataframe\">\n",
       "  <thead>\n",
       "    <tr style=\"text-align: right;\">\n",
       "      <th></th>\n",
       "      <th>a01</th>\n",
       "      <th>a02</th>\n",
       "      <th>a03</th>\n",
       "      <th>a04</th>\n",
       "      <th>a05</th>\n",
       "      <th>a06</th>\n",
       "      <th>a07</th>\n",
       "      <th>a08</th>\n",
       "      <th>a09</th>\n",
       "      <th>a10</th>\n",
       "      <th>...</th>\n",
       "      <th>a25</th>\n",
       "      <th>a26</th>\n",
       "      <th>a27</th>\n",
       "      <th>a28</th>\n",
       "      <th>a29</th>\n",
       "      <th>a30</th>\n",
       "      <th>a31</th>\n",
       "      <th>a32</th>\n",
       "      <th>a33</th>\n",
       "      <th>a34</th>\n",
       "    </tr>\n",
       "  </thead>\n",
       "  <tbody>\n",
       "    <tr>\n",
       "      <th>count</th>\n",
       "      <td>351.000000</td>\n",
       "      <td>351.0</td>\n",
       "      <td>351.000000</td>\n",
       "      <td>351.000000</td>\n",
       "      <td>351.000000</td>\n",
       "      <td>351.000000</td>\n",
       "      <td>351.000000</td>\n",
       "      <td>351.000000</td>\n",
       "      <td>351.000000</td>\n",
       "      <td>351.000000</td>\n",
       "      <td>...</td>\n",
       "      <td>351.000000</td>\n",
       "      <td>351.000000</td>\n",
       "      <td>351.000000</td>\n",
       "      <td>351.000000</td>\n",
       "      <td>351.000000</td>\n",
       "      <td>351.000000</td>\n",
       "      <td>351.000000</td>\n",
       "      <td>351.000000</td>\n",
       "      <td>351.000000</td>\n",
       "      <td>351.000000</td>\n",
       "    </tr>\n",
       "    <tr>\n",
       "      <th>mean</th>\n",
       "      <td>0.891738</td>\n",
       "      <td>0.0</td>\n",
       "      <td>0.641342</td>\n",
       "      <td>0.044372</td>\n",
       "      <td>0.601068</td>\n",
       "      <td>0.115889</td>\n",
       "      <td>0.550095</td>\n",
       "      <td>0.119360</td>\n",
       "      <td>0.511848</td>\n",
       "      <td>0.181345</td>\n",
       "      <td>...</td>\n",
       "      <td>0.396135</td>\n",
       "      <td>-0.071187</td>\n",
       "      <td>0.541641</td>\n",
       "      <td>-0.069538</td>\n",
       "      <td>0.378445</td>\n",
       "      <td>-0.027907</td>\n",
       "      <td>0.352514</td>\n",
       "      <td>-0.003794</td>\n",
       "      <td>0.349364</td>\n",
       "      <td>0.014480</td>\n",
       "    </tr>\n",
       "    <tr>\n",
       "      <th>std</th>\n",
       "      <td>0.311155</td>\n",
       "      <td>0.0</td>\n",
       "      <td>0.497708</td>\n",
       "      <td>0.441435</td>\n",
       "      <td>0.519862</td>\n",
       "      <td>0.460810</td>\n",
       "      <td>0.492654</td>\n",
       "      <td>0.520750</td>\n",
       "      <td>0.507066</td>\n",
       "      <td>0.483851</td>\n",
       "      <td>...</td>\n",
       "      <td>0.578451</td>\n",
       "      <td>0.508495</td>\n",
       "      <td>0.516205</td>\n",
       "      <td>0.550025</td>\n",
       "      <td>0.575886</td>\n",
       "      <td>0.507974</td>\n",
       "      <td>0.571483</td>\n",
       "      <td>0.513574</td>\n",
       "      <td>0.522663</td>\n",
       "      <td>0.468337</td>\n",
       "    </tr>\n",
       "    <tr>\n",
       "      <th>min</th>\n",
       "      <td>0.000000</td>\n",
       "      <td>0.0</td>\n",
       "      <td>-1.000000</td>\n",
       "      <td>-1.000000</td>\n",
       "      <td>-1.000000</td>\n",
       "      <td>-1.000000</td>\n",
       "      <td>-1.000000</td>\n",
       "      <td>-1.000000</td>\n",
       "      <td>-1.000000</td>\n",
       "      <td>-1.000000</td>\n",
       "      <td>...</td>\n",
       "      <td>-1.000000</td>\n",
       "      <td>-1.000000</td>\n",
       "      <td>-1.000000</td>\n",
       "      <td>-1.000000</td>\n",
       "      <td>-1.000000</td>\n",
       "      <td>-1.000000</td>\n",
       "      <td>-1.000000</td>\n",
       "      <td>-1.000000</td>\n",
       "      <td>-1.000000</td>\n",
       "      <td>-1.000000</td>\n",
       "    </tr>\n",
       "    <tr>\n",
       "      <th>25%</th>\n",
       "      <td>1.000000</td>\n",
       "      <td>0.0</td>\n",
       "      <td>0.472135</td>\n",
       "      <td>-0.064735</td>\n",
       "      <td>0.412660</td>\n",
       "      <td>-0.024795</td>\n",
       "      <td>0.211310</td>\n",
       "      <td>-0.054840</td>\n",
       "      <td>0.087110</td>\n",
       "      <td>-0.048075</td>\n",
       "      <td>...</td>\n",
       "      <td>0.000000</td>\n",
       "      <td>-0.332390</td>\n",
       "      <td>0.286435</td>\n",
       "      <td>-0.443165</td>\n",
       "      <td>0.000000</td>\n",
       "      <td>-0.236885</td>\n",
       "      <td>0.000000</td>\n",
       "      <td>-0.242595</td>\n",
       "      <td>0.000000</td>\n",
       "      <td>-0.165350</td>\n",
       "    </tr>\n",
       "    <tr>\n",
       "      <th>50%</th>\n",
       "      <td>1.000000</td>\n",
       "      <td>0.0</td>\n",
       "      <td>0.871110</td>\n",
       "      <td>0.016310</td>\n",
       "      <td>0.809200</td>\n",
       "      <td>0.022800</td>\n",
       "      <td>0.728730</td>\n",
       "      <td>0.014710</td>\n",
       "      <td>0.684210</td>\n",
       "      <td>0.018290</td>\n",
       "      <td>...</td>\n",
       "      <td>0.553890</td>\n",
       "      <td>-0.015050</td>\n",
       "      <td>0.708240</td>\n",
       "      <td>-0.017690</td>\n",
       "      <td>0.496640</td>\n",
       "      <td>0.000000</td>\n",
       "      <td>0.442770</td>\n",
       "      <td>0.000000</td>\n",
       "      <td>0.409560</td>\n",
       "      <td>0.000000</td>\n",
       "    </tr>\n",
       "    <tr>\n",
       "      <th>75%</th>\n",
       "      <td>1.000000</td>\n",
       "      <td>0.0</td>\n",
       "      <td>1.000000</td>\n",
       "      <td>0.194185</td>\n",
       "      <td>1.000000</td>\n",
       "      <td>0.334655</td>\n",
       "      <td>0.969240</td>\n",
       "      <td>0.445675</td>\n",
       "      <td>0.953240</td>\n",
       "      <td>0.534195</td>\n",
       "      <td>...</td>\n",
       "      <td>0.905240</td>\n",
       "      <td>0.156765</td>\n",
       "      <td>0.999945</td>\n",
       "      <td>0.153535</td>\n",
       "      <td>0.883465</td>\n",
       "      <td>0.154075</td>\n",
       "      <td>0.857620</td>\n",
       "      <td>0.200120</td>\n",
       "      <td>0.813765</td>\n",
       "      <td>0.171660</td>\n",
       "    </tr>\n",
       "    <tr>\n",
       "      <th>max</th>\n",
       "      <td>1.000000</td>\n",
       "      <td>0.0</td>\n",
       "      <td>1.000000</td>\n",
       "      <td>1.000000</td>\n",
       "      <td>1.000000</td>\n",
       "      <td>1.000000</td>\n",
       "      <td>1.000000</td>\n",
       "      <td>1.000000</td>\n",
       "      <td>1.000000</td>\n",
       "      <td>1.000000</td>\n",
       "      <td>...</td>\n",
       "      <td>1.000000</td>\n",
       "      <td>1.000000</td>\n",
       "      <td>1.000000</td>\n",
       "      <td>1.000000</td>\n",
       "      <td>1.000000</td>\n",
       "      <td>1.000000</td>\n",
       "      <td>1.000000</td>\n",
       "      <td>1.000000</td>\n",
       "      <td>1.000000</td>\n",
       "      <td>1.000000</td>\n",
       "    </tr>\n",
       "  </tbody>\n",
       "</table>\n",
       "<p>8 rows × 34 columns</p>\n",
       "</div>"
      ],
      "text/plain": [
       "              a01    a02         a03         a04         a05         a06  \\\n",
       "count  351.000000  351.0  351.000000  351.000000  351.000000  351.000000   \n",
       "mean     0.891738    0.0    0.641342    0.044372    0.601068    0.115889   \n",
       "std      0.311155    0.0    0.497708    0.441435    0.519862    0.460810   \n",
       "min      0.000000    0.0   -1.000000   -1.000000   -1.000000   -1.000000   \n",
       "25%      1.000000    0.0    0.472135   -0.064735    0.412660   -0.024795   \n",
       "50%      1.000000    0.0    0.871110    0.016310    0.809200    0.022800   \n",
       "75%      1.000000    0.0    1.000000    0.194185    1.000000    0.334655   \n",
       "max      1.000000    0.0    1.000000    1.000000    1.000000    1.000000   \n",
       "\n",
       "              a07         a08         a09         a10  ...         a25  \\\n",
       "count  351.000000  351.000000  351.000000  351.000000  ...  351.000000   \n",
       "mean     0.550095    0.119360    0.511848    0.181345  ...    0.396135   \n",
       "std      0.492654    0.520750    0.507066    0.483851  ...    0.578451   \n",
       "min     -1.000000   -1.000000   -1.000000   -1.000000  ...   -1.000000   \n",
       "25%      0.211310   -0.054840    0.087110   -0.048075  ...    0.000000   \n",
       "50%      0.728730    0.014710    0.684210    0.018290  ...    0.553890   \n",
       "75%      0.969240    0.445675    0.953240    0.534195  ...    0.905240   \n",
       "max      1.000000    1.000000    1.000000    1.000000  ...    1.000000   \n",
       "\n",
       "              a26         a27         a28         a29         a30         a31  \\\n",
       "count  351.000000  351.000000  351.000000  351.000000  351.000000  351.000000   \n",
       "mean    -0.071187    0.541641   -0.069538    0.378445   -0.027907    0.352514   \n",
       "std      0.508495    0.516205    0.550025    0.575886    0.507974    0.571483   \n",
       "min     -1.000000   -1.000000   -1.000000   -1.000000   -1.000000   -1.000000   \n",
       "25%     -0.332390    0.286435   -0.443165    0.000000   -0.236885    0.000000   \n",
       "50%     -0.015050    0.708240   -0.017690    0.496640    0.000000    0.442770   \n",
       "75%      0.156765    0.999945    0.153535    0.883465    0.154075    0.857620   \n",
       "max      1.000000    1.000000    1.000000    1.000000    1.000000    1.000000   \n",
       "\n",
       "              a32         a33         a34  \n",
       "count  351.000000  351.000000  351.000000  \n",
       "mean    -0.003794    0.349364    0.014480  \n",
       "std      0.513574    0.522663    0.468337  \n",
       "min     -1.000000   -1.000000   -1.000000  \n",
       "25%     -0.242595    0.000000   -0.165350  \n",
       "50%      0.000000    0.409560    0.000000  \n",
       "75%      0.200120    0.813765    0.171660  \n",
       "max      1.000000    1.000000    1.000000  \n",
       "\n",
       "[8 rows x 34 columns]"
      ]
     },
     "execution_count": 6,
     "metadata": {},
     "output_type": "execute_result"
    }
   ],
   "source": [
    "df.describe()"
   ]
  },
  {
   "cell_type": "code",
   "execution_count": 7,
   "id": "1c4a1a40",
   "metadata": {},
   "outputs": [
    {
     "data": {
      "text/plain": [
       "<AxesSubplot:>"
      ]
     },
     "execution_count": 7,
     "metadata": {},
     "output_type": "execute_result"
    },
    {
     "data": {
      "image/png": "[encoded data removed]",
      "text/plain": [
       "<Figure size 432x288 with 2 Axes>"
      ]
     },
     "metadata": {
      "needs_background": "light"
     },
     "output_type": "display_data"
    }
   ],
   "source": [
    "# plt.figsize(10, 9)\n",
    "sns.heatmap(df.corr(), annot = True)"
   ]
  },
  {
   "cell_type": "code",
   "execution_count": 8,
   "id": "79836632",
   "metadata": {},
   "outputs": [],
   "source": [
    "from sklearn.preprocessing import LabelEncoder\n",
    "\n",
    "Label = LabelEncoder()\n",
    "Label.fit(df.class1.drop_duplicates())\n",
    "df.class1 = Label.transform(df.class1)\n"
   ]
  },
  {
   "cell_type": "code",
   "execution_count": 9,
   "id": "307e5870",
   "metadata": {},
   "outputs": [
    {
     "data": {
      "text/plain": [
       "Text(0.5, 1.0, 'A03 and Class')"
      ]
     },
     "execution_count": 9,
     "metadata": {},
     "output_type": "execute_result"
    },
    {
     "data": {
      "image/png": "[encoded data removed]",
      "text/plain": [
       "<Figure size 864x576 with 1 Axes>"
      ]
     },
     "metadata": {
      "needs_background": "light"
     },
     "output_type": "display_data"
    }
   ],
   "source": [
    "plt.figure(figsize = (12, 8))\n",
    "sns.barplot(x = 'class1', y = 'a03', data = df)\n",
    "plt.title('A03 and Class')"
   ]
  },
  {
   "cell_type": "markdown",
   "id": "96ae753b",
   "metadata": {},
   "source": [
    "Classification"
   ]
  },
  {
   "cell_type": "code",
   "execution_count": 10,
   "id": "1fe8354b",
   "metadata": {},
   "outputs": [],
   "source": [
    "y = df.class1\n",
    "x = df.drop('class1', axis =  1)\n",
    "\n",
    "xtrain, xtest, ytrain, ytest = train_test_split(x, y, test_size = 0.25, random_state = 176)"
   ]
  },
  {
   "cell_type": "code",
   "execution_count": 11,
   "id": "36a7a4d9",
   "metadata": {},
   "outputs": [
    {
     "name": "stdout",
     "output_type": "stream",
     "text": [
      "(263, 34) (88, 34) (263,) (88,)\n"
     ]
    }
   ],
   "source": [
    "print(xtrain.shape, xtest.shape, ytrain.shape, ytest.shape)"
   ]
  },
  {
   "cell_type": "code",
   "execution_count": 12,
   "id": "11ae4a1a",
   "metadata": {},
   "outputs": [],
   "source": [
    "models = {'Ridge' : make_pipeline(StandardScaler(), RC(random_state=123)),\n",
    "    'RandomForest' : make_pipeline(StandardScaler(), RFC(random_state=123)),\n",
    "    'LogisticRegression' : make_pipeline(StandardScaler(), LR(random_state=123)),\n",
    "    'DecisionTreeClassifier' : make_pipeline(StandardScaler(), DTC(random_state=123)),\n",
    "    'GradientBoosting' : make_pipeline(StandardScaler(), GBC(random_state=123))}\n"
   ]
  },
  {
   "cell_type": "code",
   "execution_count": 13,
   "id": "32d7a882",
   "metadata": {},
   "outputs": [
    {
     "data": {
      "text/plain": [
       "{'Ridge': Pipeline(steps=[('standardscaler', StandardScaler()),\n",
       "                 ('ridgeclassifier', RidgeClassifier(random_state=123))]),\n",
       " 'RandomForest': Pipeline(steps=[('standardscaler', StandardScaler()),\n",
       "                 ('randomforestclassifier',\n",
       "                  RandomForestClassifier(random_state=123))]),\n",
       " 'LogisticRegression': Pipeline(steps=[('standardscaler', StandardScaler()),\n",
       "                 ('logisticregression', LogisticRegression(random_state=123))]),\n",
       " 'DecisionTreeClassifier': Pipeline(steps=[('standardscaler', StandardScaler()),\n",
       "                 ('decisiontreeclassifier',\n",
       "                  DecisionTreeClassifier(random_state=123))]),\n",
       " 'GradientBoosting': Pipeline(steps=[('standardscaler', StandardScaler()),\n",
       "                 ('gradientboostingclassifier',\n",
       "                  GradientBoostingClassifier(random_state=123))])}"
      ]
     },
     "execution_count": 13,
     "metadata": {},
     "output_type": "execute_result"
    }
   ],
   "source": [
    "models"
   ]
  },
  {
   "cell_type": "code",
   "execution_count": 14,
   "id": "749f29a0",
   "metadata": {},
   "outputs": [
    {
     "name": "stdout",
     "output_type": "stream",
     "text": [
      "Ridge\n",
      "RandomForest\n",
      "LogisticRegression\n",
      "DecisionTreeClassifier\n",
      "GradientBoosting\n"
     ]
    }
   ],
   "source": [
    "models_fit = {}\n",
    "for name, model in models.items():\n",
    "    model.fit(xtrain, ytrain)\n",
    "    models_fit[name] = model\n",
    "    print(f'{name}')"
   ]
  },
  {
   "cell_type": "code",
   "execution_count": 15,
   "id": "993ca46f",
   "metadata": {
    "scrolled": true
   },
   "outputs": [
    {
     "data": {
      "text/plain": [
       "{'Ridge': Pipeline(steps=[('standardscaler', StandardScaler()),\n",
       "                 ('ridgeclassifier', RidgeClassifier(random_state=123))]),\n",
       " 'RandomForest': Pipeline(steps=[('standardscaler', StandardScaler()),\n",
       "                 ('randomforestclassifier',\n",
       "                  RandomForestClassifier(random_state=123))]),\n",
       " 'LogisticRegression': Pipeline(steps=[('standardscaler', StandardScaler()),\n",
       "                 ('logisticregression', LogisticRegression(random_state=123))]),\n",
       " 'DecisionTreeClassifier': Pipeline(steps=[('standardscaler', StandardScaler()),\n",
       "                 ('decisiontreeclassifier',\n",
       "                  DecisionTreeClassifier(random_state=123))]),\n",
       " 'GradientBoosting': Pipeline(steps=[('standardscaler', StandardScaler()),\n",
       "                 ('gradientboostingclassifier',\n",
       "                  GradientBoostingClassifier(random_state=123))])}"
      ]
     },
     "execution_count": 15,
     "metadata": {},
     "output_type": "execute_result"
    }
   ],
   "source": [
    "models_fit"
   ]
  },
  {
   "cell_type": "code",
   "execution_count": 16,
   "id": "fcd84bb5",
   "metadata": {},
   "outputs": [
    {
     "name": "stdout",
     "output_type": "stream",
     "text": [
      "Ridge|Accuracy = 0.818182\n",
      "RandomForest|Accuracy = 0.886364\n",
      "LogisticRegression|Accuracy = 0.863636\n",
      "DecisionTreeClassifier|Accuracy = 0.829545\n",
      "GradientBoosting|Accuracy = 0.909091\n"
     ]
    }
   ],
   "source": [
    "res1 = []\n",
    "names = []\n",
    "for name, model in models_fit.items():\n",
    "    ypred = model.predict(xtest)\n",
    "    names.append(name)\n",
    "    r1 = accuracy_score(ytest, ypred)\n",
    "    res1 = np.append(res1, r1)\n",
    "    output = \"%s|Accuracy = %f\" %(name, r1)\n",
    "    print(output)\n"
   ]
  },
  {
   "cell_type": "code",
   "execution_count": 17,
   "id": "c992b264",
   "metadata": {},
   "outputs": [
    {
     "data": {
      "text/plain": [
       "([0, 1, 2, 3, 4],\n",
       " [Text(0, 0, ''),\n",
       "  Text(0, 0, ''),\n",
       "  Text(0, 0, ''),\n",
       "  Text(0, 0, ''),\n",
       "  Text(0, 0, '')])"
      ]
     },
     "execution_count": 17,
     "metadata": {},
     "output_type": "execute_result"
    },
    {
     "data": {
      "image/png": "[encoded data removed]",
      "text/plain": [
       "<Figure size 432x288 with 1 Axes>"
      ]
     },
     "metadata": {
      "needs_background": "light"
     },
     "output_type": "display_data"
    }
   ],
   "source": [
    "plt.bar(names, res1)\n",
    "plt.title('Accuracy')\n",
    "plt.xticks(rotation = 45)"
   ]
  },
  {
   "cell_type": "code",
   "execution_count": 18,
   "id": "ff9e70ba",
   "metadata": {},
   "outputs": [
    {
     "data": {
      "text/plain": [
       "array([0.81818182, 0.88636364, 0.86363636, 0.82954545, 0.90909091])"
      ]
     },
     "execution_count": 18,
     "metadata": {},
     "output_type": "execute_result"
    },
    {
     "data": {
      "image/png": "[encoded data removed]",
      "text/plain": [
       "<Figure size 432x288 with 1 Axes>"
      ]
     },
     "metadata": {},
     "output_type": "display_data"
    }
   ],
   "source": [
    "res1 = np.array(abs(res1))\n",
    "plt.pie(res1, labels = names)\n",
    "res1"
   ]
  },
  {
   "cell_type": "markdown",
   "id": "c8f5ded9",
   "metadata": {},
   "source": [
    "HyperParameter Tuning"
   ]
  },
  {
   "cell_type": "code",
   "execution_count": 19,
   "id": "425f59fe",
   "metadata": {},
   "outputs": [
    {
     "name": "stdout",
     "output_type": "stream",
     "text": [
      "0.8295454545454546\n"
     ]
    }
   ],
   "source": [
    "model = make_pipeline(StandardScaler(), RC(alpha=1.0, fit_intercept=True, normalize='deprecated',\n",
    "                                        copy_X=True, max_iter=None, tol=0.001, class_weight=None, solver='auto',\n",
    "                                        random_state=None))\n",
    "\n",
    "model.fit(xtrain, ytrain)\n",
    "\n",
    "ypred = model.predict(xtest)\n",
    "print(f'{accuracy_score(ytest, ypred)}')"
   ]
  },
  {
   "cell_type": "markdown",
   "id": "b01112be",
   "metadata": {},
   "source": [
    "More Model(s) With Randomized Search"
   ]
  },
  {
   "cell_type": "code",
   "execution_count": 20,
   "id": "821cf3c9",
   "metadata": {},
   "outputs": [],
   "source": [
    "from sklearn.model_selection import RandomizedSearchCV as RS"
   ]
  },
  {
   "cell_type": "code",
   "execution_count": 21,
   "id": "34ed382a",
   "metadata": {},
   "outputs": [],
   "source": [
    "RC_hyperparameters = {\n",
    "    'alpha' : [0, 0.25, 0.5, 0.75, 1],\n",
    "    'normalize' : [True, False], \n",
    "    'max_iter' : [100, 200, 300, 400, 500, 600, 700, 800, 900, 1000],\n",
    "    'solver' : ['auto', 'svd', 'cholesky', 'lsqr', 'sparse_cg', 'sag', 'saga', 'lbfgs'],\n",
    "    'tol' : [0.001, 0.0001, 0.00001]\n",
    "}"
   ]
  },
  {
   "cell_type": "code",
   "execution_count": 22,
   "id": "88bb2546",
   "metadata": {},
   "outputs": [
    {
     "name": "stderr",
     "output_type": "stream",
     "text": [
      "C:\\Users\\khade\\anaconda3\\lib\\site-packages\\sklearn\\model_selection\\_validation.py:610: FitFailedWarning: Estimator fit failed. The score on this train-test partition for these parameters will be set to nan. Details: \n",
      "Traceback (most recent call last):\n",
      "  File \"C:\\Users\\khade\\anaconda3\\lib\\site-packages\\sklearn\\model_selection\\_validation.py\", line 593, in _fit_and_score\n",
      "    estimator.fit(X_train, y_train, **fit_params)\n",
      "  File \"C:\\Users\\khade\\anaconda3\\lib\\site-packages\\sklearn\\linear_model\\_ridge.py\", line 945, in fit\n",
      "    super().fit(X, Y, sample_weight=sample_weight)\n",
      "  File \"C:\\Users\\khade\\anaconda3\\lib\\site-packages\\sklearn\\linear_model\\_ridge.py\", line 593, in fit\n",
      "    self.coef_, self.n_iter_ = _ridge_regression(\n",
      "  File \"C:\\Users\\khade\\anaconda3\\lib\\site-packages\\sklearn\\linear_model\\_ridge.py\", line 397, in _ridge_regression\n",
      "    raise ValueError(\"Known solvers are 'sparse_cg', 'cholesky', 'svd'\"\n",
      "ValueError: Known solvers are 'sparse_cg', 'cholesky', 'svd' 'lsqr', 'sag' or 'saga'. Got lbfgs.\n",
      "\n",
      "  warnings.warn(\"Estimator fit failed. The score on this train-test\"\n",
      "C:\\Users\\khade\\anaconda3\\lib\\site-packages\\sklearn\\model_selection\\_validation.py:610: FitFailedWarning: Estimator fit failed. The score on this train-test partition for these parameters will be set to nan. Details: \n",
      "Traceback (most recent call last):\n",
      "  File \"C:\\Users\\khade\\anaconda3\\lib\\site-packages\\sklearn\\model_selection\\_validation.py\", line 593, in _fit_and_score\n",
      "    estimator.fit(X_train, y_train, **fit_params)\n",
      "  File \"C:\\Users\\khade\\anaconda3\\lib\\site-packages\\sklearn\\linear_model\\_ridge.py\", line 945, in fit\n",
      "    super().fit(X, Y, sample_weight=sample_weight)\n",
      "  File \"C:\\Users\\khade\\anaconda3\\lib\\site-packages\\sklearn\\linear_model\\_ridge.py\", line 593, in fit\n",
      "    self.coef_, self.n_iter_ = _ridge_regression(\n",
      "  File \"C:\\Users\\khade\\anaconda3\\lib\\site-packages\\sklearn\\linear_model\\_ridge.py\", line 397, in _ridge_regression\n",
      "    raise ValueError(\"Known solvers are 'sparse_cg', 'cholesky', 'svd'\"\n",
      "ValueError: Known solvers are 'sparse_cg', 'cholesky', 'svd' 'lsqr', 'sag' or 'saga'. Got lbfgs.\n",
      "\n",
      "  warnings.warn(\"Estimator fit failed. The score on this train-test\"\n",
      "C:\\Users\\khade\\anaconda3\\lib\\site-packages\\sklearn\\model_selection\\_validation.py:610: FitFailedWarning: Estimator fit failed. The score on this train-test partition for these parameters will be set to nan. Details: \n",
      "Traceback (most recent call last):\n",
      "  File \"C:\\Users\\khade\\anaconda3\\lib\\site-packages\\sklearn\\model_selection\\_validation.py\", line 593, in _fit_and_score\n",
      "    estimator.fit(X_train, y_train, **fit_params)\n",
      "  File \"C:\\Users\\khade\\anaconda3\\lib\\site-packages\\sklearn\\linear_model\\_ridge.py\", line 945, in fit\n",
      "    super().fit(X, Y, sample_weight=sample_weight)\n",
      "  File \"C:\\Users\\khade\\anaconda3\\lib\\site-packages\\sklearn\\linear_model\\_ridge.py\", line 593, in fit\n",
      "    self.coef_, self.n_iter_ = _ridge_regression(\n",
      "  File \"C:\\Users\\khade\\anaconda3\\lib\\site-packages\\sklearn\\linear_model\\_ridge.py\", line 397, in _ridge_regression\n",
      "    raise ValueError(\"Known solvers are 'sparse_cg', 'cholesky', 'svd'\"\n",
      "ValueError: Known solvers are 'sparse_cg', 'cholesky', 'svd' 'lsqr', 'sag' or 'saga'. Got lbfgs.\n",
      "\n",
      "  warnings.warn(\"Estimator fit failed. The score on this train-test\"\n",
      "C:\\Users\\khade\\anaconda3\\lib\\site-packages\\sklearn\\model_selection\\_validation.py:610: FitFailedWarning: Estimator fit failed. The score on this train-test partition for these parameters will be set to nan. Details: \n",
      "Traceback (most recent call last):\n",
      "  File \"C:\\Users\\khade\\anaconda3\\lib\\site-packages\\sklearn\\model_selection\\_validation.py\", line 593, in _fit_and_score\n",
      "    estimator.fit(X_train, y_train, **fit_params)\n",
      "  File \"C:\\Users\\khade\\anaconda3\\lib\\site-packages\\sklearn\\linear_model\\_ridge.py\", line 945, in fit\n",
      "    super().fit(X, Y, sample_weight=sample_weight)\n",
      "  File \"C:\\Users\\khade\\anaconda3\\lib\\site-packages\\sklearn\\linear_model\\_ridge.py\", line 593, in fit\n",
      "    self.coef_, self.n_iter_ = _ridge_regression(\n",
      "  File \"C:\\Users\\khade\\anaconda3\\lib\\site-packages\\sklearn\\linear_model\\_ridge.py\", line 397, in _ridge_regression\n",
      "    raise ValueError(\"Known solvers are 'sparse_cg', 'cholesky', 'svd'\"\n",
      "ValueError: Known solvers are 'sparse_cg', 'cholesky', 'svd' 'lsqr', 'sag' or 'saga'. Got lbfgs.\n",
      "\n",
      "  warnings.warn(\"Estimator fit failed. The score on this train-test\"\n",
      "C:\\Users\\khade\\anaconda3\\lib\\site-packages\\sklearn\\model_selection\\_validation.py:610: FitFailedWarning: Estimator fit failed. The score on this train-test partition for these parameters will be set to nan. Details: \n",
      "Traceback (most recent call last):\n",
      "  File \"C:\\Users\\khade\\anaconda3\\lib\\site-packages\\sklearn\\model_selection\\_validation.py\", line 593, in _fit_and_score\n",
      "    estimator.fit(X_train, y_train, **fit_params)\n",
      "  File \"C:\\Users\\khade\\anaconda3\\lib\\site-packages\\sklearn\\linear_model\\_ridge.py\", line 945, in fit\n",
      "    super().fit(X, Y, sample_weight=sample_weight)\n",
      "  File \"C:\\Users\\khade\\anaconda3\\lib\\site-packages\\sklearn\\linear_model\\_ridge.py\", line 593, in fit\n",
      "    self.coef_, self.n_iter_ = _ridge_regression(\n",
      "  File \"C:\\Users\\khade\\anaconda3\\lib\\site-packages\\sklearn\\linear_model\\_ridge.py\", line 397, in _ridge_regression\n",
      "    raise ValueError(\"Known solvers are 'sparse_cg', 'cholesky', 'svd'\"\n",
      "ValueError: Known solvers are 'sparse_cg', 'cholesky', 'svd' 'lsqr', 'sag' or 'saga'. Got lbfgs.\n",
      "\n",
      "  warnings.warn(\"Estimator fit failed. The score on this train-test\"\n",
      "C:\\Users\\khade\\anaconda3\\lib\\site-packages\\sklearn\\model_selection\\_validation.py:610: FitFailedWarning: Estimator fit failed. The score on this train-test partition for these parameters will be set to nan. Details: \n",
      "Traceback (most recent call last):\n",
      "  File \"C:\\Users\\khade\\anaconda3\\lib\\site-packages\\sklearn\\model_selection\\_validation.py\", line 593, in _fit_and_score\n",
      "    estimator.fit(X_train, y_train, **fit_params)\n",
      "  File \"C:\\Users\\khade\\anaconda3\\lib\\site-packages\\sklearn\\linear_model\\_ridge.py\", line 945, in fit\n",
      "    super().fit(X, Y, sample_weight=sample_weight)\n",
      "  File \"C:\\Users\\khade\\anaconda3\\lib\\site-packages\\sklearn\\linear_model\\_ridge.py\", line 593, in fit\n",
      "    self.coef_, self.n_iter_ = _ridge_regression(\n",
      "  File \"C:\\Users\\khade\\anaconda3\\lib\\site-packages\\sklearn\\linear_model\\_ridge.py\", line 397, in _ridge_regression\n",
      "    raise ValueError(\"Known solvers are 'sparse_cg', 'cholesky', 'svd'\"\n",
      "ValueError: Known solvers are 'sparse_cg', 'cholesky', 'svd' 'lsqr', 'sag' or 'saga'. Got lbfgs.\n",
      "\n",
      "  warnings.warn(\"Estimator fit failed. The score on this train-test\"\n",
      "C:\\Users\\khade\\anaconda3\\lib\\site-packages\\sklearn\\model_selection\\_validation.py:610: FitFailedWarning: Estimator fit failed. The score on this train-test partition for these parameters will be set to nan. Details: \n",
      "Traceback (most recent call last):\n",
      "  File \"C:\\Users\\khade\\anaconda3\\lib\\site-packages\\sklearn\\model_selection\\_validation.py\", line 593, in _fit_and_score\n",
      "    estimator.fit(X_train, y_train, **fit_params)\n",
      "  File \"C:\\Users\\khade\\anaconda3\\lib\\site-packages\\sklearn\\linear_model\\_ridge.py\", line 945, in fit\n",
      "    super().fit(X, Y, sample_weight=sample_weight)\n",
      "  File \"C:\\Users\\khade\\anaconda3\\lib\\site-packages\\sklearn\\linear_model\\_ridge.py\", line 593, in fit\n",
      "    self.coef_, self.n_iter_ = _ridge_regression(\n",
      "  File \"C:\\Users\\khade\\anaconda3\\lib\\site-packages\\sklearn\\linear_model\\_ridge.py\", line 397, in _ridge_regression\n",
      "    raise ValueError(\"Known solvers are 'sparse_cg', 'cholesky', 'svd'\"\n",
      "ValueError: Known solvers are 'sparse_cg', 'cholesky', 'svd' 'lsqr', 'sag' or 'saga'. Got lbfgs.\n",
      "\n",
      "  warnings.warn(\"Estimator fit failed. The score on this train-test\"\n",
      "C:\\Users\\khade\\anaconda3\\lib\\site-packages\\sklearn\\model_selection\\_validation.py:610: FitFailedWarning: Estimator fit failed. The score on this train-test partition for these parameters will be set to nan. Details: \n",
      "Traceback (most recent call last):\n",
      "  File \"C:\\Users\\khade\\anaconda3\\lib\\site-packages\\sklearn\\model_selection\\_validation.py\", line 593, in _fit_and_score\n",
      "    estimator.fit(X_train, y_train, **fit_params)\n",
      "  File \"C:\\Users\\khade\\anaconda3\\lib\\site-packages\\sklearn\\linear_model\\_ridge.py\", line 945, in fit\n",
      "    super().fit(X, Y, sample_weight=sample_weight)\n",
      "  File \"C:\\Users\\khade\\anaconda3\\lib\\site-packages\\sklearn\\linear_model\\_ridge.py\", line 593, in fit\n",
      "    self.coef_, self.n_iter_ = _ridge_regression(\n",
      "  File \"C:\\Users\\khade\\anaconda3\\lib\\site-packages\\sklearn\\linear_model\\_ridge.py\", line 397, in _ridge_regression\n",
      "    raise ValueError(\"Known solvers are 'sparse_cg', 'cholesky', 'svd'\"\n",
      "ValueError: Known solvers are 'sparse_cg', 'cholesky', 'svd' 'lsqr', 'sag' or 'saga'. Got lbfgs.\n",
      "\n",
      "  warnings.warn(\"Estimator fit failed. The score on this train-test\"\n",
      "C:\\Users\\khade\\anaconda3\\lib\\site-packages\\sklearn\\model_selection\\_validation.py:610: FitFailedWarning: Estimator fit failed. The score on this train-test partition for these parameters will be set to nan. Details: \n",
      "Traceback (most recent call last):\n",
      "  File \"C:\\Users\\khade\\anaconda3\\lib\\site-packages\\sklearn\\model_selection\\_validation.py\", line 593, in _fit_and_score\n",
      "    estimator.fit(X_train, y_train, **fit_params)\n",
      "  File \"C:\\Users\\khade\\anaconda3\\lib\\site-packages\\sklearn\\linear_model\\_ridge.py\", line 945, in fit\n",
      "    super().fit(X, Y, sample_weight=sample_weight)\n",
      "  File \"C:\\Users\\khade\\anaconda3\\lib\\site-packages\\sklearn\\linear_model\\_ridge.py\", line 593, in fit\n",
      "    self.coef_, self.n_iter_ = _ridge_regression(\n",
      "  File \"C:\\Users\\khade\\anaconda3\\lib\\site-packages\\sklearn\\linear_model\\_ridge.py\", line 397, in _ridge_regression\n",
      "    raise ValueError(\"Known solvers are 'sparse_cg', 'cholesky', 'svd'\"\n",
      "ValueError: Known solvers are 'sparse_cg', 'cholesky', 'svd' 'lsqr', 'sag' or 'saga'. Got lbfgs.\n",
      "\n",
      "  warnings.warn(\"Estimator fit failed. The score on this train-test\"\n",
      "C:\\Users\\khade\\anaconda3\\lib\\site-packages\\sklearn\\model_selection\\_validation.py:610: FitFailedWarning: Estimator fit failed. The score on this train-test partition for these parameters will be set to nan. Details: \n",
      "Traceback (most recent call last):\n",
      "  File \"C:\\Users\\khade\\anaconda3\\lib\\site-packages\\sklearn\\model_selection\\_validation.py\", line 593, in _fit_and_score\n",
      "    estimator.fit(X_train, y_train, **fit_params)\n",
      "  File \"C:\\Users\\khade\\anaconda3\\lib\\site-packages\\sklearn\\linear_model\\_ridge.py\", line 945, in fit\n",
      "    super().fit(X, Y, sample_weight=sample_weight)\n",
      "  File \"C:\\Users\\khade\\anaconda3\\lib\\site-packages\\sklearn\\linear_model\\_ridge.py\", line 593, in fit\n",
      "    self.coef_, self.n_iter_ = _ridge_regression(\n",
      "  File \"C:\\Users\\khade\\anaconda3\\lib\\site-packages\\sklearn\\linear_model\\_ridge.py\", line 397, in _ridge_regression\n",
      "    raise ValueError(\"Known solvers are 'sparse_cg', 'cholesky', 'svd'\"\n",
      "ValueError: Known solvers are 'sparse_cg', 'cholesky', 'svd' 'lsqr', 'sag' or 'saga'. Got lbfgs.\n",
      "\n",
      "  warnings.warn(\"Estimator fit failed. The score on this train-test\"\n",
      "C:\\Users\\khade\\anaconda3\\lib\\site-packages\\sklearn\\model_selection\\_validation.py:610: FitFailedWarning: Estimator fit failed. The score on this train-test partition for these parameters will be set to nan. Details: \n",
      "Traceback (most recent call last):\n",
      "  File \"C:\\Users\\khade\\anaconda3\\lib\\site-packages\\sklearn\\model_selection\\_validation.py\", line 593, in _fit_and_score\n",
      "    estimator.fit(X_train, y_train, **fit_params)\n",
      "  File \"C:\\Users\\khade\\anaconda3\\lib\\site-packages\\sklearn\\linear_model\\_ridge.py\", line 945, in fit\n",
      "    super().fit(X, Y, sample_weight=sample_weight)\n",
      "  File \"C:\\Users\\khade\\anaconda3\\lib\\site-packages\\sklearn\\linear_model\\_ridge.py\", line 593, in fit\n",
      "    self.coef_, self.n_iter_ = _ridge_regression(\n",
      "  File \"C:\\Users\\khade\\anaconda3\\lib\\site-packages\\sklearn\\linear_model\\_ridge.py\", line 397, in _ridge_regression\n",
      "    raise ValueError(\"Known solvers are 'sparse_cg', 'cholesky', 'svd'\"\n",
      "ValueError: Known solvers are 'sparse_cg', 'cholesky', 'svd' 'lsqr', 'sag' or 'saga'. Got lbfgs.\n",
      "\n",
      "  warnings.warn(\"Estimator fit failed. The score on this train-test\"\n",
      "C:\\Users\\khade\\anaconda3\\lib\\site-packages\\sklearn\\model_selection\\_validation.py:610: FitFailedWarning: Estimator fit failed. The score on this train-test partition for these parameters will be set to nan. Details: \n",
      "Traceback (most recent call last):\n",
      "  File \"C:\\Users\\khade\\anaconda3\\lib\\site-packages\\sklearn\\model_selection\\_validation.py\", line 593, in _fit_and_score\n",
      "    estimator.fit(X_train, y_train, **fit_params)\n",
      "  File \"C:\\Users\\khade\\anaconda3\\lib\\site-packages\\sklearn\\linear_model\\_ridge.py\", line 945, in fit\n",
      "    super().fit(X, Y, sample_weight=sample_weight)\n",
      "  File \"C:\\Users\\khade\\anaconda3\\lib\\site-packages\\sklearn\\linear_model\\_ridge.py\", line 593, in fit\n",
      "    self.coef_, self.n_iter_ = _ridge_regression(\n",
      "  File \"C:\\Users\\khade\\anaconda3\\lib\\site-packages\\sklearn\\linear_model\\_ridge.py\", line 397, in _ridge_regression\n",
      "    raise ValueError(\"Known solvers are 'sparse_cg', 'cholesky', 'svd'\"\n",
      "ValueError: Known solvers are 'sparse_cg', 'cholesky', 'svd' 'lsqr', 'sag' or 'saga'. Got lbfgs.\n",
      "\n",
      "  warnings.warn(\"Estimator fit failed. The score on this train-test\"\n",
      "C:\\Users\\khade\\anaconda3\\lib\\site-packages\\sklearn\\model_selection\\_validation.py:610: FitFailedWarning: Estimator fit failed. The score on this train-test partition for these parameters will be set to nan. Details: \n",
      "Traceback (most recent call last):\n",
      "  File \"C:\\Users\\khade\\anaconda3\\lib\\site-packages\\sklearn\\model_selection\\_validation.py\", line 593, in _fit_and_score\n",
      "    estimator.fit(X_train, y_train, **fit_params)\n",
      "  File \"C:\\Users\\khade\\anaconda3\\lib\\site-packages\\sklearn\\linear_model\\_ridge.py\", line 945, in fit\n",
      "    super().fit(X, Y, sample_weight=sample_weight)\n",
      "  File \"C:\\Users\\khade\\anaconda3\\lib\\site-packages\\sklearn\\linear_model\\_ridge.py\", line 593, in fit\n",
      "    self.coef_, self.n_iter_ = _ridge_regression(\n",
      "  File \"C:\\Users\\khade\\anaconda3\\lib\\site-packages\\sklearn\\linear_model\\_ridge.py\", line 397, in _ridge_regression\n",
      "    raise ValueError(\"Known solvers are 'sparse_cg', 'cholesky', 'svd'\"\n",
      "ValueError: Known solvers are 'sparse_cg', 'cholesky', 'svd' 'lsqr', 'sag' or 'saga'. Got lbfgs.\n",
      "\n",
      "  warnings.warn(\"Estimator fit failed. The score on this train-test\"\n",
      "C:\\Users\\khade\\anaconda3\\lib\\site-packages\\sklearn\\model_selection\\_validation.py:610: FitFailedWarning: Estimator fit failed. The score on this train-test partition for these parameters will be set to nan. Details: \n",
      "Traceback (most recent call last):\n",
      "  File \"C:\\Users\\khade\\anaconda3\\lib\\site-packages\\sklearn\\model_selection\\_validation.py\", line 593, in _fit_and_score\n",
      "    estimator.fit(X_train, y_train, **fit_params)\n",
      "  File \"C:\\Users\\khade\\anaconda3\\lib\\site-packages\\sklearn\\linear_model\\_ridge.py\", line 945, in fit\n",
      "    super().fit(X, Y, sample_weight=sample_weight)\n",
      "  File \"C:\\Users\\khade\\anaconda3\\lib\\site-packages\\sklearn\\linear_model\\_ridge.py\", line 593, in fit\n",
      "    self.coef_, self.n_iter_ = _ridge_regression(\n",
      "  File \"C:\\Users\\khade\\anaconda3\\lib\\site-packages\\sklearn\\linear_model\\_ridge.py\", line 397, in _ridge_regression\n",
      "    raise ValueError(\"Known solvers are 'sparse_cg', 'cholesky', 'svd'\"\n",
      "ValueError: Known solvers are 'sparse_cg', 'cholesky', 'svd' 'lsqr', 'sag' or 'saga'. Got lbfgs.\n",
      "\n",
      "  warnings.warn(\"Estimator fit failed. The score on this train-test\"\n",
      "C:\\Users\\khade\\anaconda3\\lib\\site-packages\\sklearn\\model_selection\\_validation.py:610: FitFailedWarning: Estimator fit failed. The score on this train-test partition for these parameters will be set to nan. Details: \n",
      "Traceback (most recent call last):\n",
      "  File \"C:\\Users\\khade\\anaconda3\\lib\\site-packages\\sklearn\\model_selection\\_validation.py\", line 593, in _fit_and_score\n",
      "    estimator.fit(X_train, y_train, **fit_params)\n",
      "  File \"C:\\Users\\khade\\anaconda3\\lib\\site-packages\\sklearn\\linear_model\\_ridge.py\", line 945, in fit\n",
      "    super().fit(X, Y, sample_weight=sample_weight)\n",
      "  File \"C:\\Users\\khade\\anaconda3\\lib\\site-packages\\sklearn\\linear_model\\_ridge.py\", line 593, in fit\n",
      "    self.coef_, self.n_iter_ = _ridge_regression(\n",
      "  File \"C:\\Users\\khade\\anaconda3\\lib\\site-packages\\sklearn\\linear_model\\_ridge.py\", line 397, in _ridge_regression\n",
      "    raise ValueError(\"Known solvers are 'sparse_cg', 'cholesky', 'svd'\"\n",
      "ValueError: Known solvers are 'sparse_cg', 'cholesky', 'svd' 'lsqr', 'sag' or 'saga'. Got lbfgs.\n",
      "\n",
      "  warnings.warn(\"Estimator fit failed. The score on this train-test\"\n"
     ]
    },
    {
     "name": "stderr",
     "output_type": "stream",
     "text": [
      "C:\\Users\\khade\\anaconda3\\lib\\site-packages\\sklearn\\model_selection\\_validation.py:610: FitFailedWarning: Estimator fit failed. The score on this train-test partition for these parameters will be set to nan. Details: \n",
      "Traceback (most recent call last):\n",
      "  File \"C:\\Users\\khade\\anaconda3\\lib\\site-packages\\sklearn\\model_selection\\_validation.py\", line 593, in _fit_and_score\n",
      "    estimator.fit(X_train, y_train, **fit_params)\n",
      "  File \"C:\\Users\\khade\\anaconda3\\lib\\site-packages\\sklearn\\linear_model\\_ridge.py\", line 945, in fit\n",
      "    super().fit(X, Y, sample_weight=sample_weight)\n",
      "  File \"C:\\Users\\khade\\anaconda3\\lib\\site-packages\\sklearn\\linear_model\\_ridge.py\", line 593, in fit\n",
      "    self.coef_, self.n_iter_ = _ridge_regression(\n",
      "  File \"C:\\Users\\khade\\anaconda3\\lib\\site-packages\\sklearn\\linear_model\\_ridge.py\", line 397, in _ridge_regression\n",
      "    raise ValueError(\"Known solvers are 'sparse_cg', 'cholesky', 'svd'\"\n",
      "ValueError: Known solvers are 'sparse_cg', 'cholesky', 'svd' 'lsqr', 'sag' or 'saga'. Got lbfgs.\n",
      "\n",
      "  warnings.warn(\"Estimator fit failed. The score on this train-test\"\n",
      "C:\\Users\\khade\\anaconda3\\lib\\site-packages\\sklearn\\model_selection\\_validation.py:610: FitFailedWarning: Estimator fit failed. The score on this train-test partition for these parameters will be set to nan. Details: \n",
      "Traceback (most recent call last):\n",
      "  File \"C:\\Users\\khade\\anaconda3\\lib\\site-packages\\sklearn\\model_selection\\_validation.py\", line 593, in _fit_and_score\n",
      "    estimator.fit(X_train, y_train, **fit_params)\n",
      "  File \"C:\\Users\\khade\\anaconda3\\lib\\site-packages\\sklearn\\linear_model\\_ridge.py\", line 945, in fit\n",
      "    super().fit(X, Y, sample_weight=sample_weight)\n",
      "  File \"C:\\Users\\khade\\anaconda3\\lib\\site-packages\\sklearn\\linear_model\\_ridge.py\", line 593, in fit\n",
      "    self.coef_, self.n_iter_ = _ridge_regression(\n",
      "  File \"C:\\Users\\khade\\anaconda3\\lib\\site-packages\\sklearn\\linear_model\\_ridge.py\", line 397, in _ridge_regression\n",
      "    raise ValueError(\"Known solvers are 'sparse_cg', 'cholesky', 'svd'\"\n",
      "ValueError: Known solvers are 'sparse_cg', 'cholesky', 'svd' 'lsqr', 'sag' or 'saga'. Got lbfgs.\n",
      "\n",
      "  warnings.warn(\"Estimator fit failed. The score on this train-test\"\n",
      "C:\\Users\\khade\\anaconda3\\lib\\site-packages\\sklearn\\model_selection\\_validation.py:610: FitFailedWarning: Estimator fit failed. The score on this train-test partition for these parameters will be set to nan. Details: \n",
      "Traceback (most recent call last):\n",
      "  File \"C:\\Users\\khade\\anaconda3\\lib\\site-packages\\sklearn\\model_selection\\_validation.py\", line 593, in _fit_and_score\n",
      "    estimator.fit(X_train, y_train, **fit_params)\n",
      "  File \"C:\\Users\\khade\\anaconda3\\lib\\site-packages\\sklearn\\linear_model\\_ridge.py\", line 945, in fit\n",
      "    super().fit(X, Y, sample_weight=sample_weight)\n",
      "  File \"C:\\Users\\khade\\anaconda3\\lib\\site-packages\\sklearn\\linear_model\\_ridge.py\", line 593, in fit\n",
      "    self.coef_, self.n_iter_ = _ridge_regression(\n",
      "  File \"C:\\Users\\khade\\anaconda3\\lib\\site-packages\\sklearn\\linear_model\\_ridge.py\", line 397, in _ridge_regression\n",
      "    raise ValueError(\"Known solvers are 'sparse_cg', 'cholesky', 'svd'\"\n",
      "ValueError: Known solvers are 'sparse_cg', 'cholesky', 'svd' 'lsqr', 'sag' or 'saga'. Got lbfgs.\n",
      "\n",
      "  warnings.warn(\"Estimator fit failed. The score on this train-test\"\n",
      "C:\\Users\\khade\\anaconda3\\lib\\site-packages\\sklearn\\model_selection\\_validation.py:610: FitFailedWarning: Estimator fit failed. The score on this train-test partition for these parameters will be set to nan. Details: \n",
      "Traceback (most recent call last):\n",
      "  File \"C:\\Users\\khade\\anaconda3\\lib\\site-packages\\sklearn\\model_selection\\_validation.py\", line 593, in _fit_and_score\n",
      "    estimator.fit(X_train, y_train, **fit_params)\n",
      "  File \"C:\\Users\\khade\\anaconda3\\lib\\site-packages\\sklearn\\linear_model\\_ridge.py\", line 945, in fit\n",
      "    super().fit(X, Y, sample_weight=sample_weight)\n",
      "  File \"C:\\Users\\khade\\anaconda3\\lib\\site-packages\\sklearn\\linear_model\\_ridge.py\", line 593, in fit\n",
      "    self.coef_, self.n_iter_ = _ridge_regression(\n",
      "  File \"C:\\Users\\khade\\anaconda3\\lib\\site-packages\\sklearn\\linear_model\\_ridge.py\", line 397, in _ridge_regression\n",
      "    raise ValueError(\"Known solvers are 'sparse_cg', 'cholesky', 'svd'\"\n",
      "ValueError: Known solvers are 'sparse_cg', 'cholesky', 'svd' 'lsqr', 'sag' or 'saga'. Got lbfgs.\n",
      "\n",
      "  warnings.warn(\"Estimator fit failed. The score on this train-test\"\n",
      "C:\\Users\\khade\\anaconda3\\lib\\site-packages\\sklearn\\model_selection\\_validation.py:610: FitFailedWarning: Estimator fit failed. The score on this train-test partition for these parameters will be set to nan. Details: \n",
      "Traceback (most recent call last):\n",
      "  File \"C:\\Users\\khade\\anaconda3\\lib\\site-packages\\sklearn\\model_selection\\_validation.py\", line 593, in _fit_and_score\n",
      "    estimator.fit(X_train, y_train, **fit_params)\n",
      "  File \"C:\\Users\\khade\\anaconda3\\lib\\site-packages\\sklearn\\linear_model\\_ridge.py\", line 945, in fit\n",
      "    super().fit(X, Y, sample_weight=sample_weight)\n",
      "  File \"C:\\Users\\khade\\anaconda3\\lib\\site-packages\\sklearn\\linear_model\\_ridge.py\", line 593, in fit\n",
      "    self.coef_, self.n_iter_ = _ridge_regression(\n",
      "  File \"C:\\Users\\khade\\anaconda3\\lib\\site-packages\\sklearn\\linear_model\\_ridge.py\", line 397, in _ridge_regression\n",
      "    raise ValueError(\"Known solvers are 'sparse_cg', 'cholesky', 'svd'\"\n",
      "ValueError: Known solvers are 'sparse_cg', 'cholesky', 'svd' 'lsqr', 'sag' or 'saga'. Got lbfgs.\n",
      "\n",
      "  warnings.warn(\"Estimator fit failed. The score on this train-test\"\n",
      "C:\\Users\\khade\\anaconda3\\lib\\site-packages\\sklearn\\model_selection\\_validation.py:610: FitFailedWarning: Estimator fit failed. The score on this train-test partition for these parameters will be set to nan. Details: \n",
      "Traceback (most recent call last):\n",
      "  File \"C:\\Users\\khade\\anaconda3\\lib\\site-packages\\sklearn\\model_selection\\_validation.py\", line 593, in _fit_and_score\n",
      "    estimator.fit(X_train, y_train, **fit_params)\n",
      "  File \"C:\\Users\\khade\\anaconda3\\lib\\site-packages\\sklearn\\linear_model\\_ridge.py\", line 945, in fit\n",
      "    super().fit(X, Y, sample_weight=sample_weight)\n",
      "  File \"C:\\Users\\khade\\anaconda3\\lib\\site-packages\\sklearn\\linear_model\\_ridge.py\", line 593, in fit\n",
      "    self.coef_, self.n_iter_ = _ridge_regression(\n",
      "  File \"C:\\Users\\khade\\anaconda3\\lib\\site-packages\\sklearn\\linear_model\\_ridge.py\", line 397, in _ridge_regression\n",
      "    raise ValueError(\"Known solvers are 'sparse_cg', 'cholesky', 'svd'\"\n",
      "ValueError: Known solvers are 'sparse_cg', 'cholesky', 'svd' 'lsqr', 'sag' or 'saga'. Got lbfgs.\n",
      "\n",
      "  warnings.warn(\"Estimator fit failed. The score on this train-test\"\n",
      "C:\\Users\\khade\\anaconda3\\lib\\site-packages\\sklearn\\model_selection\\_validation.py:610: FitFailedWarning: Estimator fit failed. The score on this train-test partition for these parameters will be set to nan. Details: \n",
      "Traceback (most recent call last):\n",
      "  File \"C:\\Users\\khade\\anaconda3\\lib\\site-packages\\sklearn\\model_selection\\_validation.py\", line 593, in _fit_and_score\n",
      "    estimator.fit(X_train, y_train, **fit_params)\n",
      "  File \"C:\\Users\\khade\\anaconda3\\lib\\site-packages\\sklearn\\linear_model\\_ridge.py\", line 945, in fit\n",
      "    super().fit(X, Y, sample_weight=sample_weight)\n",
      "  File \"C:\\Users\\khade\\anaconda3\\lib\\site-packages\\sklearn\\linear_model\\_ridge.py\", line 593, in fit\n",
      "    self.coef_, self.n_iter_ = _ridge_regression(\n",
      "  File \"C:\\Users\\khade\\anaconda3\\lib\\site-packages\\sklearn\\linear_model\\_ridge.py\", line 397, in _ridge_regression\n",
      "    raise ValueError(\"Known solvers are 'sparse_cg', 'cholesky', 'svd'\"\n",
      "ValueError: Known solvers are 'sparse_cg', 'cholesky', 'svd' 'lsqr', 'sag' or 'saga'. Got lbfgs.\n",
      "\n",
      "  warnings.warn(\"Estimator fit failed. The score on this train-test\"\n",
      "C:\\Users\\khade\\anaconda3\\lib\\site-packages\\sklearn\\model_selection\\_validation.py:610: FitFailedWarning: Estimator fit failed. The score on this train-test partition for these parameters will be set to nan. Details: \n",
      "Traceback (most recent call last):\n",
      "  File \"C:\\Users\\khade\\anaconda3\\lib\\site-packages\\sklearn\\model_selection\\_validation.py\", line 593, in _fit_and_score\n",
      "    estimator.fit(X_train, y_train, **fit_params)\n",
      "  File \"C:\\Users\\khade\\anaconda3\\lib\\site-packages\\sklearn\\linear_model\\_ridge.py\", line 945, in fit\n",
      "    super().fit(X, Y, sample_weight=sample_weight)\n",
      "  File \"C:\\Users\\khade\\anaconda3\\lib\\site-packages\\sklearn\\linear_model\\_ridge.py\", line 593, in fit\n",
      "    self.coef_, self.n_iter_ = _ridge_regression(\n",
      "  File \"C:\\Users\\khade\\anaconda3\\lib\\site-packages\\sklearn\\linear_model\\_ridge.py\", line 397, in _ridge_regression\n",
      "    raise ValueError(\"Known solvers are 'sparse_cg', 'cholesky', 'svd'\"\n",
      "ValueError: Known solvers are 'sparse_cg', 'cholesky', 'svd' 'lsqr', 'sag' or 'saga'. Got lbfgs.\n",
      "\n",
      "  warnings.warn(\"Estimator fit failed. The score on this train-test\"\n",
      "C:\\Users\\khade\\anaconda3\\lib\\site-packages\\sklearn\\model_selection\\_validation.py:610: FitFailedWarning: Estimator fit failed. The score on this train-test partition for these parameters will be set to nan. Details: \n",
      "Traceback (most recent call last):\n",
      "  File \"C:\\Users\\khade\\anaconda3\\lib\\site-packages\\sklearn\\model_selection\\_validation.py\", line 593, in _fit_and_score\n",
      "    estimator.fit(X_train, y_train, **fit_params)\n",
      "  File \"C:\\Users\\khade\\anaconda3\\lib\\site-packages\\sklearn\\linear_model\\_ridge.py\", line 945, in fit\n",
      "    super().fit(X, Y, sample_weight=sample_weight)\n",
      "  File \"C:\\Users\\khade\\anaconda3\\lib\\site-packages\\sklearn\\linear_model\\_ridge.py\", line 593, in fit\n",
      "    self.coef_, self.n_iter_ = _ridge_regression(\n",
      "  File \"C:\\Users\\khade\\anaconda3\\lib\\site-packages\\sklearn\\linear_model\\_ridge.py\", line 397, in _ridge_regression\n",
      "    raise ValueError(\"Known solvers are 'sparse_cg', 'cholesky', 'svd'\"\n",
      "ValueError: Known solvers are 'sparse_cg', 'cholesky', 'svd' 'lsqr', 'sag' or 'saga'. Got lbfgs.\n",
      "\n",
      "  warnings.warn(\"Estimator fit failed. The score on this train-test\"\n",
      "C:\\Users\\khade\\anaconda3\\lib\\site-packages\\sklearn\\model_selection\\_validation.py:610: FitFailedWarning: Estimator fit failed. The score on this train-test partition for these parameters will be set to nan. Details: \n",
      "Traceback (most recent call last):\n",
      "  File \"C:\\Users\\khade\\anaconda3\\lib\\site-packages\\sklearn\\model_selection\\_validation.py\", line 593, in _fit_and_score\n",
      "    estimator.fit(X_train, y_train, **fit_params)\n",
      "  File \"C:\\Users\\khade\\anaconda3\\lib\\site-packages\\sklearn\\linear_model\\_ridge.py\", line 945, in fit\n",
      "    super().fit(X, Y, sample_weight=sample_weight)\n",
      "  File \"C:\\Users\\khade\\anaconda3\\lib\\site-packages\\sklearn\\linear_model\\_ridge.py\", line 593, in fit\n",
      "    self.coef_, self.n_iter_ = _ridge_regression(\n",
      "  File \"C:\\Users\\khade\\anaconda3\\lib\\site-packages\\sklearn\\linear_model\\_ridge.py\", line 397, in _ridge_regression\n",
      "    raise ValueError(\"Known solvers are 'sparse_cg', 'cholesky', 'svd'\"\n",
      "ValueError: Known solvers are 'sparse_cg', 'cholesky', 'svd' 'lsqr', 'sag' or 'saga'. Got lbfgs.\n",
      "\n",
      "  warnings.warn(\"Estimator fit failed. The score on this train-test\"\n",
      "C:\\Users\\khade\\anaconda3\\lib\\site-packages\\sklearn\\model_selection\\_validation.py:610: FitFailedWarning: Estimator fit failed. The score on this train-test partition for these parameters will be set to nan. Details: \n",
      "Traceback (most recent call last):\n",
      "  File \"C:\\Users\\khade\\anaconda3\\lib\\site-packages\\sklearn\\model_selection\\_validation.py\", line 593, in _fit_and_score\n",
      "    estimator.fit(X_train, y_train, **fit_params)\n",
      "  File \"C:\\Users\\khade\\anaconda3\\lib\\site-packages\\sklearn\\linear_model\\_ridge.py\", line 945, in fit\n",
      "    super().fit(X, Y, sample_weight=sample_weight)\n",
      "  File \"C:\\Users\\khade\\anaconda3\\lib\\site-packages\\sklearn\\linear_model\\_ridge.py\", line 593, in fit\n",
      "    self.coef_, self.n_iter_ = _ridge_regression(\n",
      "  File \"C:\\Users\\khade\\anaconda3\\lib\\site-packages\\sklearn\\linear_model\\_ridge.py\", line 397, in _ridge_regression\n",
      "    raise ValueError(\"Known solvers are 'sparse_cg', 'cholesky', 'svd'\"\n",
      "ValueError: Known solvers are 'sparse_cg', 'cholesky', 'svd' 'lsqr', 'sag' or 'saga'. Got lbfgs.\n",
      "\n",
      "  warnings.warn(\"Estimator fit failed. The score on this train-test\"\n",
      "C:\\Users\\khade\\anaconda3\\lib\\site-packages\\sklearn\\model_selection\\_validation.py:610: FitFailedWarning: Estimator fit failed. The score on this train-test partition for these parameters will be set to nan. Details: \n",
      "Traceback (most recent call last):\n",
      "  File \"C:\\Users\\khade\\anaconda3\\lib\\site-packages\\sklearn\\model_selection\\_validation.py\", line 593, in _fit_and_score\n",
      "    estimator.fit(X_train, y_train, **fit_params)\n",
      "  File \"C:\\Users\\khade\\anaconda3\\lib\\site-packages\\sklearn\\linear_model\\_ridge.py\", line 945, in fit\n",
      "    super().fit(X, Y, sample_weight=sample_weight)\n",
      "  File \"C:\\Users\\khade\\anaconda3\\lib\\site-packages\\sklearn\\linear_model\\_ridge.py\", line 593, in fit\n",
      "    self.coef_, self.n_iter_ = _ridge_regression(\n",
      "  File \"C:\\Users\\khade\\anaconda3\\lib\\site-packages\\sklearn\\linear_model\\_ridge.py\", line 397, in _ridge_regression\n",
      "    raise ValueError(\"Known solvers are 'sparse_cg', 'cholesky', 'svd'\"\n",
      "ValueError: Known solvers are 'sparse_cg', 'cholesky', 'svd' 'lsqr', 'sag' or 'saga'. Got lbfgs.\n",
      "\n",
      "  warnings.warn(\"Estimator fit failed. The score on this train-test\"\n",
      "C:\\Users\\khade\\anaconda3\\lib\\site-packages\\sklearn\\model_selection\\_validation.py:610: FitFailedWarning: Estimator fit failed. The score on this train-test partition for these parameters will be set to nan. Details: \n",
      "Traceback (most recent call last):\n",
      "  File \"C:\\Users\\khade\\anaconda3\\lib\\site-packages\\sklearn\\model_selection\\_validation.py\", line 593, in _fit_and_score\n",
      "    estimator.fit(X_train, y_train, **fit_params)\n",
      "  File \"C:\\Users\\khade\\anaconda3\\lib\\site-packages\\sklearn\\linear_model\\_ridge.py\", line 945, in fit\n",
      "    super().fit(X, Y, sample_weight=sample_weight)\n",
      "  File \"C:\\Users\\khade\\anaconda3\\lib\\site-packages\\sklearn\\linear_model\\_ridge.py\", line 593, in fit\n",
      "    self.coef_, self.n_iter_ = _ridge_regression(\n",
      "  File \"C:\\Users\\khade\\anaconda3\\lib\\site-packages\\sklearn\\linear_model\\_ridge.py\", line 397, in _ridge_regression\n",
      "    raise ValueError(\"Known solvers are 'sparse_cg', 'cholesky', 'svd'\"\n",
      "ValueError: Known solvers are 'sparse_cg', 'cholesky', 'svd' 'lsqr', 'sag' or 'saga'. Got lbfgs.\n",
      "\n",
      "  warnings.warn(\"Estimator fit failed. The score on this train-test\"\n",
      "C:\\Users\\khade\\anaconda3\\lib\\site-packages\\sklearn\\model_selection\\_validation.py:610: FitFailedWarning: Estimator fit failed. The score on this train-test partition for these parameters will be set to nan. Details: \n",
      "Traceback (most recent call last):\n",
      "  File \"C:\\Users\\khade\\anaconda3\\lib\\site-packages\\sklearn\\model_selection\\_validation.py\", line 593, in _fit_and_score\n",
      "    estimator.fit(X_train, y_train, **fit_params)\n",
      "  File \"C:\\Users\\khade\\anaconda3\\lib\\site-packages\\sklearn\\linear_model\\_ridge.py\", line 945, in fit\n",
      "    super().fit(X, Y, sample_weight=sample_weight)\n",
      "  File \"C:\\Users\\khade\\anaconda3\\lib\\site-packages\\sklearn\\linear_model\\_ridge.py\", line 593, in fit\n",
      "    self.coef_, self.n_iter_ = _ridge_regression(\n",
      "  File \"C:\\Users\\khade\\anaconda3\\lib\\site-packages\\sklearn\\linear_model\\_ridge.py\", line 397, in _ridge_regression\n",
      "    raise ValueError(\"Known solvers are 'sparse_cg', 'cholesky', 'svd'\"\n",
      "ValueError: Known solvers are 'sparse_cg', 'cholesky', 'svd' 'lsqr', 'sag' or 'saga'. Got lbfgs.\n",
      "\n",
      "  warnings.warn(\"Estimator fit failed. The score on this train-test\"\n",
      "C:\\Users\\khade\\anaconda3\\lib\\site-packages\\sklearn\\model_selection\\_validation.py:610: FitFailedWarning: Estimator fit failed. The score on this train-test partition for these parameters will be set to nan. Details: \n",
      "Traceback (most recent call last):\n",
      "  File \"C:\\Users\\khade\\anaconda3\\lib\\site-packages\\sklearn\\model_selection\\_validation.py\", line 593, in _fit_and_score\n",
      "    estimator.fit(X_train, y_train, **fit_params)\n",
      "  File \"C:\\Users\\khade\\anaconda3\\lib\\site-packages\\sklearn\\linear_model\\_ridge.py\", line 945, in fit\n",
      "    super().fit(X, Y, sample_weight=sample_weight)\n",
      "  File \"C:\\Users\\khade\\anaconda3\\lib\\site-packages\\sklearn\\linear_model\\_ridge.py\", line 593, in fit\n",
      "    self.coef_, self.n_iter_ = _ridge_regression(\n",
      "  File \"C:\\Users\\khade\\anaconda3\\lib\\site-packages\\sklearn\\linear_model\\_ridge.py\", line 397, in _ridge_regression\n",
      "    raise ValueError(\"Known solvers are 'sparse_cg', 'cholesky', 'svd'\"\n",
      "ValueError: Known solvers are 'sparse_cg', 'cholesky', 'svd' 'lsqr', 'sag' or 'saga'. Got lbfgs.\n",
      "\n",
      "  warnings.warn(\"Estimator fit failed. The score on this train-test\"\n"
     ]
    },
    {
     "name": "stderr",
     "output_type": "stream",
     "text": [
      "C:\\Users\\khade\\anaconda3\\lib\\site-packages\\sklearn\\model_selection\\_validation.py:610: FitFailedWarning: Estimator fit failed. The score on this train-test partition for these parameters will be set to nan. Details: \n",
      "Traceback (most recent call last):\n",
      "  File \"C:\\Users\\khade\\anaconda3\\lib\\site-packages\\sklearn\\model_selection\\_validation.py\", line 593, in _fit_and_score\n",
      "    estimator.fit(X_train, y_train, **fit_params)\n",
      "  File \"C:\\Users\\khade\\anaconda3\\lib\\site-packages\\sklearn\\linear_model\\_ridge.py\", line 945, in fit\n",
      "    super().fit(X, Y, sample_weight=sample_weight)\n",
      "  File \"C:\\Users\\khade\\anaconda3\\lib\\site-packages\\sklearn\\linear_model\\_ridge.py\", line 593, in fit\n",
      "    self.coef_, self.n_iter_ = _ridge_regression(\n",
      "  File \"C:\\Users\\khade\\anaconda3\\lib\\site-packages\\sklearn\\linear_model\\_ridge.py\", line 397, in _ridge_regression\n",
      "    raise ValueError(\"Known solvers are 'sparse_cg', 'cholesky', 'svd'\"\n",
      "ValueError: Known solvers are 'sparse_cg', 'cholesky', 'svd' 'lsqr', 'sag' or 'saga'. Got lbfgs.\n",
      "\n",
      "  warnings.warn(\"Estimator fit failed. The score on this train-test\"\n",
      "C:\\Users\\khade\\anaconda3\\lib\\site-packages\\sklearn\\model_selection\\_validation.py:610: FitFailedWarning: Estimator fit failed. The score on this train-test partition for these parameters will be set to nan. Details: \n",
      "Traceback (most recent call last):\n",
      "  File \"C:\\Users\\khade\\anaconda3\\lib\\site-packages\\sklearn\\model_selection\\_validation.py\", line 593, in _fit_and_score\n",
      "    estimator.fit(X_train, y_train, **fit_params)\n",
      "  File \"C:\\Users\\khade\\anaconda3\\lib\\site-packages\\sklearn\\linear_model\\_ridge.py\", line 945, in fit\n",
      "    super().fit(X, Y, sample_weight=sample_weight)\n",
      "  File \"C:\\Users\\khade\\anaconda3\\lib\\site-packages\\sklearn\\linear_model\\_ridge.py\", line 593, in fit\n",
      "    self.coef_, self.n_iter_ = _ridge_regression(\n",
      "  File \"C:\\Users\\khade\\anaconda3\\lib\\site-packages\\sklearn\\linear_model\\_ridge.py\", line 397, in _ridge_regression\n",
      "    raise ValueError(\"Known solvers are 'sparse_cg', 'cholesky', 'svd'\"\n",
      "ValueError: Known solvers are 'sparse_cg', 'cholesky', 'svd' 'lsqr', 'sag' or 'saga'. Got lbfgs.\n",
      "\n",
      "  warnings.warn(\"Estimator fit failed. The score on this train-test\"\n",
      "C:\\Users\\khade\\anaconda3\\lib\\site-packages\\sklearn\\model_selection\\_validation.py:610: FitFailedWarning: Estimator fit failed. The score on this train-test partition for these parameters will be set to nan. Details: \n",
      "Traceback (most recent call last):\n",
      "  File \"C:\\Users\\khade\\anaconda3\\lib\\site-packages\\sklearn\\model_selection\\_validation.py\", line 593, in _fit_and_score\n",
      "    estimator.fit(X_train, y_train, **fit_params)\n",
      "  File \"C:\\Users\\khade\\anaconda3\\lib\\site-packages\\sklearn\\linear_model\\_ridge.py\", line 945, in fit\n",
      "    super().fit(X, Y, sample_weight=sample_weight)\n",
      "  File \"C:\\Users\\khade\\anaconda3\\lib\\site-packages\\sklearn\\linear_model\\_ridge.py\", line 593, in fit\n",
      "    self.coef_, self.n_iter_ = _ridge_regression(\n",
      "  File \"C:\\Users\\khade\\anaconda3\\lib\\site-packages\\sklearn\\linear_model\\_ridge.py\", line 397, in _ridge_regression\n",
      "    raise ValueError(\"Known solvers are 'sparse_cg', 'cholesky', 'svd'\"\n",
      "ValueError: Known solvers are 'sparse_cg', 'cholesky', 'svd' 'lsqr', 'sag' or 'saga'. Got lbfgs.\n",
      "\n",
      "  warnings.warn(\"Estimator fit failed. The score on this train-test\"\n",
      "C:\\Users\\khade\\anaconda3\\lib\\site-packages\\sklearn\\model_selection\\_validation.py:610: FitFailedWarning: Estimator fit failed. The score on this train-test partition for these parameters will be set to nan. Details: \n",
      "Traceback (most recent call last):\n",
      "  File \"C:\\Users\\khade\\anaconda3\\lib\\site-packages\\sklearn\\model_selection\\_validation.py\", line 593, in _fit_and_score\n",
      "    estimator.fit(X_train, y_train, **fit_params)\n",
      "  File \"C:\\Users\\khade\\anaconda3\\lib\\site-packages\\sklearn\\linear_model\\_ridge.py\", line 945, in fit\n",
      "    super().fit(X, Y, sample_weight=sample_weight)\n",
      "  File \"C:\\Users\\khade\\anaconda3\\lib\\site-packages\\sklearn\\linear_model\\_ridge.py\", line 593, in fit\n",
      "    self.coef_, self.n_iter_ = _ridge_regression(\n",
      "  File \"C:\\Users\\khade\\anaconda3\\lib\\site-packages\\sklearn\\linear_model\\_ridge.py\", line 397, in _ridge_regression\n",
      "    raise ValueError(\"Known solvers are 'sparse_cg', 'cholesky', 'svd'\"\n",
      "ValueError: Known solvers are 'sparse_cg', 'cholesky', 'svd' 'lsqr', 'sag' or 'saga'. Got lbfgs.\n",
      "\n",
      "  warnings.warn(\"Estimator fit failed. The score on this train-test\"\n",
      "C:\\Users\\khade\\anaconda3\\lib\\site-packages\\sklearn\\model_selection\\_validation.py:610: FitFailedWarning: Estimator fit failed. The score on this train-test partition for these parameters will be set to nan. Details: \n",
      "Traceback (most recent call last):\n",
      "  File \"C:\\Users\\khade\\anaconda3\\lib\\site-packages\\sklearn\\model_selection\\_validation.py\", line 593, in _fit_and_score\n",
      "    estimator.fit(X_train, y_train, **fit_params)\n",
      "  File \"C:\\Users\\khade\\anaconda3\\lib\\site-packages\\sklearn\\linear_model\\_ridge.py\", line 945, in fit\n",
      "    super().fit(X, Y, sample_weight=sample_weight)\n",
      "  File \"C:\\Users\\khade\\anaconda3\\lib\\site-packages\\sklearn\\linear_model\\_ridge.py\", line 593, in fit\n",
      "    self.coef_, self.n_iter_ = _ridge_regression(\n",
      "  File \"C:\\Users\\khade\\anaconda3\\lib\\site-packages\\sklearn\\linear_model\\_ridge.py\", line 397, in _ridge_regression\n",
      "    raise ValueError(\"Known solvers are 'sparse_cg', 'cholesky', 'svd'\"\n",
      "ValueError: Known solvers are 'sparse_cg', 'cholesky', 'svd' 'lsqr', 'sag' or 'saga'. Got lbfgs.\n",
      "\n",
      "  warnings.warn(\"Estimator fit failed. The score on this train-test\"\n"
     ]
    },
    {
     "name": "stdout",
     "output_type": "stream",
     "text": [
      "0.8295454545454546\n"
     ]
    },
    {
     "name": "stderr",
     "output_type": "stream",
     "text": [
      "C:\\Users\\khade\\anaconda3\\lib\\site-packages\\sklearn\\model_selection\\_search.py:918: UserWarning: One or more of the test scores are non-finite: [0.85551524 0.85936139 0.85551524 0.87068215 0.86683599 0.85936139\n",
      " 0.87068215 0.87068215        nan 0.85936139 0.87068215 0.85551524\n",
      " 0.87068215 0.85936139 0.85936139 0.85936139        nan 0.85936139\n",
      "        nan 0.86683599 0.86683599 0.85936139 0.85936139        nan\n",
      " 0.86683599 0.85558781 0.85936139 0.85936139 0.85936139 0.85936139\n",
      " 0.85558781 0.85936139 0.87068215        nan        nan 0.85936139\n",
      " 0.85551524 0.85936139 0.85936139 0.85558781        nan 0.85936139\n",
      " 0.87068215 0.85936139 0.86683599 0.85936139 0.85558781 0.86690856\n",
      " 0.87068215 0.85551524]\n",
      "  warnings.warn(\n"
     ]
    }
   ],
   "source": [
    "model1 = RC()\n",
    "model1 = RS(model1, RC_hyperparameters, n_iter=50)\n",
    "model1.fit(xtrain, ytrain)\n",
    "model1.best_params_\n",
    "ypred1 = model1.predict(xtest)\n",
    "print(f'{accuracy_score(ytest, ypred1)}')"
   ]
  },
  {
   "cell_type": "code",
   "execution_count": 23,
   "id": "97844400",
   "metadata": {},
   "outputs": [
    {
     "name": "stdout",
     "output_type": "stream",
     "text": [
      "{'tol': 0.001, 'solver': 'sparse_cg', 'normalize': True, 'max_iter': 600, 'alpha': 0.75}\n"
     ]
    }
   ],
   "source": [
    "model1.best_params_\n",
    "print(model1.best_params_)"
   ]
  },
  {
   "cell_type": "code",
   "execution_count": 24,
   "id": "842a1e33",
   "metadata": {},
   "outputs": [
    {
     "name": "stdout",
     "output_type": "stream",
     "text": [
      "0.7954545454545454\n"
     ]
    }
   ],
   "source": [
    "from sklearn.neighbors import KNeighborsClassifier as KN\n",
    "model3 = KN(n_neighbors=5, weights='uniform', algorithm='auto', leaf_size=30)\n",
    "model3.fit(xtrain, ytrain)\n",
    "ypred = model3.predict(xtest)\n",
    "print(f'{accuracy_score(ytest, ypred)}')\n"
   ]
  },
  {
   "cell_type": "code",
   "execution_count": 25,
   "id": "615f4c97",
   "metadata": {},
   "outputs": [],
   "source": [
    "KN_hyperparameters = {\n",
    "    'n_neighbors' : [2, 3, 4, 5, 6, 7, 8, 9, 10],\n",
    "    'weights' : ['uniform', 'distance'], \n",
    "    'algorithm' : ['auto', 'ball_tree', 'kd_tree', 'brute'],\n",
    "    'leaf_size' : [10, 20, 30, 40, 50, 60, 70, 80, 90, 100]\n",
    "}"
   ]
  },
  {
   "cell_type": "code",
   "execution_count": 26,
   "id": "8b48c000",
   "metadata": {},
   "outputs": [
    {
     "name": "stdout",
     "output_type": "stream",
     "text": [
      "0.8295454545454546\n"
     ]
    }
   ],
   "source": [
    "model4 = KN()\n",
    "model4 = RS(model4, KN_hyperparameters, n_iter=50)\n",
    "model4.fit(xtrain, ytrain)\n",
    "model4.best_params_\n",
    "ypred4 = model4.predict(xtest)\n",
    "print(f'{accuracy_score(ytest, ypred4)}')"
   ]
  },
  {
   "cell_type": "code",
   "execution_count": 27,
   "id": "f2e8f4d2",
   "metadata": {},
   "outputs": [
    {
     "data": {
      "image/png": "[encoded data removed]",
      "text/plain": [
       "<Figure size 432x288 with 2 Axes>"
      ]
     },
     "metadata": {
      "needs_background": "dark"
     },
     "output_type": "display_data"
    }
   ],
   "source": [
    "import matplotlib.pyplot as plt\n",
    "from sklearn.metrics import plot_confusion_matrix\n",
    " \n",
    "color = 'white'\n",
    "matrix = plot_confusion_matrix(model4, xtest, ytest, cmap=plt.cm.Blues)\n",
    "matrix.ax_.set_title('Confusion Matrix', color=color)\n",
    "plt.xlabel('Predicted Label', color=color)\n",
    "plt.ylabel('True Label', color=color)\n",
    "plt.gcf().axes[0].tick_params(colors=color)\n",
    "plt.gcf().axes[1].tick_params(colors=color)\n",
    "plt.show()\n"
   ]
  },
  {
   "cell_type": "code",
   "execution_count": 28,
   "id": "92043af4",
   "metadata": {},
   "outputs": [
    {
     "name": "stdout",
     "output_type": "stream",
     "text": [
      "              precision    recall  f1-score   support\n",
      "\n",
      "           0       0.94      0.53      0.68        30\n",
      "           1       0.80      0.98      0.88        58\n",
      "\n",
      "    accuracy                           0.83        88\n",
      "   macro avg       0.87      0.76      0.78        88\n",
      "weighted avg       0.85      0.83      0.81        88\n",
      "\n"
     ]
    },
    {
     "data": {
      "text/plain": [
       "array([0.94117647, 0.8028169 ])"
      ]
     },
     "execution_count": 28,
     "metadata": {},
     "output_type": "execute_result"
    }
   ],
   "source": [
    "from sklearn.metrics import classification_report\n",
    " \n",
    "print(classification_report(ytest, ypred4))\n",
    "from sklearn.metrics import confusion_matrix\n",
    "confusion_matrix(ytest, ypred4)\n",
    "# Accuracy\n",
    "from sklearn.metrics import accuracy_score\n",
    "accuracy_score(ytest, ypred4)\n",
    "# Recall\n",
    "from sklearn.metrics import recall_score\n",
    "recall_score(ytest, ypred4, average=None)\n",
    "# Precision\n",
    "from sklearn.metrics import precision_score\n",
    "precision_score(ytest, ypred4, average=None)\n"
   ]
  },
  {
   "cell_type": "code",
   "execution_count": 29,
   "id": "5f947237",
   "metadata": {},
   "outputs": [
    {
     "data": {
      "text/plain": [
       "array([0.94117647, 0.8028169 ])"
      ]
     },
     "execution_count": 29,
     "metadata": {},
     "output_type": "execute_result"
    }
   ],
   "source": [
    "# Confusion Matrix\n",
    "from sklearn.metrics import confusion_matrix\n",
    "confusion_matrix(ytest, ypred4)\n",
    "# Accuracy\n",
    "from sklearn.metrics import accuracy_score\n",
    "accuracy_score(ytest, ypred4)\n",
    "# Recall\n",
    "from sklearn.metrics import recall_score\n",
    "recall_score(ytest, ypred4, average=None)\n",
    "# Precision\n",
    "from sklearn.metrics import precision_score\n",
    "precision_score(ytest, ypred4, average=None)\n"
   ]
  },
  {
   "cell_type": "code",
   "execution_count": 30,
   "id": "02a71628",
   "metadata": {},
   "outputs": [],
   "source": [
    "# Method 1: sklearn\n",
    "from sklearn.metrics import f1_score\n",
    "import math\n",
    "# Method 2: Manual Calculation\n",
    "tp = 56\n",
    "tn = 19\n",
    "fp = 11\n",
    "fn = 2\n",
    "precision = tp / (tp + fp)\n",
    "recall = tp / (tp + fn)\n",
    "specificity = tn / (tn + fp)\n",
    "NPV = tn / (tn + fn)\n",
    "accuracy = (tp + tn) / (tp + tn + fp + fn)\n",
    "F1 = 2 * (precision * recall) / (precision + recall)\n",
    "balanced_accuracy = (recall + specificity) / 2\n",
    "MCC = ((tp * tn) - (fp * fn)) / math.sqrt((tp + fp) * (tp + fn) * (tn + fp) * (tn + fn))"
   ]
  },
  {
   "cell_type": "code",
   "execution_count": 31,
   "id": "f7a5c00e",
   "metadata": {},
   "outputs": [],
   "source": [
    "def get_confusion_matrix_values(ytest, ypred4):\n",
    "    cm = confusion_matrix(ytest, ypred4)\n",
    "    return(cm[0][0], cm[0][1], cm[1][0], cm[1][1])\n",
    "\n",
    "tp, fp, fn, tn = get_confusion_matrix_values(ytest, ypred4)\n",
    "\n"
   ]
  },
  {
   "cell_type": "code",
   "execution_count": 34,
   "id": "99673391",
   "metadata": {},
   "outputs": [],
   "source": [
    "precision = tp / (tp + fp)\n",
    "recall = tp / (tp + fn)\n",
    "specificity = tn / (tn + fp)\n",
    "NPV = tn / (tn + fn)\n",
    "accuracy = (tp + tn) / (tp + tn + fp + fn)\n",
    "F1 = 2 * (precision * recall) / (precision + recall)\n",
    "ba= (recall + specificity) / 2\n",
    "MCC = ((tp * tn) - (fp * fn)) / math.sqrt((tp + fp) * (tp + fn) * (tn + fp) * (tn + fn))"
   ]
  },
  {
   "cell_type": "code",
   "execution_count": 35,
   "id": "052b33ac",
   "metadata": {},
   "outputs": [
    {
     "name": "stdout",
     "output_type": "stream",
     "text": [
      "0.5333333333333333\n",
      "0.9411764705882353\n",
      "0.8028169014084507\n",
      "0.9827586206896551\n",
      "0.8295454545454546\n",
      "0.6808510638297872\n",
      "0.871996685998343\n",
      "0.6196523163306354\n"
     ]
    }
   ],
   "source": [
    "print(precision)\n",
    "print(recall)\n",
    "print(specificity)\n",
    "print(NPV)\n",
    "print(accuracy)\n",
    "print(F1)\n",
    "print(ba)\n",
    "print(MCC)"
   ]
  },
  {
   "cell_type": "code",
   "execution_count": null,
   "id": "50bb83ba",
   "metadata": {},
   "outputs": [],
   "source": []
  }
 ],
 "metadata": {
  "kernelspec": {
   "display_name": "Python 3",
   "language": "python",
   "name": "python3"
  },
  "language_info": {
   "codemirror_mode": {
    "name": "ipython",
    "version": 3
   },
   "file_extension": ".py",
   "mimetype": "text/x-python",
   "name": "python",
   "nbconvert_exporter": "python",
   "pygments_lexer": "ipython3",
   "version": "3.8.8"
  }
 },
 "nbformat": 4,
 "nbformat_minor": 5
}
