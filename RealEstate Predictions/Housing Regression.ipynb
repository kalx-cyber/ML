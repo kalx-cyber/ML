{
 "cells": [
  {
   "cell_type": "markdown",
   "id": "f9202b9b",
   "metadata": {},
   "source": [
    "# Housing MEDV Prediction"
   ]
  },
  {
   "cell_type": "markdown",
   "id": "1911eaa4",
   "metadata": {},
   "source": [
    "Importing Libraries"
   ]
  },
  {
   "cell_type": "code",
   "execution_count": 1,
   "id": "36efdc7d",
   "metadata": {},
   "outputs": [],
   "source": [
    "import numpy as np\n",
    "import pandas as pd\n",
    "import seaborn as sns\n",
    "from matplotlib import pyplot as plt\n",
    "from sklearn.model_selection import train_test_split\n",
    "from sklearn.linear_model import LinearRegression, Lasso, Ridge, ElasticNet\n",
    "from sklearn.ensemble import RandomForestRegressor, GradientBoostingRegressor\n",
    "from sklearn.pipeline import make_pipeline\n",
    "from sklearn.preprocessing import StandardScaler\n",
    "\n",
    "from sklearn.metrics import r2_score\n",
    "from sklearn.metrics import mean_absolute_error as mae"
   ]
  },
  {
   "cell_type": "markdown",
   "id": "c2172409",
   "metadata": {},
   "source": [
    "Importing Dataset"
   ]
  },
  {
   "cell_type": "code",
   "execution_count": 2,
   "id": "15e3119b",
   "metadata": {},
   "outputs": [],
   "source": [
    "names = ('CRIM', 'ZN', 'INDUS', 'CHAS', 'NOX', 'RM', 'AGE', 'DIS', 'RAD', 'TAX', 'PTRATIO', 'B', 'LSTAT', 'MEDV')\n",
    "df = pd.read_csv('housing.csv', names = names)"
   ]
  },
  {
   "cell_type": "markdown",
   "id": "165e8fa2",
   "metadata": {},
   "source": [
    "Exploratory Data Analysis"
   ]
  },
  {
   "cell_type": "code",
   "execution_count": 3,
   "id": "6539414b",
   "metadata": {},
   "outputs": [
    {
     "data": {
      "text/html": [
       "<div>\n",
       "<style scoped>\n",
       "    .dataframe tbody tr th:only-of-type {\n",
       "        vertical-align: middle;\n",
       "    }\n",
       "\n",
       "    .dataframe tbody tr th {\n",
       "        vertical-align: top;\n",
       "    }\n",
       "\n",
       "    .dataframe thead th {\n",
       "        text-align: right;\n",
       "    }\n",
       "</style>\n",
       "<table border=\"1\" class=\"dataframe\">\n",
       "  <thead>\n",
       "    <tr style=\"text-align: right;\">\n",
       "      <th></th>\n",
       "      <th>CRIM</th>\n",
       "      <th>ZN</th>\n",
       "      <th>INDUS</th>\n",
       "      <th>CHAS</th>\n",
       "      <th>NOX</th>\n",
       "      <th>RM</th>\n",
       "      <th>AGE</th>\n",
       "      <th>DIS</th>\n",
       "      <th>RAD</th>\n",
       "      <th>TAX</th>\n",
       "      <th>PTRATIO</th>\n",
       "      <th>B</th>\n",
       "      <th>LSTAT</th>\n",
       "      <th>MEDV</th>\n",
       "    </tr>\n",
       "  </thead>\n",
       "  <tbody>\n",
       "    <tr>\n",
       "      <th>0</th>\n",
       "      <td>0.00632</td>\n",
       "      <td>18.0</td>\n",
       "      <td>2.31</td>\n",
       "      <td>0</td>\n",
       "      <td>0.538</td>\n",
       "      <td>6.575</td>\n",
       "      <td>65.2</td>\n",
       "      <td>4.0900</td>\n",
       "      <td>1</td>\n",
       "      <td>296.0</td>\n",
       "      <td>15.3</td>\n",
       "      <td>396.90</td>\n",
       "      <td>4.98</td>\n",
       "      <td>24.0</td>\n",
       "    </tr>\n",
       "    <tr>\n",
       "      <th>1</th>\n",
       "      <td>0.02731</td>\n",
       "      <td>0.0</td>\n",
       "      <td>7.07</td>\n",
       "      <td>0</td>\n",
       "      <td>0.469</td>\n",
       "      <td>6.421</td>\n",
       "      <td>78.9</td>\n",
       "      <td>4.9671</td>\n",
       "      <td>2</td>\n",
       "      <td>242.0</td>\n",
       "      <td>17.8</td>\n",
       "      <td>396.90</td>\n",
       "      <td>9.14</td>\n",
       "      <td>21.6</td>\n",
       "    </tr>\n",
       "    <tr>\n",
       "      <th>2</th>\n",
       "      <td>0.02729</td>\n",
       "      <td>0.0</td>\n",
       "      <td>7.07</td>\n",
       "      <td>0</td>\n",
       "      <td>0.469</td>\n",
       "      <td>7.185</td>\n",
       "      <td>61.1</td>\n",
       "      <td>4.9671</td>\n",
       "      <td>2</td>\n",
       "      <td>242.0</td>\n",
       "      <td>17.8</td>\n",
       "      <td>392.83</td>\n",
       "      <td>4.03</td>\n",
       "      <td>34.7</td>\n",
       "    </tr>\n",
       "    <tr>\n",
       "      <th>3</th>\n",
       "      <td>0.03237</td>\n",
       "      <td>0.0</td>\n",
       "      <td>2.18</td>\n",
       "      <td>0</td>\n",
       "      <td>0.458</td>\n",
       "      <td>6.998</td>\n",
       "      <td>45.8</td>\n",
       "      <td>6.0622</td>\n",
       "      <td>3</td>\n",
       "      <td>222.0</td>\n",
       "      <td>18.7</td>\n",
       "      <td>394.63</td>\n",
       "      <td>2.94</td>\n",
       "      <td>33.4</td>\n",
       "    </tr>\n",
       "    <tr>\n",
       "      <th>4</th>\n",
       "      <td>0.06905</td>\n",
       "      <td>0.0</td>\n",
       "      <td>2.18</td>\n",
       "      <td>0</td>\n",
       "      <td>0.458</td>\n",
       "      <td>7.147</td>\n",
       "      <td>54.2</td>\n",
       "      <td>6.0622</td>\n",
       "      <td>3</td>\n",
       "      <td>222.0</td>\n",
       "      <td>18.7</td>\n",
       "      <td>396.90</td>\n",
       "      <td>5.33</td>\n",
       "      <td>36.2</td>\n",
       "    </tr>\n",
       "  </tbody>\n",
       "</table>\n",
       "</div>"
      ],
      "text/plain": [
       "      CRIM    ZN  INDUS  CHAS    NOX     RM   AGE     DIS  RAD    TAX  \\\n",
       "0  0.00632  18.0   2.31     0  0.538  6.575  65.2  4.0900    1  296.0   \n",
       "1  0.02731   0.0   7.07     0  0.469  6.421  78.9  4.9671    2  242.0   \n",
       "2  0.02729   0.0   7.07     0  0.469  7.185  61.1  4.9671    2  242.0   \n",
       "3  0.03237   0.0   2.18     0  0.458  6.998  45.8  6.0622    3  222.0   \n",
       "4  0.06905   0.0   2.18     0  0.458  7.147  54.2  6.0622    3  222.0   \n",
       "\n",
       "   PTRATIO       B  LSTAT  MEDV  \n",
       "0     15.3  396.90   4.98  24.0  \n",
       "1     17.8  396.90   9.14  21.6  \n",
       "2     17.8  392.83   4.03  34.7  \n",
       "3     18.7  394.63   2.94  33.4  \n",
       "4     18.7  396.90   5.33  36.2  "
      ]
     },
     "execution_count": 3,
     "metadata": {},
     "output_type": "execute_result"
    }
   ],
   "source": [
    "df.head()"
   ]
  },
  {
   "cell_type": "code",
   "execution_count": 4,
   "id": "51416c86",
   "metadata": {},
   "outputs": [
    {
     "data": {
      "text/plain": [
       "CRIM       0\n",
       "ZN         0\n",
       "INDUS      0\n",
       "CHAS       0\n",
       "NOX        0\n",
       "RM         0\n",
       "AGE        0\n",
       "DIS        0\n",
       "RAD        0\n",
       "TAX        0\n",
       "PTRATIO    0\n",
       "B          0\n",
       "LSTAT      0\n",
       "MEDV       0\n",
       "dtype: int64"
      ]
     },
     "execution_count": 4,
     "metadata": {},
     "output_type": "execute_result"
    }
   ],
   "source": [
    "df.isnull().sum()"
   ]
  },
  {
   "cell_type": "code",
   "execution_count": 5,
   "id": "92d1036e",
   "metadata": {
    "scrolled": true
   },
   "outputs": [
    {
     "data": {
      "text/html": [
       "<div>\n",
       "<style scoped>\n",
       "    .dataframe tbody tr th:only-of-type {\n",
       "        vertical-align: middle;\n",
       "    }\n",
       "\n",
       "    .dataframe tbody tr th {\n",
       "        vertical-align: top;\n",
       "    }\n",
       "\n",
       "    .dataframe thead th {\n",
       "        text-align: right;\n",
       "    }\n",
       "</style>\n",
       "<table border=\"1\" class=\"dataframe\">\n",
       "  <thead>\n",
       "    <tr style=\"text-align: right;\">\n",
       "      <th></th>\n",
       "      <th>CRIM</th>\n",
       "      <th>ZN</th>\n",
       "      <th>INDUS</th>\n",
       "      <th>CHAS</th>\n",
       "      <th>NOX</th>\n",
       "      <th>RM</th>\n",
       "      <th>AGE</th>\n",
       "      <th>DIS</th>\n",
       "      <th>RAD</th>\n",
       "      <th>TAX</th>\n",
       "      <th>PTRATIO</th>\n",
       "      <th>B</th>\n",
       "      <th>LSTAT</th>\n",
       "      <th>MEDV</th>\n",
       "    </tr>\n",
       "  </thead>\n",
       "  <tbody>\n",
       "    <tr>\n",
       "      <th>count</th>\n",
       "      <td>506.000000</td>\n",
       "      <td>506.000000</td>\n",
       "      <td>506.000000</td>\n",
       "      <td>506.000000</td>\n",
       "      <td>506.000000</td>\n",
       "      <td>506.000000</td>\n",
       "      <td>506.000000</td>\n",
       "      <td>506.000000</td>\n",
       "      <td>506.000000</td>\n",
       "      <td>506.000000</td>\n",
       "      <td>506.000000</td>\n",
       "      <td>506.000000</td>\n",
       "      <td>506.000000</td>\n",
       "      <td>506.000000</td>\n",
       "    </tr>\n",
       "    <tr>\n",
       "      <th>mean</th>\n",
       "      <td>3.613524</td>\n",
       "      <td>11.363636</td>\n",
       "      <td>11.136779</td>\n",
       "      <td>0.069170</td>\n",
       "      <td>0.554695</td>\n",
       "      <td>6.284634</td>\n",
       "      <td>68.574901</td>\n",
       "      <td>3.795043</td>\n",
       "      <td>9.549407</td>\n",
       "      <td>408.237154</td>\n",
       "      <td>18.455534</td>\n",
       "      <td>356.674032</td>\n",
       "      <td>12.653063</td>\n",
       "      <td>22.532806</td>\n",
       "    </tr>\n",
       "    <tr>\n",
       "      <th>std</th>\n",
       "      <td>8.601545</td>\n",
       "      <td>23.322453</td>\n",
       "      <td>6.860353</td>\n",
       "      <td>0.253994</td>\n",
       "      <td>0.115878</td>\n",
       "      <td>0.702617</td>\n",
       "      <td>28.148861</td>\n",
       "      <td>2.105710</td>\n",
       "      <td>8.707259</td>\n",
       "      <td>168.537116</td>\n",
       "      <td>2.164946</td>\n",
       "      <td>91.294864</td>\n",
       "      <td>7.141062</td>\n",
       "      <td>9.197104</td>\n",
       "    </tr>\n",
       "    <tr>\n",
       "      <th>min</th>\n",
       "      <td>0.006320</td>\n",
       "      <td>0.000000</td>\n",
       "      <td>0.460000</td>\n",
       "      <td>0.000000</td>\n",
       "      <td>0.385000</td>\n",
       "      <td>3.561000</td>\n",
       "      <td>2.900000</td>\n",
       "      <td>1.129600</td>\n",
       "      <td>1.000000</td>\n",
       "      <td>187.000000</td>\n",
       "      <td>12.600000</td>\n",
       "      <td>0.320000</td>\n",
       "      <td>1.730000</td>\n",
       "      <td>5.000000</td>\n",
       "    </tr>\n",
       "    <tr>\n",
       "      <th>25%</th>\n",
       "      <td>0.082045</td>\n",
       "      <td>0.000000</td>\n",
       "      <td>5.190000</td>\n",
       "      <td>0.000000</td>\n",
       "      <td>0.449000</td>\n",
       "      <td>5.885500</td>\n",
       "      <td>45.025000</td>\n",
       "      <td>2.100175</td>\n",
       "      <td>4.000000</td>\n",
       "      <td>279.000000</td>\n",
       "      <td>17.400000</td>\n",
       "      <td>375.377500</td>\n",
       "      <td>6.950000</td>\n",
       "      <td>17.025000</td>\n",
       "    </tr>\n",
       "    <tr>\n",
       "      <th>50%</th>\n",
       "      <td>0.256510</td>\n",
       "      <td>0.000000</td>\n",
       "      <td>9.690000</td>\n",
       "      <td>0.000000</td>\n",
       "      <td>0.538000</td>\n",
       "      <td>6.208500</td>\n",
       "      <td>77.500000</td>\n",
       "      <td>3.207450</td>\n",
       "      <td>5.000000</td>\n",
       "      <td>330.000000</td>\n",
       "      <td>19.050000</td>\n",
       "      <td>391.440000</td>\n",
       "      <td>11.360000</td>\n",
       "      <td>21.200000</td>\n",
       "    </tr>\n",
       "    <tr>\n",
       "      <th>75%</th>\n",
       "      <td>3.677083</td>\n",
       "      <td>12.500000</td>\n",
       "      <td>18.100000</td>\n",
       "      <td>0.000000</td>\n",
       "      <td>0.624000</td>\n",
       "      <td>6.623500</td>\n",
       "      <td>94.075000</td>\n",
       "      <td>5.188425</td>\n",
       "      <td>24.000000</td>\n",
       "      <td>666.000000</td>\n",
       "      <td>20.200000</td>\n",
       "      <td>396.225000</td>\n",
       "      <td>16.955000</td>\n",
       "      <td>25.000000</td>\n",
       "    </tr>\n",
       "    <tr>\n",
       "      <th>max</th>\n",
       "      <td>88.976200</td>\n",
       "      <td>100.000000</td>\n",
       "      <td>27.740000</td>\n",
       "      <td>1.000000</td>\n",
       "      <td>0.871000</td>\n",
       "      <td>8.780000</td>\n",
       "      <td>100.000000</td>\n",
       "      <td>12.126500</td>\n",
       "      <td>24.000000</td>\n",
       "      <td>711.000000</td>\n",
       "      <td>22.000000</td>\n",
       "      <td>396.900000</td>\n",
       "      <td>37.970000</td>\n",
       "      <td>50.000000</td>\n",
       "    </tr>\n",
       "  </tbody>\n",
       "</table>\n",
       "</div>"
      ],
      "text/plain": [
       "             CRIM          ZN       INDUS        CHAS         NOX          RM  \\\n",
       "count  506.000000  506.000000  506.000000  506.000000  506.000000  506.000000   \n",
       "mean     3.613524   11.363636   11.136779    0.069170    0.554695    6.284634   \n",
       "std      8.601545   23.322453    6.860353    0.253994    0.115878    0.702617   \n",
       "min      0.006320    0.000000    0.460000    0.000000    0.385000    3.561000   \n",
       "25%      0.082045    0.000000    5.190000    0.000000    0.449000    5.885500   \n",
       "50%      0.256510    0.000000    9.690000    0.000000    0.538000    6.208500   \n",
       "75%      3.677083   12.500000   18.100000    0.000000    0.624000    6.623500   \n",
       "max     88.976200  100.000000   27.740000    1.000000    0.871000    8.780000   \n",
       "\n",
       "              AGE         DIS         RAD         TAX     PTRATIO           B  \\\n",
       "count  506.000000  506.000000  506.000000  506.000000  506.000000  506.000000   \n",
       "mean    68.574901    3.795043    9.549407  408.237154   18.455534  356.674032   \n",
       "std     28.148861    2.105710    8.707259  168.537116    2.164946   91.294864   \n",
       "min      2.900000    1.129600    1.000000  187.000000   12.600000    0.320000   \n",
       "25%     45.025000    2.100175    4.000000  279.000000   17.400000  375.377500   \n",
       "50%     77.500000    3.207450    5.000000  330.000000   19.050000  391.440000   \n",
       "75%     94.075000    5.188425   24.000000  666.000000   20.200000  396.225000   \n",
       "max    100.000000   12.126500   24.000000  711.000000   22.000000  396.900000   \n",
       "\n",
       "            LSTAT        MEDV  \n",
       "count  506.000000  506.000000  \n",
       "mean    12.653063   22.532806  \n",
       "std      7.141062    9.197104  \n",
       "min      1.730000    5.000000  \n",
       "25%      6.950000   17.025000  \n",
       "50%     11.360000   21.200000  \n",
       "75%     16.955000   25.000000  \n",
       "max     37.970000   50.000000  "
      ]
     },
     "execution_count": 5,
     "metadata": {},
     "output_type": "execute_result"
    }
   ],
   "source": [
    "df.describe()"
   ]
  },
  {
   "cell_type": "code",
   "execution_count": 6,
   "id": "1c4a1a40",
   "metadata": {},
   "outputs": [
    {
     "data": {
      "text/plain": [
       "<AxesSubplot:>"
      ]
     },
     "execution_count": 6,
     "metadata": {},
     "output_type": "execute_result"
    },
    {
     "data": {
      "image/png": "[encoded data removed]",
      "text/plain": [
       "<Figure size 432x288 with 2 Axes>"
      ]
     },
     "metadata": {
      "needs_background": "light"
     },
     "output_type": "display_data"
    }
   ],
   "source": [
    "# plt.figsize(10, 9)\n",
    "sns.heatmap(df.corr(), annot = True)"
   ]
  },
  {
   "cell_type": "markdown",
   "id": "96ae753b",
   "metadata": {},
   "source": [
    "Regression"
   ]
  },
  {
   "cell_type": "code",
   "execution_count": 8,
   "id": "1fe8354b",
   "metadata": {},
   "outputs": [],
   "source": [
    "y = df.MEDV\n",
    "x = df.drop(['MEDV', 'CHAS'], axis =  1)\n",
    "\n",
    "xtrain, xtest, ytrain, ytest = train_test_split(x, y, test_size = 0.20, random_state = 176)"
   ]
  },
  {
   "cell_type": "code",
   "execution_count": 9,
   "id": "36a7a4d9",
   "metadata": {},
   "outputs": [
    {
     "name": "stdout",
     "output_type": "stream",
     "text": [
      "(404, 12) (102, 12) (404,) (102,)\n"
     ]
    }
   ],
   "source": [
    "print(xtrain.shape, xtest.shape, ytrain.shape, ytest.shape)"
   ]
  },
  {
   "cell_type": "code",
   "execution_count": 10,
   "id": "11ae4a1a",
   "metadata": {},
   "outputs": [],
   "source": [
    "models = {'LinearRegression' : make_pipeline(StandardScaler(), LinearRegression()),\n",
    "    'Lasso' : make_pipeline(StandardScaler(), Lasso(random_state=123)),\n",
    "    'Ridge' : make_pipeline(StandardScaler(), Ridge(random_state=123)),\n",
    "    'ElasticNet' : make_pipeline(StandardScaler(), ElasticNet(random_state=123)),\n",
    "    'RandomForest' : make_pipeline(StandardScaler(), RandomForestRegressor(random_state=123)),\n",
    "    'GradientBoosting' : make_pipeline(StandardScaler(), GradientBoostingRegressor(random_state=123))}\n"
   ]
  },
  {
   "cell_type": "code",
   "execution_count": 11,
   "id": "32d7a882",
   "metadata": {},
   "outputs": [
    {
     "data": {
      "text/plain": [
       "{'LinearRegression': Pipeline(steps=[('standardscaler', StandardScaler()),\n",
       "                 ('linearregression', LinearRegression())]),\n",
       " 'Lasso': Pipeline(steps=[('standardscaler', StandardScaler()),\n",
       "                 ('lasso', Lasso(random_state=123))]),\n",
       " 'Ridge': Pipeline(steps=[('standardscaler', StandardScaler()),\n",
       "                 ('ridge', Ridge(random_state=123))]),\n",
       " 'ElasticNet': Pipeline(steps=[('standardscaler', StandardScaler()),\n",
       "                 ('elasticnet', ElasticNet(random_state=123))]),\n",
       " 'RandomForest': Pipeline(steps=[('standardscaler', StandardScaler()),\n",
       "                 ('randomforestregressor',\n",
       "                  RandomForestRegressor(random_state=123))]),\n",
       " 'GradientBoosting': Pipeline(steps=[('standardscaler', StandardScaler()),\n",
       "                 ('gradientboostingregressor',\n",
       "                  GradientBoostingRegressor(random_state=123))])}"
      ]
     },
     "execution_count": 11,
     "metadata": {},
     "output_type": "execute_result"
    }
   ],
   "source": [
    "models"
   ]
  },
  {
   "cell_type": "code",
   "execution_count": 12,
   "id": "749f29a0",
   "metadata": {},
   "outputs": [
    {
     "name": "stdout",
     "output_type": "stream",
     "text": [
      "LinearRegression\n",
      "Lasso\n",
      "Ridge\n",
      "ElasticNet\n",
      "RandomForest\n",
      "GradientBoosting\n"
     ]
    }
   ],
   "source": [
    "models_fit = {}\n",
    "for name, model in models.items():\n",
    "    model.fit(xtrain, ytrain)\n",
    "    models_fit[name] = model\n",
    "    print(f'{name}')"
   ]
  },
  {
   "cell_type": "code",
   "execution_count": 13,
   "id": "993ca46f",
   "metadata": {
    "scrolled": true
   },
   "outputs": [
    {
     "data": {
      "text/plain": [
       "{'LinearRegression': Pipeline(steps=[('standardscaler', StandardScaler()),\n",
       "                 ('linearregression', LinearRegression())]),\n",
       " 'Lasso': Pipeline(steps=[('standardscaler', StandardScaler()),\n",
       "                 ('lasso', Lasso(random_state=123))]),\n",
       " 'Ridge': Pipeline(steps=[('standardscaler', StandardScaler()),\n",
       "                 ('ridge', Ridge(random_state=123))]),\n",
       " 'ElasticNet': Pipeline(steps=[('standardscaler', StandardScaler()),\n",
       "                 ('elasticnet', ElasticNet(random_state=123))]),\n",
       " 'RandomForest': Pipeline(steps=[('standardscaler', StandardScaler()),\n",
       "                 ('randomforestregressor',\n",
       "                  RandomForestRegressor(random_state=123))]),\n",
       " 'GradientBoosting': Pipeline(steps=[('standardscaler', StandardScaler()),\n",
       "                 ('gradientboostingregressor',\n",
       "                  GradientBoostingRegressor(random_state=123))])}"
      ]
     },
     "execution_count": 13,
     "metadata": {},
     "output_type": "execute_result"
    }
   ],
   "source": [
    "models_fit"
   ]
  },
  {
   "cell_type": "code",
   "execution_count": 14,
   "id": "44b10027",
   "metadata": {},
   "outputs": [
    {
     "name": "stdout",
     "output_type": "stream",
     "text": [
      "LinearRegression\n",
      "0.6583755092082102\n",
      "3.577850669975935\n",
      "Lasso\n",
      "0.5897617392722275\n",
      "4.013275993476741\n",
      "Ridge\n",
      "0.6574762651213798\n",
      "3.5799076448368754\n",
      "ElasticNet\n",
      "0.5459973725749289\n",
      "4.227822282697634\n",
      "RandomForest\n",
      "0.8980082468899409\n",
      "2.078539215686273\n",
      "GradientBoosting\n",
      "0.9204719004020736\n",
      "1.938776486908453\n"
     ]
    }
   ],
   "source": [
    "for name, model in models_fit.items():\n",
    "    ypred = model.predict(xtest)\n",
    "    print(f'{name:}')\n",
    "    print(f'{r2_score(ytest, ypred)}')\n",
    "    print(f'{mae(ytest, ypred)}')"
   ]
  },
  {
   "cell_type": "markdown",
   "id": "c8f5ded9",
   "metadata": {},
   "source": [
    "HyperParameter Tuning"
   ]
  },
  {
   "cell_type": "code",
   "execution_count": 19,
   "id": "425f59fe",
   "metadata": {},
   "outputs": [
    {
     "name": "stdout",
     "output_type": "stream",
     "text": [
      "0.65837550920821\n",
      "3.577850669975933\n"
     ]
    }
   ],
   "source": [
    "model = LinearRegression(fit_intercept=True, normalize='deprecated', copy_X=True, n_jobs=1, positive=False)\n",
    "\n",
    "model.fit(xtrain, ytrain)\n",
    "\n",
    "ypred = model.predict(xtest)\n",
    "print(f'{r2_score(ytest, ypred)}')\n",
    "print(f'{mae(ytest, ypred)}')"
   ]
  },
  {
   "cell_type": "code",
   "execution_count": 20,
   "id": "b2408804",
   "metadata": {},
   "outputs": [
    {
     "data": {
      "text/plain": [
       "array([-1.03235969e-01,  3.84707665e-02,  1.46016906e-02, -1.37757258e+01,\n",
       "        4.08393901e+00, -1.25264533e-02, -1.40471342e+00,  2.76862829e-01,\n",
       "       -1.35623284e-02, -9.85124424e-01,  1.14601334e-02, -4.65589649e-01])"
      ]
     },
     "execution_count": 20,
     "metadata": {},
     "output_type": "execute_result"
    }
   ],
   "source": [
    "model.coef_"
   ]
  },
  {
   "cell_type": "code",
   "execution_count": 21,
   "id": "51977e55",
   "metadata": {},
   "outputs": [
    {
     "data": {
      "text/plain": [
       "array([23.88316028, 16.30733537, 15.14402677, 19.45170096, 39.42157605,\n",
       "       19.50014921, 35.1094789 , 23.42548449, 25.34760516, 18.96167173,\n",
       "       31.31829487, 13.59205246, 13.33825895,  8.37892959, 31.16684481,\n",
       "       18.29764384, 20.2933112 , 23.53883971, 25.77530922, 37.83063273,\n",
       "       27.5405391 , 13.25198554, 17.23676761, 18.40077772, 33.70485908,\n",
       "       25.10578596, 15.94431224,  0.89729931, 33.06562814, 24.67131853,\n",
       "       28.88796952, 14.87677513, 13.97321992, 30.37674881, 25.06302133,\n",
       "       23.34465957, 15.24298272, 17.64131144, 24.82996592, 16.98633729,\n",
       "        9.28311906, 21.01908816,  9.88994733, 19.33925042, 17.8850822 ,\n",
       "       16.39890608, 33.12068524, 26.71634061, 33.12957051, 20.05813243,\n",
       "       21.24888286, 27.77740314, 17.07340929, 19.76414848, 29.08992214,\n",
       "       28.58498832, 22.0310007 , 34.19255481, 18.5472175 , 32.34702967,\n",
       "       33.08192336, 21.90841929, 15.9063745 , 24.32065494,  6.11485134,\n",
       "        5.19510707, 29.2164627 , 37.33194348, 22.35137812, 26.0433928 ,\n",
       "       26.45878906, 11.1602237 , 20.4678012 , 28.23635331,  6.52609191,\n",
       "       22.89192786, 25.95801014, 19.14305919, 25.25215792, 30.79613721,\n",
       "       12.28809124, 25.22009113, 28.76108309, 13.37592242,  8.41467684,\n",
       "       19.74907073, 21.44270704, 22.5458983 , 24.02853524, 25.54777887,\n",
       "       27.11683491,  8.48465542, 14.18075926, 17.56726425, 22.58971704,\n",
       "       19.07408153, 23.03905126, 22.90927713, 16.31139097, 36.52283838,\n",
       "       22.01466542, 10.55065352])"
      ]
     },
     "execution_count": 21,
     "metadata": {},
     "output_type": "execute_result"
    }
   ],
   "source": [
    "ypred"
   ]
  },
  {
   "cell_type": "code",
   "execution_count": 22,
   "id": "6c6111b1",
   "metadata": {},
   "outputs": [
    {
     "data": {
      "text/plain": [
       "array([18.9, 15.4, 11.7, 19.6, 50. , 18.9, 39.8, 20.8, 19.4, 27.9, 35.4,\n",
       "       13.6, 19. ,  5. , 28.7, 15.3, 16.1, 21.2, 24.2, 50. , 22. , 13.4,\n",
       "       17.5, 19.5, 32. , 23.1, 15.6, 17.9, 33.2, 23.4, 22.8, 19.3, 11.5,\n",
       "       30.5, 18.5, 19.4, 14.1, 20.8, 22.6, 14.9,  7.2, 19.3,  9.7, 18.2,\n",
       "       13.9, 14.3, 33.1, 22.3, 28.5, 17.7, 20. , 25.2, 13. , 15. , 23.6,\n",
       "       28. , 50. , 37.3, 16.6, 31.6, 41.3, 21.2, 17.2, 22.2,  7.4,  8.4,\n",
       "       25. , 44. , 50. , 22.2, 23.3, 12. , 20.4, 25. , 10.4, 21.4, 24.1,\n",
       "       18. , 29.6, 28.4, 13.4, 21.6, 31.2, 11.3,  7.2, 18.4, 24.5, 26.6,\n",
       "       21.4, 24.7, 22.1,  8.7, 13.1, 14.9, 17.4, 27.5, 23.1, 20.3, 15.2,\n",
       "       50. , 23.2, 11.8])"
      ]
     },
     "execution_count": 22,
     "metadata": {},
     "output_type": "execute_result"
    }
   ],
   "source": [
    "np.array(ytest)"
   ]
  },
  {
   "cell_type": "markdown",
   "id": "b01112be",
   "metadata": {},
   "source": [
    "More Model(s) With Randomized Search"
   ]
  },
  {
   "cell_type": "code",
   "execution_count": 23,
   "id": "39a5df60",
   "metadata": {},
   "outputs": [],
   "source": [
    "from sklearn.model_selection import RandomizedSearchCV as RS"
   ]
  },
  {
   "cell_type": "code",
   "execution_count": 29,
   "id": "34ed382a",
   "metadata": {},
   "outputs": [],
   "source": [
    "rf_hyperparameters = {\n",
    "    'n_estimators' : [5, 15, 20, 50, 100, 110, 120, 130, 140, 150, 160, 200],\n",
    "    'max_features' : ['auto', 'sqrt', 0.5, 0.33, 0.2], \n",
    "    'max_depth' : [5, 10, 20, 30, 40, 50,60, 70, 100, 125, 200]\n",
    "}"
   ]
  },
  {
   "cell_type": "code",
   "execution_count": 38,
   "id": "88bb2546",
   "metadata": {},
   "outputs": [
    {
     "name": "stdout",
     "output_type": "stream",
     "text": [
      "0.8735527136438792\n",
      "2.1676960784313715\n"
     ]
    }
   ],
   "source": [
    "model1 = RandomForestRegressor()\n",
    "model1 = RS(model1, rf_hyperparameters, n_jobs = -1)\n",
    "model1.fit(xtrain, ytrain)\n",
    "model1.best_params_\n",
    "ypred1 = model1.predict(xtest)\n",
    "print(f'{r2_score(ytest, ypred1)}')\n",
    "print(f'{mae(ytest, ypred1)}')"
   ]
  },
  {
   "cell_type": "code",
   "execution_count": 39,
   "id": "97844400",
   "metadata": {},
   "outputs": [
    {
     "name": "stdout",
     "output_type": "stream",
     "text": [
      "{'n_estimators': 120, 'max_features': 0.5, 'max_depth': 20}\n"
     ]
    }
   ],
   "source": [
    "model1.best_params_\n",
    "print(model1.best_params_)"
   ]
  },
  {
   "cell_type": "code",
   "execution_count": 27,
   "id": "db6b1cee",
   "metadata": {},
   "outputs": [
    {
     "name": "stdout",
     "output_type": "stream",
     "text": [
      "[21.32533333 16.522      13.78333333 20.11133333 44.692      19.98\n",
      " 37.346      21.77333333 21.09133333 20.28866667 33.054      14.692\n",
      " 16.01666667  8.86733333 28.88       20.61533333 19.20466667 20.90933333\n",
      " 24.19066667 45.03866667 23.92866667 12.58       18.24066667 18.75266667\n",
      " 33.04866667 23.92866667 16.60533333 12.63266667 32.146      21.426\n",
      " 26.28333333 20.29466667 11.23266667 30.20266667 21.598      19.53066667\n",
      " 15.704      21.65133333 23.448      16.17733333  9.02933333 20.234\n",
      " 11.08533333 19.85066667 13.27266667 16.22933333 31.388      22.53066667\n",
      " 31.128      19.082      19.96133333 24.92466667 14.988      22.24733333\n",
      " 24.11266667 26.678      35.78       34.34266667 19.81933333 31.048\n",
      " 33.80066667 21.856      14.384      22.20266667  9.908       9.78133333\n",
      " 23.88666667 39.462      28.13       23.18933333 25.26333333 14.04733333\n",
      " 19.2        26.42933333  8.52266667 19.86333333 24.078      16.94066667\n",
      " 27.068      28.07666667 13.73866667 23.30666667 29.65266667 12.946\n",
      "  9.94266667 19.56466667 23.24       27.22933333 22.448      24.39\n",
      " 22.672      10.05266667 16.69933333 15.27466667 20.526      16.30866667\n",
      " 22.07933333 20.756      16.50066667 40.04133333 20.59333333 15.306     ]\n"
     ]
    }
   ],
   "source": [
    "print(ypred1)"
   ]
  },
  {
   "cell_type": "code",
   "execution_count": 28,
   "id": "c0696505",
   "metadata": {},
   "outputs": [
    {
     "name": "stdout",
     "output_type": "stream",
     "text": [
      "[18.9 15.4 11.7 19.6 50.  18.9 39.8 20.8 19.4 27.9 35.4 13.6 19.   5.\n",
      " 28.7 15.3 16.1 21.2 24.2 50.  22.  13.4 17.5 19.5 32.  23.1 15.6 17.9\n",
      " 33.2 23.4 22.8 19.3 11.5 30.5 18.5 19.4 14.1 20.8 22.6 14.9  7.2 19.3\n",
      "  9.7 18.2 13.9 14.3 33.1 22.3 28.5 17.7 20.  25.2 13.  15.  23.6 28.\n",
      " 50.  37.3 16.6 31.6 41.3 21.2 17.2 22.2  7.4  8.4 25.  44.  50.  22.2\n",
      " 23.3 12.  20.4 25.  10.4 21.4 24.1 18.  29.6 28.4 13.4 21.6 31.2 11.3\n",
      "  7.2 18.4 24.5 26.6 21.4 24.7 22.1  8.7 13.1 14.9 17.4 27.5 23.1 20.3\n",
      " 15.2 50.  23.2 11.8]\n"
     ]
    }
   ],
   "source": [
    "print(np.array(ytest))"
   ]
  },
  {
   "cell_type": "code",
   "execution_count": null,
   "id": "8820e426",
   "metadata": {},
   "outputs": [],
   "source": []
  }
 ],
 "metadata": {
  "kernelspec": {
   "display_name": "Python 3",
   "language": "python",
   "name": "python3"
  },
  "language_info": {
   "codemirror_mode": {
    "name": "ipython",
    "version": 3
   },
   "file_extension": ".py",
   "mimetype": "text/x-python",
   "name": "python",
   "nbconvert_exporter": "python",
   "pygments_lexer": "ipython3",
   "version": "3.8.8"
  }
 },
 "nbformat": 4,
 "nbformat_minor": 5
}
