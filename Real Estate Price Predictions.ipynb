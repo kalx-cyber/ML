{
 "cells": [
  {
   "cell_type": "markdown",
   "id": "f9202b9b",
   "metadata": {},
   "source": [
    "# Real Estate Price Prediction (REPP)"
   ]
  },
  {
   "cell_type": "markdown",
   "id": "1911eaa4",
   "metadata": {},
   "source": [
    "Importing Libraries"
   ]
  },
  {
   "cell_type": "code",
   "execution_count": 9,
   "id": "36efdc7d",
   "metadata": {},
   "outputs": [],
   "source": [
    "import numpy as np\n",
    "import pandas as pd\n",
    "import seaborn as sns\n",
    "from matplotlib import pyplot as plt\n",
    "from sklearn.model_selection import train_test_split\n",
    "from sklearn.linear_model import LinearRegression, Lasso, Ridge, ElasticNet\n",
    "from sklearn.ensemble import RandomForestRegressor, GradientBoostingRegressor\n",
    "from sklearn.pipeline import make_pipeline\n",
    "from sklearn.preprocessing import StandardScaler\n",
    "\n",
    "from sklearn.metrics import r2_score\n",
    "from sklearn.metrics import mean_absolute_error as mae\n",
    "\n",
    "from sklearn.svm import SVR"
   ]
  },
  {
   "cell_type": "markdown",
   "id": "c2172409",
   "metadata": {},
   "source": [
    "Importing Dataset"
   ]
  },
  {
   "cell_type": "code",
   "execution_count": 2,
   "id": "15e3119b",
   "metadata": {},
   "outputs": [],
   "source": [
    "# names = (No\tX1 transaction date\tX2 house age\tX3 distance to the nearest MRT station\tX4 number of convenience stores\tX5 latitude\tX6 longitude\tY house price of unit area\n",
    "# )\n",
    "names = ('No', 'X1', 'X2', 'X3', 'X4', 'X5', 'X6', 'Y')\n",
    "df = pd.read_csv('Real estate.csv', names = names)"
   ]
  },
  {
   "cell_type": "markdown",
   "id": "165e8fa2",
   "metadata": {},
   "source": [
    "Exploratory Data Analysis"
   ]
  },
  {
   "cell_type": "code",
   "execution_count": 3,
   "id": "6539414b",
   "metadata": {},
   "outputs": [
    {
     "data": {
      "text/html": [
       "<div>\n",
       "<style scoped>\n",
       "    .dataframe tbody tr th:only-of-type {\n",
       "        vertical-align: middle;\n",
       "    }\n",
       "\n",
       "    .dataframe tbody tr th {\n",
       "        vertical-align: top;\n",
       "    }\n",
       "\n",
       "    .dataframe thead th {\n",
       "        text-align: right;\n",
       "    }\n",
       "</style>\n",
       "<table border=\"1\" class=\"dataframe\">\n",
       "  <thead>\n",
       "    <tr style=\"text-align: right;\">\n",
       "      <th></th>\n",
       "      <th>No</th>\n",
       "      <th>X1</th>\n",
       "      <th>X2</th>\n",
       "      <th>X3</th>\n",
       "      <th>X4</th>\n",
       "      <th>X5</th>\n",
       "      <th>X6</th>\n",
       "      <th>Y</th>\n",
       "    </tr>\n",
       "  </thead>\n",
       "  <tbody>\n",
       "    <tr>\n",
       "      <th>0</th>\n",
       "      <td>1</td>\n",
       "      <td>2012.917</td>\n",
       "      <td>32.0</td>\n",
       "      <td>84.87882</td>\n",
       "      <td>10</td>\n",
       "      <td>24.98298</td>\n",
       "      <td>121.54024</td>\n",
       "      <td>37.9</td>\n",
       "    </tr>\n",
       "    <tr>\n",
       "      <th>1</th>\n",
       "      <td>2</td>\n",
       "      <td>2012.917</td>\n",
       "      <td>19.5</td>\n",
       "      <td>306.59470</td>\n",
       "      <td>9</td>\n",
       "      <td>24.98034</td>\n",
       "      <td>121.53951</td>\n",
       "      <td>42.2</td>\n",
       "    </tr>\n",
       "    <tr>\n",
       "      <th>2</th>\n",
       "      <td>3</td>\n",
       "      <td>2013.583</td>\n",
       "      <td>13.3</td>\n",
       "      <td>561.98450</td>\n",
       "      <td>5</td>\n",
       "      <td>24.98746</td>\n",
       "      <td>121.54391</td>\n",
       "      <td>47.3</td>\n",
       "    </tr>\n",
       "    <tr>\n",
       "      <th>3</th>\n",
       "      <td>4</td>\n",
       "      <td>2013.500</td>\n",
       "      <td>13.3</td>\n",
       "      <td>561.98450</td>\n",
       "      <td>5</td>\n",
       "      <td>24.98746</td>\n",
       "      <td>121.54391</td>\n",
       "      <td>54.8</td>\n",
       "    </tr>\n",
       "    <tr>\n",
       "      <th>4</th>\n",
       "      <td>5</td>\n",
       "      <td>2012.833</td>\n",
       "      <td>5.0</td>\n",
       "      <td>390.56840</td>\n",
       "      <td>5</td>\n",
       "      <td>24.97937</td>\n",
       "      <td>121.54245</td>\n",
       "      <td>43.1</td>\n",
       "    </tr>\n",
       "  </tbody>\n",
       "</table>\n",
       "</div>"
      ],
      "text/plain": [
       "   No        X1    X2         X3  X4        X5         X6     Y\n",
       "0   1  2012.917  32.0   84.87882  10  24.98298  121.54024  37.9\n",
       "1   2  2012.917  19.5  306.59470   9  24.98034  121.53951  42.2\n",
       "2   3  2013.583  13.3  561.98450   5  24.98746  121.54391  47.3\n",
       "3   4  2013.500  13.3  561.98450   5  24.98746  121.54391  54.8\n",
       "4   5  2012.833   5.0  390.56840   5  24.97937  121.54245  43.1"
      ]
     },
     "execution_count": 3,
     "metadata": {},
     "output_type": "execute_result"
    }
   ],
   "source": [
    "df.head()"
   ]
  },
  {
   "cell_type": "code",
   "execution_count": 4,
   "id": "51416c86",
   "metadata": {},
   "outputs": [
    {
     "data": {
      "text/plain": [
       "No    0\n",
       "X1    0\n",
       "X2    0\n",
       "X3    0\n",
       "X4    0\n",
       "X5    0\n",
       "X6    0\n",
       "Y     0\n",
       "dtype: int64"
      ]
     },
     "execution_count": 4,
     "metadata": {},
     "output_type": "execute_result"
    }
   ],
   "source": [
    "df.isnull().sum()"
   ]
  },
  {
   "cell_type": "code",
   "execution_count": 5,
   "id": "92d1036e",
   "metadata": {
    "scrolled": true
   },
   "outputs": [
    {
     "data": {
      "text/html": [
       "<div>\n",
       "<style scoped>\n",
       "    .dataframe tbody tr th:only-of-type {\n",
       "        vertical-align: middle;\n",
       "    }\n",
       "\n",
       "    .dataframe tbody tr th {\n",
       "        vertical-align: top;\n",
       "    }\n",
       "\n",
       "    .dataframe thead th {\n",
       "        text-align: right;\n",
       "    }\n",
       "</style>\n",
       "<table border=\"1\" class=\"dataframe\">\n",
       "  <thead>\n",
       "    <tr style=\"text-align: right;\">\n",
       "      <th></th>\n",
       "      <th>No</th>\n",
       "      <th>X1</th>\n",
       "      <th>X2</th>\n",
       "      <th>X3</th>\n",
       "      <th>X4</th>\n",
       "      <th>X5</th>\n",
       "      <th>X6</th>\n",
       "      <th>Y</th>\n",
       "    </tr>\n",
       "  </thead>\n",
       "  <tbody>\n",
       "    <tr>\n",
       "      <th>count</th>\n",
       "      <td>414.000000</td>\n",
       "      <td>414.000000</td>\n",
       "      <td>414.000000</td>\n",
       "      <td>414.000000</td>\n",
       "      <td>414.000000</td>\n",
       "      <td>414.000000</td>\n",
       "      <td>414.000000</td>\n",
       "      <td>414.000000</td>\n",
       "    </tr>\n",
       "    <tr>\n",
       "      <th>mean</th>\n",
       "      <td>207.500000</td>\n",
       "      <td>2013.148971</td>\n",
       "      <td>17.712560</td>\n",
       "      <td>1083.885689</td>\n",
       "      <td>4.094203</td>\n",
       "      <td>24.969030</td>\n",
       "      <td>121.533361</td>\n",
       "      <td>37.980193</td>\n",
       "    </tr>\n",
       "    <tr>\n",
       "      <th>std</th>\n",
       "      <td>119.655756</td>\n",
       "      <td>0.281967</td>\n",
       "      <td>11.392485</td>\n",
       "      <td>1262.109595</td>\n",
       "      <td>2.945562</td>\n",
       "      <td>0.012410</td>\n",
       "      <td>0.015347</td>\n",
       "      <td>13.606488</td>\n",
       "    </tr>\n",
       "    <tr>\n",
       "      <th>min</th>\n",
       "      <td>1.000000</td>\n",
       "      <td>2012.667000</td>\n",
       "      <td>0.000000</td>\n",
       "      <td>23.382840</td>\n",
       "      <td>0.000000</td>\n",
       "      <td>24.932070</td>\n",
       "      <td>121.473530</td>\n",
       "      <td>7.600000</td>\n",
       "    </tr>\n",
       "    <tr>\n",
       "      <th>25%</th>\n",
       "      <td>104.250000</td>\n",
       "      <td>2012.917000</td>\n",
       "      <td>9.025000</td>\n",
       "      <td>289.324800</td>\n",
       "      <td>1.000000</td>\n",
       "      <td>24.963000</td>\n",
       "      <td>121.528085</td>\n",
       "      <td>27.700000</td>\n",
       "    </tr>\n",
       "    <tr>\n",
       "      <th>50%</th>\n",
       "      <td>207.500000</td>\n",
       "      <td>2013.167000</td>\n",
       "      <td>16.100000</td>\n",
       "      <td>492.231300</td>\n",
       "      <td>4.000000</td>\n",
       "      <td>24.971100</td>\n",
       "      <td>121.538630</td>\n",
       "      <td>38.450000</td>\n",
       "    </tr>\n",
       "    <tr>\n",
       "      <th>75%</th>\n",
       "      <td>310.750000</td>\n",
       "      <td>2013.417000</td>\n",
       "      <td>28.150000</td>\n",
       "      <td>1454.279000</td>\n",
       "      <td>6.000000</td>\n",
       "      <td>24.977455</td>\n",
       "      <td>121.543305</td>\n",
       "      <td>46.600000</td>\n",
       "    </tr>\n",
       "    <tr>\n",
       "      <th>max</th>\n",
       "      <td>414.000000</td>\n",
       "      <td>2013.583000</td>\n",
       "      <td>43.800000</td>\n",
       "      <td>6488.021000</td>\n",
       "      <td>10.000000</td>\n",
       "      <td>25.014590</td>\n",
       "      <td>121.566270</td>\n",
       "      <td>117.500000</td>\n",
       "    </tr>\n",
       "  </tbody>\n",
       "</table>\n",
       "</div>"
      ],
      "text/plain": [
       "               No           X1          X2           X3          X4  \\\n",
       "count  414.000000   414.000000  414.000000   414.000000  414.000000   \n",
       "mean   207.500000  2013.148971   17.712560  1083.885689    4.094203   \n",
       "std    119.655756     0.281967   11.392485  1262.109595    2.945562   \n",
       "min      1.000000  2012.667000    0.000000    23.382840    0.000000   \n",
       "25%    104.250000  2012.917000    9.025000   289.324800    1.000000   \n",
       "50%    207.500000  2013.167000   16.100000   492.231300    4.000000   \n",
       "75%    310.750000  2013.417000   28.150000  1454.279000    6.000000   \n",
       "max    414.000000  2013.583000   43.800000  6488.021000   10.000000   \n",
       "\n",
       "               X5          X6           Y  \n",
       "count  414.000000  414.000000  414.000000  \n",
       "mean    24.969030  121.533361   37.980193  \n",
       "std      0.012410    0.015347   13.606488  \n",
       "min     24.932070  121.473530    7.600000  \n",
       "25%     24.963000  121.528085   27.700000  \n",
       "50%     24.971100  121.538630   38.450000  \n",
       "75%     24.977455  121.543305   46.600000  \n",
       "max     25.014590  121.566270  117.500000  "
      ]
     },
     "execution_count": 5,
     "metadata": {},
     "output_type": "execute_result"
    }
   ],
   "source": [
    "df.describe()"
   ]
  },
  {
   "cell_type": "code",
   "execution_count": 6,
   "id": "1c4a1a40",
   "metadata": {},
   "outputs": [
    {
     "data": {
      "text/plain": [
       "<AxesSubplot:>"
      ]
     },
     "execution_count": 6,
     "metadata": {},
     "output_type": "execute_result"
    },
    {
     "data": {
      "image/png": "[encoded data removed]",
      "text/plain": [
       "<Figure size 432x288 with 2 Axes>"
      ]
     },
     "metadata": {
      "needs_background": "light"
     },
     "output_type": "display_data"
    }
   ],
   "source": [
    "# plt.figsize(10, 9)\n",
    "sns.heatmap(df.corr(), annot = True)"
   ]
  },
  {
   "cell_type": "markdown",
   "id": "96ae753b",
   "metadata": {},
   "source": [
    "Regression"
   ]
  },
  {
   "cell_type": "code",
   "execution_count": 7,
   "id": "1fe8354b",
   "metadata": {},
   "outputs": [],
   "source": [
    "y = df.Y\n",
    "x = df.drop('No', axis =  1)\n",
    "\n",
    "xtrain, xtest, ytrain, ytest = train_test_split(x, y, test_size = 0.20, random_state = 176)"
   ]
  },
  {
   "cell_type": "code",
   "execution_count": 8,
   "id": "36a7a4d9",
   "metadata": {},
   "outputs": [
    {
     "name": "stdout",
     "output_type": "stream",
     "text": [
      "(331, 7) (83, 7) (331,) (83,)\n"
     ]
    }
   ],
   "source": [
    "print(xtrain.shape, xtest.shape, ytrain.shape, ytest.shape)"
   ]
  },
  {
   "cell_type": "code",
   "execution_count": 10,
   "id": "11ae4a1a",
   "metadata": {},
   "outputs": [],
   "source": [
    "models = {'LinearRegression' : make_pipeline(StandardScaler(), LinearRegression()),\n",
    "    'SVRegression' : make_pipeline(StandardScaler(), SVR()),\n",
    "    'Lasso' : make_pipeline(StandardScaler(), Lasso(random_state=123)),\n",
    "    'Ridge' : make_pipeline(StandardScaler(), Ridge(random_state=123)),\n",
    "    'ElasticNet' : make_pipeline(StandardScaler(), ElasticNet(random_state=123)),\n",
    "    'RandomForest' : make_pipeline(StandardScaler(), RandomForestRegressor(random_state=123)),\n",
    "    'GradientBoosting' : make_pipeline(StandardScaler(), GradientBoostingRegressor(random_state=123))}\n"
   ]
  },
  {
   "cell_type": "code",
   "execution_count": 11,
   "id": "32d7a882",
   "metadata": {},
   "outputs": [
    {
     "data": {
      "text/plain": [
       "{'LinearRegression': Pipeline(steps=[('standardscaler', StandardScaler()),\n",
       "                 ('linearregression', LinearRegression())]),\n",
       " 'SVRegression': Pipeline(steps=[('standardscaler', StandardScaler()), ('svr', SVR())]),\n",
       " 'Lasso': Pipeline(steps=[('standardscaler', StandardScaler()),\n",
       "                 ('lasso', Lasso(random_state=123))]),\n",
       " 'Ridge': Pipeline(steps=[('standardscaler', StandardScaler()),\n",
       "                 ('ridge', Ridge(random_state=123))]),\n",
       " 'ElasticNet': Pipeline(steps=[('standardscaler', StandardScaler()),\n",
       "                 ('elasticnet', ElasticNet(random_state=123))]),\n",
       " 'RandomForest': Pipeline(steps=[('standardscaler', StandardScaler()),\n",
       "                 ('randomforestregressor',\n",
       "                  RandomForestRegressor(random_state=123))]),\n",
       " 'GradientBoosting': Pipeline(steps=[('standardscaler', StandardScaler()),\n",
       "                 ('gradientboostingregressor',\n",
       "                  GradientBoostingRegressor(random_state=123))])}"
      ]
     },
     "execution_count": 11,
     "metadata": {},
     "output_type": "execute_result"
    }
   ],
   "source": [
    "models"
   ]
  },
  {
   "cell_type": "code",
   "execution_count": 12,
   "id": "749f29a0",
   "metadata": {},
   "outputs": [
    {
     "name": "stdout",
     "output_type": "stream",
     "text": [
      "LinearRegression\n",
      "SVRegression\n",
      "Lasso\n",
      "Ridge\n",
      "ElasticNet\n",
      "RandomForest\n",
      "GradientBoosting\n"
     ]
    }
   ],
   "source": [
    "models_fit = {}\n",
    "for name, model in models.items():\n",
    "    model.fit(xtrain, ytrain)\n",
    "    models_fit[name] = model\n",
    "    print(f'{name}')"
   ]
  },
  {
   "cell_type": "code",
   "execution_count": 13,
   "id": "993ca46f",
   "metadata": {
    "scrolled": true
   },
   "outputs": [
    {
     "data": {
      "text/plain": [
       "{'LinearRegression': Pipeline(steps=[('standardscaler', StandardScaler()),\n",
       "                 ('linearregression', LinearRegression())]),\n",
       " 'SVRegression': Pipeline(steps=[('standardscaler', StandardScaler()), ('svr', SVR())]),\n",
       " 'Lasso': Pipeline(steps=[('standardscaler', StandardScaler()),\n",
       "                 ('lasso', Lasso(random_state=123))]),\n",
       " 'Ridge': Pipeline(steps=[('standardscaler', StandardScaler()),\n",
       "                 ('ridge', Ridge(random_state=123))]),\n",
       " 'ElasticNet': Pipeline(steps=[('standardscaler', StandardScaler()),\n",
       "                 ('elasticnet', ElasticNet(random_state=123))]),\n",
       " 'RandomForest': Pipeline(steps=[('standardscaler', StandardScaler()),\n",
       "                 ('randomforestregressor',\n",
       "                  RandomForestRegressor(random_state=123))]),\n",
       " 'GradientBoosting': Pipeline(steps=[('standardscaler', StandardScaler()),\n",
       "                 ('gradientboostingregressor',\n",
       "                  GradientBoostingRegressor(random_state=123))])}"
      ]
     },
     "execution_count": 13,
     "metadata": {},
     "output_type": "execute_result"
    }
   ],
   "source": [
    "models_fit"
   ]
  },
  {
   "cell_type": "code",
   "execution_count": 14,
   "id": "44b10027",
   "metadata": {},
   "outputs": [
    {
     "name": "stdout",
     "output_type": "stream",
     "text": [
      "LinearRegression\n",
      "1.0\n",
      "8.389540735480701e-15\n",
      "SVRegression\n",
      "0.8759367038388034\n",
      "2.664625765140824\n",
      "Lasso\n",
      "0.9946897862415641\n",
      "0.697802803972228\n",
      "Ridge\n",
      "0.9999808817617007\n",
      "0.04253806007877597\n",
      "ElasticNet\n",
      "0.8879738032864163\n",
      "3.1636303471713227\n",
      "RandomForest\n",
      "0.9960529088554829\n",
      "0.21815662650602435\n",
      "GradientBoosting\n",
      "0.9965187041928524\n",
      "0.25426258538754937\n"
     ]
    }
   ],
   "source": [
    "for name, model in models_fit.items():\n",
    "    ypred = model.predict(xtest)\n",
    "    print(f'{name:}')\n",
    "    print(f'{r2_score(ytest, ypred)}')\n",
    "    print(f'{mae(ytest, ypred)}')"
   ]
  },
  {
   "cell_type": "markdown",
   "id": "c8f5ded9",
   "metadata": {},
   "source": [
    "HyperParameter Tuning"
   ]
  },
  {
   "cell_type": "code",
   "execution_count": 33,
   "id": "425f59fe",
   "metadata": {},
   "outputs": [
    {
     "name": "stdout",
     "output_type": "stream",
     "text": [
      "0.9999834412368116\n",
      "0.040649714378742575\n"
     ]
    }
   ],
   "source": [
    "model = make_pipeline(StandardScaler(), SVR(kernel='linear', degree=3, gamma='scale', coef0=0.0, tol=0.001, C=1.0,\n",
    "                                            epsilon=0.1, shrinking=True, cache_size=200, verbose=False, max_iter=- 1))\n",
    "\n",
    "model.fit(xtrain, ytrain)\n",
    "\n",
    "ypred = model.predict(xtest)\n",
    "print(f'{r2_score(ytest, ypred)}')\n",
    "print(f'{mae(ytest, ypred)}')"
   ]
  },
  {
   "cell_type": "code",
   "execution_count": 24,
   "id": "51977e55",
   "metadata": {},
   "outputs": [
    {
     "data": {
      "text/plain": [
       "array([36.57459956, 38.13988409, 29.44936602, 40.81840251, 16.15755487,\n",
       "       47.42098457, 48.54768881, 31.33293998, 45.49572078, 47.02349695,\n",
       "       34.39450486, 32.58801337, 38.91531111, 36.78453208, 41.40393622,\n",
       "       38.10799822, 60.62714725, 12.15962788, 33.13462439, 42.22061649,\n",
       "       70.87615105, 47.34573021, 58.10194377, 42.17685356, 30.65385918,\n",
       "       50.66455326, 27.713647  , 42.0527219 , 40.22866976, 52.66339076,\n",
       "       40.20859771, 45.10432479, 30.53837967, 44.54288035, 24.63963238,\n",
       "       29.49038071, 52.15514659, 38.81960404, 39.01192228, 45.24172449,\n",
       "       62.04314507, 48.58827856, 40.29129866, 27.08856853, 43.20622789,\n",
       "       37.39719526, 26.97502524, 36.33562121, 41.95121936, 35.35542381,\n",
       "       35.6546601 , 46.96047492, 25.60199082, 58.9978176 , 19.16871556,\n",
       "       44.93829261, 37.94962883, 58.7538948 , 41.51094167, 46.22105088,\n",
       "       29.56640822, 35.16380122, 40.53482344, 27.39743354, 53.43336046,\n",
       "       59.58772558, 34.43794978, 60.65928062, 18.4004921 , 23.19810269,\n",
       "       25.72972561, 34.13314115, 29.27264512, 28.95506331, 52.96877262,\n",
       "       24.56744886, 17.37981043, 57.71767346, 57.05650629, 46.61695047,\n",
       "       40.14501077, 54.36854546, 21.83751377])"
      ]
     },
     "execution_count": 24,
     "metadata": {},
     "output_type": "execute_result"
    }
   ],
   "source": [
    "ypred"
   ]
  },
  {
   "cell_type": "code",
   "execution_count": 25,
   "id": "6c6111b1",
   "metadata": {},
   "outputs": [
    {
     "data": {
      "text/plain": [
       "array([36.5, 38.1, 29.4, 40.8, 16.1, 47.4, 48.5, 31.3, 45.5, 47. , 34.3,\n",
       "       32.5, 38.9, 36.7, 41.4, 38.1, 60.7, 12.2, 33.1, 42.2, 71. , 47.3,\n",
       "       58.1, 42.2, 30.6, 50.7, 27.7, 42. , 40.2, 52.7, 40.2, 45.1, 30.5,\n",
       "       44.5, 24.6, 29.5, 52.2, 38.8, 39. , 45.2, 62.1, 48.6, 40.3, 27. ,\n",
       "       43.2, 37.4, 26.9, 36.3, 41.9, 35.3, 35.6, 47. , 25.6, 59. , 19.1,\n",
       "       44.9, 37.9, 58.8, 41.5, 46.2, 29.5, 35.1, 40.5, 27.3, 53.5, 59.6,\n",
       "       34.4, 60.7, 18.3, 23.1, 25.7, 34.1, 29.3, 28.9, 53. , 24.5, 17.4,\n",
       "       57.8, 57.1, 46.6, 40.1, 54.4, 21.8])"
      ]
     },
     "execution_count": 25,
     "metadata": {},
     "output_type": "execute_result"
    }
   ],
   "source": [
    "np.array(ytest)"
   ]
  },
  {
   "cell_type": "markdown",
   "id": "b01112be",
   "metadata": {},
   "source": [
    "More Model(s) With Randomized Search"
   ]
  },
  {
   "cell_type": "code",
   "execution_count": 26,
   "id": "39a5df60",
   "metadata": {},
   "outputs": [],
   "source": [
    "from sklearn.model_selection import RandomizedSearchCV as RS"
   ]
  },
  {
   "cell_type": "code",
   "execution_count": 31,
   "id": "34ed382a",
   "metadata": {},
   "outputs": [],
   "source": [
    "rf_hyperparameters = {\n",
    "    'kernel' : ['linear', 'poly', 'rbf', 'sigmoid'],\n",
    "    'degree' : [1, 2, 3, 4, 5], \n",
    "    'gamma' : ['scale', 'auto']\n",
    "}"
   ]
  },
  {
   "cell_type": "code",
   "execution_count": 34,
   "id": "88bb2546",
   "metadata": {},
   "outputs": [
    {
     "name": "stdout",
     "output_type": "stream",
     "text": [
      "0.9999895573044989\n",
      "0.030727994505229842\n"
     ]
    }
   ],
   "source": [
    "model1 = SVR()\n",
    "model1 = RS(model1, rf_hyperparameters, n_jobs = -1)\n",
    "model1.fit(xtrain, ytrain)\n",
    "model1.best_params_\n",
    "ypred1 = model1.predict(xtest)\n",
    "print(f'{r2_score(ytest, ypred1)}')\n",
    "print(f'{mae(ytest, ypred1)}')"
   ]
  },
  {
   "cell_type": "code",
   "execution_count": 35,
   "id": "97844400",
   "metadata": {},
   "outputs": [
    {
     "name": "stdout",
     "output_type": "stream",
     "text": [
      "{'kernel': 'linear', 'gamma': 'auto', 'degree': 4}\n"
     ]
    }
   ],
   "source": [
    "model1.best_params_\n",
    "print(model1.best_params_)"
   ]
  },
  {
   "cell_type": "code",
   "execution_count": 36,
   "id": "db6b1cee",
   "metadata": {},
   "outputs": [
    {
     "name": "stdout",
     "output_type": "stream",
     "text": [
      "[36.52591624 38.09144363 29.43829506 40.81222134 16.19319869 47.41404287\n",
      " 48.46030899 31.33492534 45.53148092 47.01991696 34.33785929 32.54431805\n",
      " 38.93562794 36.73307419 41.44556679 38.13391387 60.66229077 12.15448651\n",
      " 33.18992331 42.19389187 70.9714795  47.29937055 58.07797578 42.2081747\n",
      " 30.66646407 50.71969243 27.73760787 41.98991755 40.19593905 52.68811504\n",
      " 40.19109445 45.13285592 30.54647128 44.52875695 24.67579607 29.51349669\n",
      " 52.25657555 38.81999707 39.0707494  45.21597545 62.08832228 48.62494771\n",
      " 40.32435247 27.0382429  43.24722611 37.43508044 26.94969399 36.29751775\n",
      " 41.88995814 35.30986714 35.64069916 47.03153549 25.62935634 58.97594224\n",
      " 19.18591867 44.90660171 37.8898413  58.80245664 41.50304259 46.22220907\n",
      " 29.56902621 35.12920777 40.52949648 27.30800245 53.50620226 59.59276566\n",
      " 34.43007132 60.69858229 18.38856002 23.19067472 25.72996775 34.13679521\n",
      " 29.31051777 28.97005489 53.00621832 24.56689825 17.39900411 57.78842714\n",
      " 57.1012859  46.58309461 40.13414479 54.36777363 21.85671748]\n"
     ]
    }
   ],
   "source": [
    "print(ypred1)"
   ]
  },
  {
   "cell_type": "code",
   "execution_count": 37,
   "id": "c0696505",
   "metadata": {},
   "outputs": [
    {
     "name": "stdout",
     "output_type": "stream",
     "text": [
      "[36.5 38.1 29.4 40.8 16.1 47.4 48.5 31.3 45.5 47.  34.3 32.5 38.9 36.7\n",
      " 41.4 38.1 60.7 12.2 33.1 42.2 71.  47.3 58.1 42.2 30.6 50.7 27.7 42.\n",
      " 40.2 52.7 40.2 45.1 30.5 44.5 24.6 29.5 52.2 38.8 39.  45.2 62.1 48.6\n",
      " 40.3 27.  43.2 37.4 26.9 36.3 41.9 35.3 35.6 47.  25.6 59.  19.1 44.9\n",
      " 37.9 58.8 41.5 46.2 29.5 35.1 40.5 27.3 53.5 59.6 34.4 60.7 18.3 23.1\n",
      " 25.7 34.1 29.3 28.9 53.  24.5 17.4 57.8 57.1 46.6 40.1 54.4 21.8]\n"
     ]
    }
   ],
   "source": [
    "print(np.array(ytest))"
   ]
  },
  {
   "cell_type": "code",
   "execution_count": null,
   "id": "8820e426",
   "metadata": {},
   "outputs": [],
   "source": []
  }
 ],
 "metadata": {
  "kernelspec": {
   "display_name": "Python 3",
   "language": "python",
   "name": "python3"
  },
  "language_info": {
   "codemirror_mode": {
    "name": "ipython",
    "version": 3
   },
   "file_extension": ".py",
   "mimetype": "text/x-python",
   "name": "python",
   "nbconvert_exporter": "python",
   "pygments_lexer": "ipython3",
   "version": "3.8.8"
  }
 },
 "nbformat": 4,
 "nbformat_minor": 5
}
