{
 "cells": [
  {
   "cell_type": "markdown",
   "id": "f9202b9b",
   "metadata": {},
   "source": [
    "# Prediction Of Facebook Total Interactions (UCI Dataset)(POFTL)"
   ]
  },
  {
   "cell_type": "markdown",
   "id": "1911eaa4",
   "metadata": {},
   "source": [
    "Importing Libraries"
   ]
  },
  {
   "cell_type": "code",
   "execution_count": 1,
   "id": "36efdc7d",
   "metadata": {},
   "outputs": [],
   "source": [
    "import numpy as np\n",
    "import pandas as pd\n",
    "import seaborn as sns\n",
    "from sklearn.svm import SVR\n",
    "from matplotlib import pyplot as plt\n",
    "from sklearn.model_selection import train_test_split\n",
    "from sklearn.linear_model import LinearRegression, Lasso, Ridge, ElasticNet\n",
    "from sklearn.ensemble import RandomForestRegressor, GradientBoostingRegressor\n",
    "from sklearn.pipeline import make_pipeline\n",
    "from sklearn.preprocessing import StandardScaler\n",
    "\n",
    "from sklearn.metrics import r2_score\n",
    "from sklearn.metrics import mean_absolute_error as mae"
   ]
  },
  {
   "cell_type": "markdown",
   "id": "c2172409",
   "metadata": {},
   "source": [
    "Importing Dataset"
   ]
  },
  {
   "cell_type": "code",
   "execution_count": 2,
   "id": "15e3119b",
   "metadata": {},
   "outputs": [],
   "source": [
    "# Page total likes\tType\tCategory\tPost Month\tPost Weekday\tPost Hour\tPaid\tLifetime Post Total Reach\tLifetime Post Total Impressions\tLifetime Engaged Users\tLifetime Post Consumers\tLifetime Post Consumptions\tLifetime Post Impressions by people who have liked your Page\tLifetime Post reach by people who like your Page\tLifetime People who have liked your Page and engaged with your post\tcomment\tlike\tshare\tTotal Interactions\n",
    "# LPTR\tLPTI\tLEU\tLPU\tLPC\tLPIP\tLPP\tLPLP\tcomment\tlike\tshare\tTI\n",
    "\n",
    "df = pd.read_csv('dataset_Facebook.csv')"
   ]
  },
  {
   "cell_type": "markdown",
   "id": "165e8fa2",
   "metadata": {},
   "source": [
    "Exploratory Data Analysis"
   ]
  },
  {
   "cell_type": "code",
   "execution_count": 3,
   "id": "6539414b",
   "metadata": {},
   "outputs": [
    {
     "data": {
      "text/html": [
       "<div>\n",
       "<style scoped>\n",
       "    .dataframe tbody tr th:only-of-type {\n",
       "        vertical-align: middle;\n",
       "    }\n",
       "\n",
       "    .dataframe tbody tr th {\n",
       "        vertical-align: top;\n",
       "    }\n",
       "\n",
       "    .dataframe thead th {\n",
       "        text-align: right;\n",
       "    }\n",
       "</style>\n",
       "<table border=\"1\" class=\"dataframe\">\n",
       "  <thead>\n",
       "    <tr style=\"text-align: right;\">\n",
       "      <th></th>\n",
       "      <th>LPTR</th>\n",
       "      <th>LPTI</th>\n",
       "      <th>LEU</th>\n",
       "      <th>LPU</th>\n",
       "      <th>LPC</th>\n",
       "      <th>LPIP</th>\n",
       "      <th>LPP</th>\n",
       "      <th>LPLP</th>\n",
       "      <th>comment</th>\n",
       "      <th>like</th>\n",
       "      <th>share</th>\n",
       "      <th>TI</th>\n",
       "    </tr>\n",
       "  </thead>\n",
       "  <tbody>\n",
       "    <tr>\n",
       "      <th>0</th>\n",
       "      <td>2752</td>\n",
       "      <td>5091</td>\n",
       "      <td>178</td>\n",
       "      <td>109</td>\n",
       "      <td>159</td>\n",
       "      <td>3078</td>\n",
       "      <td>1640</td>\n",
       "      <td>119</td>\n",
       "      <td>4</td>\n",
       "      <td>79</td>\n",
       "      <td>17</td>\n",
       "      <td>100</td>\n",
       "    </tr>\n",
       "    <tr>\n",
       "      <th>1</th>\n",
       "      <td>10460</td>\n",
       "      <td>19057</td>\n",
       "      <td>1457</td>\n",
       "      <td>1361</td>\n",
       "      <td>1674</td>\n",
       "      <td>11710</td>\n",
       "      <td>6112</td>\n",
       "      <td>1108</td>\n",
       "      <td>5</td>\n",
       "      <td>130</td>\n",
       "      <td>29</td>\n",
       "      <td>164</td>\n",
       "    </tr>\n",
       "    <tr>\n",
       "      <th>2</th>\n",
       "      <td>2413</td>\n",
       "      <td>4373</td>\n",
       "      <td>177</td>\n",
       "      <td>113</td>\n",
       "      <td>154</td>\n",
       "      <td>2812</td>\n",
       "      <td>1503</td>\n",
       "      <td>132</td>\n",
       "      <td>0</td>\n",
       "      <td>66</td>\n",
       "      <td>14</td>\n",
       "      <td>80</td>\n",
       "    </tr>\n",
       "    <tr>\n",
       "      <th>3</th>\n",
       "      <td>50128</td>\n",
       "      <td>87991</td>\n",
       "      <td>2211</td>\n",
       "      <td>790</td>\n",
       "      <td>1119</td>\n",
       "      <td>61027</td>\n",
       "      <td>32048</td>\n",
       "      <td>1386</td>\n",
       "      <td>58</td>\n",
       "      <td>1572</td>\n",
       "      <td>147</td>\n",
       "      <td>1777</td>\n",
       "    </tr>\n",
       "    <tr>\n",
       "      <th>4</th>\n",
       "      <td>7244</td>\n",
       "      <td>13594</td>\n",
       "      <td>671</td>\n",
       "      <td>410</td>\n",
       "      <td>580</td>\n",
       "      <td>6228</td>\n",
       "      <td>3200</td>\n",
       "      <td>396</td>\n",
       "      <td>19</td>\n",
       "      <td>325</td>\n",
       "      <td>49</td>\n",
       "      <td>393</td>\n",
       "    </tr>\n",
       "  </tbody>\n",
       "</table>\n",
       "</div>"
      ],
      "text/plain": [
       "    LPTR   LPTI   LEU   LPU   LPC   LPIP    LPP  LPLP  comment  like  share  \\\n",
       "0   2752   5091   178   109   159   3078   1640   119        4    79     17   \n",
       "1  10460  19057  1457  1361  1674  11710   6112  1108        5   130     29   \n",
       "2   2413   4373   177   113   154   2812   1503   132        0    66     14   \n",
       "3  50128  87991  2211   790  1119  61027  32048  1386       58  1572    147   \n",
       "4   7244  13594   671   410   580   6228   3200   396       19   325     49   \n",
       "\n",
       "     TI  \n",
       "0   100  \n",
       "1   164  \n",
       "2    80  \n",
       "3  1777  \n",
       "4   393  "
      ]
     },
     "execution_count": 3,
     "metadata": {},
     "output_type": "execute_result"
    }
   ],
   "source": [
    "df.head()"
   ]
  },
  {
   "cell_type": "code",
   "execution_count": 4,
   "id": "51416c86",
   "metadata": {},
   "outputs": [
    {
     "data": {
      "text/plain": [
       "LPTR       0\n",
       "LPTI       0\n",
       "LEU        0\n",
       "LPU        0\n",
       "LPC        0\n",
       "LPIP       0\n",
       "LPP        0\n",
       "LPLP       0\n",
       "comment    0\n",
       "like       0\n",
       "share      0\n",
       "TI         0\n",
       "dtype: int64"
      ]
     },
     "execution_count": 4,
     "metadata": {},
     "output_type": "execute_result"
    }
   ],
   "source": [
    "df.isnull().sum()"
   ]
  },
  {
   "cell_type": "code",
   "execution_count": 5,
   "id": "03f7d42b",
   "metadata": {},
   "outputs": [
    {
     "data": {
      "text/plain": [
       "0        79\n",
       "1       130\n",
       "2        66\n",
       "3      1572\n",
       "4       325\n",
       "       ... \n",
       "495      53\n",
       "496      53\n",
       "497      93\n",
       "498      91\n",
       "499      91\n",
       "Name: like, Length: 500, dtype: int64"
      ]
     },
     "execution_count": 5,
     "metadata": {},
     "output_type": "execute_result"
    }
   ],
   "source": [
    "df['like'].replace(np.nan, 0)"
   ]
  },
  {
   "cell_type": "code",
   "execution_count": 6,
   "id": "75a8f321",
   "metadata": {},
   "outputs": [
    {
     "data": {
      "text/plain": [
       "LPTR       0\n",
       "LPTI       0\n",
       "LEU        0\n",
       "LPU        0\n",
       "LPC        0\n",
       "LPIP       0\n",
       "LPP        0\n",
       "LPLP       0\n",
       "comment    0\n",
       "like       0\n",
       "share      0\n",
       "TI         0\n",
       "dtype: int64"
      ]
     },
     "execution_count": 6,
     "metadata": {},
     "output_type": "execute_result"
    }
   ],
   "source": [
    "df.isnull().sum()"
   ]
  },
  {
   "cell_type": "code",
   "execution_count": 7,
   "id": "92d1036e",
   "metadata": {
    "scrolled": true
   },
   "outputs": [
    {
     "data": {
      "text/html": [
       "<div>\n",
       "<style scoped>\n",
       "    .dataframe tbody tr th:only-of-type {\n",
       "        vertical-align: middle;\n",
       "    }\n",
       "\n",
       "    .dataframe tbody tr th {\n",
       "        vertical-align: top;\n",
       "    }\n",
       "\n",
       "    .dataframe thead th {\n",
       "        text-align: right;\n",
       "    }\n",
       "</style>\n",
       "<table border=\"1\" class=\"dataframe\">\n",
       "  <thead>\n",
       "    <tr style=\"text-align: right;\">\n",
       "      <th></th>\n",
       "      <th>LPTR</th>\n",
       "      <th>LPTI</th>\n",
       "      <th>LEU</th>\n",
       "      <th>LPU</th>\n",
       "      <th>LPC</th>\n",
       "      <th>LPIP</th>\n",
       "      <th>LPP</th>\n",
       "      <th>LPLP</th>\n",
       "      <th>comment</th>\n",
       "      <th>like</th>\n",
       "      <th>share</th>\n",
       "      <th>TI</th>\n",
       "    </tr>\n",
       "  </thead>\n",
       "  <tbody>\n",
       "    <tr>\n",
       "      <th>count</th>\n",
       "      <td>500.00000</td>\n",
       "      <td>5.000000e+02</td>\n",
       "      <td>500.000000</td>\n",
       "      <td>500.000000</td>\n",
       "      <td>500.000000</td>\n",
       "      <td>5.000000e+02</td>\n",
       "      <td>500.000000</td>\n",
       "      <td>500.000000</td>\n",
       "      <td>500.00000</td>\n",
       "      <td>500.000000</td>\n",
       "      <td>500.000000</td>\n",
       "      <td>500.000000</td>\n",
       "    </tr>\n",
       "    <tr>\n",
       "      <th>mean</th>\n",
       "      <td>13903.36000</td>\n",
       "      <td>2.958595e+04</td>\n",
       "      <td>920.344000</td>\n",
       "      <td>798.772000</td>\n",
       "      <td>1415.130000</td>\n",
       "      <td>1.676638e+04</td>\n",
       "      <td>6585.488000</td>\n",
       "      <td>609.986000</td>\n",
       "      <td>7.48200</td>\n",
       "      <td>177.590000</td>\n",
       "      <td>27.048000</td>\n",
       "      <td>212.120000</td>\n",
       "    </tr>\n",
       "    <tr>\n",
       "      <th>std</th>\n",
       "      <td>22740.78789</td>\n",
       "      <td>7.680325e+04</td>\n",
       "      <td>985.016636</td>\n",
       "      <td>882.505013</td>\n",
       "      <td>2000.594118</td>\n",
       "      <td>5.979102e+04</td>\n",
       "      <td>7682.009405</td>\n",
       "      <td>612.725618</td>\n",
       "      <td>21.18091</td>\n",
       "      <td>323.172528</td>\n",
       "      <td>42.511742</td>\n",
       "      <td>380.233118</td>\n",
       "    </tr>\n",
       "    <tr>\n",
       "      <th>min</th>\n",
       "      <td>238.00000</td>\n",
       "      <td>5.700000e+02</td>\n",
       "      <td>9.000000</td>\n",
       "      <td>9.000000</td>\n",
       "      <td>9.000000</td>\n",
       "      <td>5.670000e+02</td>\n",
       "      <td>236.000000</td>\n",
       "      <td>9.000000</td>\n",
       "      <td>0.00000</td>\n",
       "      <td>0.000000</td>\n",
       "      <td>0.000000</td>\n",
       "      <td>0.000000</td>\n",
       "    </tr>\n",
       "    <tr>\n",
       "      <th>25%</th>\n",
       "      <td>3315.00000</td>\n",
       "      <td>5.694750e+03</td>\n",
       "      <td>393.750000</td>\n",
       "      <td>332.500000</td>\n",
       "      <td>509.250000</td>\n",
       "      <td>3.969750e+03</td>\n",
       "      <td>2181.500000</td>\n",
       "      <td>291.000000</td>\n",
       "      <td>1.00000</td>\n",
       "      <td>56.000000</td>\n",
       "      <td>10.000000</td>\n",
       "      <td>71.000000</td>\n",
       "    </tr>\n",
       "    <tr>\n",
       "      <th>50%</th>\n",
       "      <td>5281.00000</td>\n",
       "      <td>9.051000e+03</td>\n",
       "      <td>625.500000</td>\n",
       "      <td>551.500000</td>\n",
       "      <td>851.000000</td>\n",
       "      <td>6.255500e+03</td>\n",
       "      <td>3417.000000</td>\n",
       "      <td>412.000000</td>\n",
       "      <td>3.00000</td>\n",
       "      <td>101.000000</td>\n",
       "      <td>19.000000</td>\n",
       "      <td>123.500000</td>\n",
       "    </tr>\n",
       "    <tr>\n",
       "      <th>75%</th>\n",
       "      <td>13168.00000</td>\n",
       "      <td>2.208550e+04</td>\n",
       "      <td>1062.000000</td>\n",
       "      <td>955.500000</td>\n",
       "      <td>1463.000000</td>\n",
       "      <td>1.486050e+04</td>\n",
       "      <td>7989.000000</td>\n",
       "      <td>656.250000</td>\n",
       "      <td>7.00000</td>\n",
       "      <td>187.250000</td>\n",
       "      <td>32.000000</td>\n",
       "      <td>228.500000</td>\n",
       "    </tr>\n",
       "    <tr>\n",
       "      <th>max</th>\n",
       "      <td>180480.00000</td>\n",
       "      <td>1.110282e+06</td>\n",
       "      <td>11452.000000</td>\n",
       "      <td>11328.000000</td>\n",
       "      <td>19779.000000</td>\n",
       "      <td>1.107833e+06</td>\n",
       "      <td>51456.000000</td>\n",
       "      <td>4376.000000</td>\n",
       "      <td>372.00000</td>\n",
       "      <td>5172.000000</td>\n",
       "      <td>790.000000</td>\n",
       "      <td>6334.000000</td>\n",
       "    </tr>\n",
       "  </tbody>\n",
       "</table>\n",
       "</div>"
      ],
      "text/plain": [
       "               LPTR          LPTI           LEU           LPU           LPC  \\\n",
       "count     500.00000  5.000000e+02    500.000000    500.000000    500.000000   \n",
       "mean    13903.36000  2.958595e+04    920.344000    798.772000   1415.130000   \n",
       "std     22740.78789  7.680325e+04    985.016636    882.505013   2000.594118   \n",
       "min       238.00000  5.700000e+02      9.000000      9.000000      9.000000   \n",
       "25%      3315.00000  5.694750e+03    393.750000    332.500000    509.250000   \n",
       "50%      5281.00000  9.051000e+03    625.500000    551.500000    851.000000   \n",
       "75%     13168.00000  2.208550e+04   1062.000000    955.500000   1463.000000   \n",
       "max    180480.00000  1.110282e+06  11452.000000  11328.000000  19779.000000   \n",
       "\n",
       "               LPIP           LPP         LPLP    comment         like  \\\n",
       "count  5.000000e+02    500.000000   500.000000  500.00000   500.000000   \n",
       "mean   1.676638e+04   6585.488000   609.986000    7.48200   177.590000   \n",
       "std    5.979102e+04   7682.009405   612.725618   21.18091   323.172528   \n",
       "min    5.670000e+02    236.000000     9.000000    0.00000     0.000000   \n",
       "25%    3.969750e+03   2181.500000   291.000000    1.00000    56.000000   \n",
       "50%    6.255500e+03   3417.000000   412.000000    3.00000   101.000000   \n",
       "75%    1.486050e+04   7989.000000   656.250000    7.00000   187.250000   \n",
       "max    1.107833e+06  51456.000000  4376.000000  372.00000  5172.000000   \n",
       "\n",
       "            share           TI  \n",
       "count  500.000000   500.000000  \n",
       "mean    27.048000   212.120000  \n",
       "std     42.511742   380.233118  \n",
       "min      0.000000     0.000000  \n",
       "25%     10.000000    71.000000  \n",
       "50%     19.000000   123.500000  \n",
       "75%     32.000000   228.500000  \n",
       "max    790.000000  6334.000000  "
      ]
     },
     "execution_count": 7,
     "metadata": {},
     "output_type": "execute_result"
    }
   ],
   "source": [
    "df.describe()"
   ]
  },
  {
   "cell_type": "code",
   "execution_count": 8,
   "id": "1c4a1a40",
   "metadata": {},
   "outputs": [
    {
     "data": {
      "text/plain": [
       "<AxesSubplot:>"
      ]
     },
     "execution_count": 8,
     "metadata": {},
     "output_type": "execute_result"
    },
    {
     "data": {
      "image/png": "[encoded data removed]",
      "text/plain": [
       "<Figure size 432x288 with 2 Axes>"
      ]
     },
     "metadata": {
      "needs_background": "light"
     },
     "output_type": "display_data"
    }
   ],
   "source": [
    "# plt.figsize(10, 9)\n",
    "sns.heatmap(df.corr(), annot = True)"
   ]
  },
  {
   "cell_type": "markdown",
   "id": "96ae753b",
   "metadata": {},
   "source": [
    "Regression"
   ]
  },
  {
   "cell_type": "code",
   "execution_count": 9,
   "id": "1fe8354b",
   "metadata": {},
   "outputs": [],
   "source": [
    "y = df.TI\n",
    "x = df.drop('TI', axis =  1)\n",
    "\n",
    "xtrain, xtest, ytrain, ytest = train_test_split(x, y, test_size = 0.25, random_state = 176)"
   ]
  },
  {
   "cell_type": "code",
   "execution_count": 10,
   "id": "36a7a4d9",
   "metadata": {},
   "outputs": [
    {
     "name": "stdout",
     "output_type": "stream",
     "text": [
      "(375, 11) (125, 11) (375,) (125,)\n"
     ]
    }
   ],
   "source": [
    "print(xtrain.shape, xtest.shape, ytrain.shape, ytest.shape)"
   ]
  },
  {
   "cell_type": "code",
   "execution_count": 11,
   "id": "57144872",
   "metadata": {},
   "outputs": [],
   "source": [
    "from sklearn.linear_model import SGDRegressor as SGD\n",
    "\n",
    "from xgboost import XGBRegressor as XGB"
   ]
  },
  {
   "cell_type": "code",
   "execution_count": 12,
   "id": "11ae4a1a",
   "metadata": {},
   "outputs": [],
   "source": [
    "models = {'LinearRegression' : make_pipeline(StandardScaler(), LinearRegression()),\n",
    "    'SVRegression' : make_pipeline(StandardScaler(), SVR()),\n",
    "    'Lasso' : make_pipeline(StandardScaler(), Lasso(random_state=123)),\n",
    "    'Ridge' : make_pipeline(StandardScaler(), Ridge(random_state=123)),\n",
    "    'ElasticNet' : make_pipeline(StandardScaler(), ElasticNet(random_state=123)),\n",
    "    'RandomForest' : make_pipeline(StandardScaler(), RandomForestRegressor(random_state=123)),\n",
    "    'SGDRegressor' : make_pipeline(StandardScaler(), SGD(random_state=123)),\n",
    "    'XGBRegressor' : make_pipeline(StandardScaler(), XGB(random_state=123)),\n",
    "    'GradientBoosting' : make_pipeline(StandardScaler(), GradientBoostingRegressor(random_state=123))}\n"
   ]
  },
  {
   "cell_type": "code",
   "execution_count": 13,
   "id": "32d7a882",
   "metadata": {},
   "outputs": [
    {
     "data": {
      "text/plain": [
       "{'LinearRegression': Pipeline(steps=[('standardscaler', StandardScaler()),\n",
       "                 ('linearregression', LinearRegression())]),\n",
       " 'SVRegression': Pipeline(steps=[('standardscaler', StandardScaler()), ('svr', SVR())]),\n",
       " 'Lasso': Pipeline(steps=[('standardscaler', StandardScaler()),\n",
       "                 ('lasso', Lasso(random_state=123))]),\n",
       " 'Ridge': Pipeline(steps=[('standardscaler', StandardScaler()),\n",
       "                 ('ridge', Ridge(random_state=123))]),\n",
       " 'ElasticNet': Pipeline(steps=[('standardscaler', StandardScaler()),\n",
       "                 ('elasticnet', ElasticNet(random_state=123))]),\n",
       " 'RandomForest': Pipeline(steps=[('standardscaler', StandardScaler()),\n",
       "                 ('randomforestregressor',\n",
       "                  RandomForestRegressor(random_state=123))]),\n",
       " 'SGDRegressor': Pipeline(steps=[('standardscaler', StandardScaler()),\n",
       "                 ('sgdregressor', SGDRegressor(random_state=123))]),\n",
       " 'XGBRegressor': Pipeline(steps=[('standardscaler', StandardScaler()),\n",
       "                 ('xgbregressor',\n",
       "                  XGBRegressor(base_score=None, booster=None, callbacks=None,\n",
       "                               colsample_bylevel=None, colsample_bynode=None,\n",
       "                               colsample_bytree=None, early_stopping_rounds=None,\n",
       "                               enable_categorical=False, eval_metric=None,\n",
       "                               gamma=None, gpu_id=None, grow_policy=None,\n",
       "                               importance_type=None,\n",
       "                               interaction_constraints=None, learning_rate=None,\n",
       "                               max_bin=None, max_cat_to_onehot=None,\n",
       "                               max_delta_step=None, max_depth=None,\n",
       "                               max_leaves=None, min_child_weight=None,\n",
       "                               missing=nan, monotone_constraints=None,\n",
       "                               n_estimators=100, n_jobs=None,\n",
       "                               num_parallel_tree=None, predictor=None,\n",
       "                               random_state=123, reg_alpha=None, reg_lambda=None, ...))]),\n",
       " 'GradientBoosting': Pipeline(steps=[('standardscaler', StandardScaler()),\n",
       "                 ('gradientboostingregressor',\n",
       "                  GradientBoostingRegressor(random_state=123))])}"
      ]
     },
     "execution_count": 13,
     "metadata": {},
     "output_type": "execute_result"
    }
   ],
   "source": [
    "models"
   ]
  },
  {
   "cell_type": "code",
   "execution_count": 14,
   "id": "749f29a0",
   "metadata": {},
   "outputs": [
    {
     "name": "stdout",
     "output_type": "stream",
     "text": [
      "LinearRegression\n",
      "SVRegression\n",
      "Lasso\n",
      "Ridge\n",
      "ElasticNet\n",
      "RandomForest\n",
      "SGDRegressor\n",
      "XGBRegressor\n",
      "GradientBoosting\n"
     ]
    }
   ],
   "source": [
    "models_fit = {}\n",
    "for name, model in models.items():\n",
    "    model.fit(xtrain, ytrain)\n",
    "    models_fit[name] = model\n",
    "    print(f'{name}')"
   ]
  },
  {
   "cell_type": "code",
   "execution_count": 15,
   "id": "993ca46f",
   "metadata": {
    "scrolled": true
   },
   "outputs": [
    {
     "data": {
      "text/plain": [
       "{'LinearRegression': Pipeline(steps=[('standardscaler', StandardScaler()),\n",
       "                 ('linearregression', LinearRegression())]),\n",
       " 'SVRegression': Pipeline(steps=[('standardscaler', StandardScaler()), ('svr', SVR())]),\n",
       " 'Lasso': Pipeline(steps=[('standardscaler', StandardScaler()),\n",
       "                 ('lasso', Lasso(random_state=123))]),\n",
       " 'Ridge': Pipeline(steps=[('standardscaler', StandardScaler()),\n",
       "                 ('ridge', Ridge(random_state=123))]),\n",
       " 'ElasticNet': Pipeline(steps=[('standardscaler', StandardScaler()),\n",
       "                 ('elasticnet', ElasticNet(random_state=123))]),\n",
       " 'RandomForest': Pipeline(steps=[('standardscaler', StandardScaler()),\n",
       "                 ('randomforestregressor',\n",
       "                  RandomForestRegressor(random_state=123))]),\n",
       " 'SGDRegressor': Pipeline(steps=[('standardscaler', StandardScaler()),\n",
       "                 ('sgdregressor', SGDRegressor(random_state=123))]),\n",
       " 'XGBRegressor': Pipeline(steps=[('standardscaler', StandardScaler()),\n",
       "                 ('xgbregressor',\n",
       "                  XGBRegressor(base_score=0.5, booster='gbtree', callbacks=None,\n",
       "                               colsample_bylevel=1, colsample_bynode=1,\n",
       "                               colsample_bytree=1, early_stopping_rounds=None,\n",
       "                               enable_categorical=False, eval_metric=None,\n",
       "                               gamma=0, gpu_id=-1, grow_policy='depthwise',\n",
       "                               importance_type=None, interaction_constraints='',\n",
       "                               learning_rate=0.300000012, max_bin=256,\n",
       "                               max_cat_to_onehot=4, max_delta_step=0,\n",
       "                               max_depth=6, max_leaves=0, min_child_weight=1,\n",
       "                               missing=nan, monotone_constraints='()',\n",
       "                               n_estimators=100, n_jobs=0, num_parallel_tree=1,\n",
       "                               predictor='auto', random_state=123, reg_alpha=0,\n",
       "                               reg_lambda=1, ...))]),\n",
       " 'GradientBoosting': Pipeline(steps=[('standardscaler', StandardScaler()),\n",
       "                 ('gradientboostingregressor',\n",
       "                  GradientBoostingRegressor(random_state=123))])}"
      ]
     },
     "execution_count": 15,
     "metadata": {},
     "output_type": "execute_result"
    }
   ],
   "source": [
    "models_fit"
   ]
  },
  {
   "cell_type": "code",
   "execution_count": 16,
   "id": "fcd84bb5",
   "metadata": {},
   "outputs": [
    {
     "name": "stdout",
     "output_type": "stream",
     "text": [
      "LinearRegression|Rsquared = 1.000000 mae = 0.000000\n",
      "SVRegression|Rsquared = -0.019735 mae = 182.543418\n",
      "Lasso|Rsquared = 0.999969 mae = 1.011538\n",
      "Ridge|Rsquared = 0.999989 mae = 1.029701\n",
      "ElasticNet|Rsquared = 0.975028 mae = 47.429043\n",
      "RandomForest|Rsquared = 0.592532 mae = 47.943120\n",
      "SGDRegressor|Rsquared = 0.999991 mae = 0.730966\n",
      "XGBRegressor|Rsquared = 0.634365 mae = 43.730882\n",
      "GradientBoosting|Rsquared = 0.591297 mae = 44.263611\n"
     ]
    }
   ],
   "source": [
    "res1 = []\n",
    "res2 = []\n",
    "names = []\n",
    "for name, model in models_fit.items():\n",
    "    ypred = model.predict(xtest)\n",
    "    names.append(name)\n",
    "    r1 = r2_score(ytest, ypred)\n",
    "    r2 = mae(ytest, ypred)\n",
    "    res1 = np.append(res1, r1)\n",
    "    res2 = np.append(res2, r2)\n",
    "    output = \"%s|Rsquared = %f mae = %f\" %(name, r1, r2)\n",
    "    print(output)"
   ]
  },
  {
   "cell_type": "code",
   "execution_count": 17,
   "id": "c992b264",
   "metadata": {},
   "outputs": [
    {
     "data": {
      "text/plain": [
       "([0, 1, 2, 3, 4, 5, 6, 7, 8],\n",
       " [Text(0, 0, ''),\n",
       "  Text(0, 0, ''),\n",
       "  Text(0, 0, ''),\n",
       "  Text(0, 0, ''),\n",
       "  Text(0, 0, ''),\n",
       "  Text(0, 0, ''),\n",
       "  Text(0, 0, ''),\n",
       "  Text(0, 0, ''),\n",
       "  Text(0, 0, '')])"
      ]
     },
     "execution_count": 17,
     "metadata": {},
     "output_type": "execute_result"
    },
    {
     "data": {
      "image/png": "[encoded data removed]",
      "text/plain": [
       "<Figure size 432x288 with 1 Axes>"
      ]
     },
     "metadata": {
      "needs_background": "light"
     },
     "output_type": "display_data"
    }
   ],
   "source": [
    "plt.bar(names, res1)\n",
    "plt.title('RSquared')\n",
    "plt.xticks(rotation = 45)"
   ]
  },
  {
   "cell_type": "code",
   "execution_count": 18,
   "id": "58892d1f",
   "metadata": {},
   "outputs": [
    {
     "data": {
      "text/plain": [
       "([0, 1, 2, 3, 4, 5, 6, 7, 8],\n",
       " [Text(0, 0, ''),\n",
       "  Text(0, 0, ''),\n",
       "  Text(0, 0, ''),\n",
       "  Text(0, 0, ''),\n",
       "  Text(0, 0, ''),\n",
       "  Text(0, 0, ''),\n",
       "  Text(0, 0, ''),\n",
       "  Text(0, 0, ''),\n",
       "  Text(0, 0, '')])"
      ]
     },
     "execution_count": 18,
     "metadata": {},
     "output_type": "execute_result"
    },
    {
     "data": {
      "image/png": "[encoded data removed]",
      "text/plain": [
       "<Figure size 432x288 with 1 Axes>"
      ]
     },
     "metadata": {
      "needs_background": "light"
     },
     "output_type": "display_data"
    }
   ],
   "source": [
    "plt.bar(names, res2)\n",
    "plt.title('Mean Absolute Error')\n",
    "plt.xticks(rotation = 45)"
   ]
  },
  {
   "cell_type": "code",
   "execution_count": 19,
   "id": "ff9e70ba",
   "metadata": {},
   "outputs": [
    {
     "data": {
      "text/plain": [
       "array([1.        , 0.01973489, 0.99996917, 0.99998945, 0.97502768,\n",
       "       0.59253195, 0.99999082, 0.63436529, 0.59129736])"
      ]
     },
     "execution_count": 19,
     "metadata": {},
     "output_type": "execute_result"
    },
    {
     "data": {
      "image/png": "[encoded data removed]",
      "text/plain": [
       "<Figure size 432x288 with 1 Axes>"
      ]
     },
     "metadata": {},
     "output_type": "display_data"
    }
   ],
   "source": [
    "res1 = np.array(abs(res1))\n",
    "plt.pie(res1, labels = names)\n",
    "res1"
   ]
  },
  {
   "cell_type": "markdown",
   "id": "c8f5ded9",
   "metadata": {},
   "source": [
    "HyperParameter Tuning"
   ]
  },
  {
   "cell_type": "code",
   "execution_count": 20,
   "id": "425f59fe",
   "metadata": {},
   "outputs": [
    {
     "name": "stdout",
     "output_type": "stream",
     "text": [
      "0.9771123965857585\n",
      "40.50308053904617\n"
     ]
    }
   ],
   "source": [
    "model = make_pipeline(StandardScaler(), SVR(kernel='linear', degree=3, gamma='scale', coef0=0.0, tol=0.001, C=1.0,\n",
    "                                            epsilon=0.1, shrinking=True, cache_size=200, verbose=False, max_iter=- 1))\n",
    "\n",
    "model.fit(xtrain, ytrain)\n",
    "\n",
    "ypred = model.predict(xtest)\n",
    "print(f'{r2_score(ytest, ypred)}')\n",
    "print(f'{mae(ytest, ypred)}')"
   ]
  },
  {
   "cell_type": "code",
   "execution_count": 21,
   "id": "51977e55",
   "metadata": {},
   "outputs": [
    {
     "data": {
      "text/plain": [
       "array([1.66404528e+02, 7.92178175e+01, 2.79545400e+01, 1.70347352e+03,\n",
       "       4.49765751e+02, 1.37217835e+02, 2.58786140e+02, 8.96523916e+01,\n",
       "       4.88667140e+01, 1.59890405e+02, 9.71358304e+01, 2.15568370e+01,\n",
       "       3.22886375e+02, 1.32052426e+02, 1.10679354e+02, 4.01114954e+01,\n",
       "       1.79893867e+02, 3.73123555e+02, 1.46007732e+02, 2.30148307e+02,\n",
       "       7.92780177e+01, 1.22562517e+02, 5.38695450e+02, 9.97900567e+02,\n",
       "       2.38093117e+02, 1.87542894e+02, 1.26731425e+02, 8.03707734e+01,\n",
       "       9.18860372e+00, 9.62288998e+01, 3.43131136e+02, 9.63232007e+01,\n",
       "       8.65533920e+01, 1.29049263e+02, 2.07496280e+01, 5.71164161e+02,\n",
       "       1.60010588e+02, 1.78466522e+02, 1.23753533e+02, 2.53202072e+02,\n",
       "       2.40700388e+02, 1.33581424e+01, 1.07212709e+02, 4.07623288e+02,\n",
       "       1.25789029e+02, 1.64700154e+01, 2.66557964e+02, 8.16610056e+01,\n",
       "       3.13750541e+01, 2.02388964e+02, 2.42930418e+02, 4.96889130e+01,\n",
       "       5.65174155e+03, 2.44583665e+02, 3.18733964e+02, 1.17729347e+02,\n",
       "       6.70506914e+01, 6.07149586e+01, 4.77853887e+01, 1.64912492e+02,\n",
       "       1.81108109e+02, 6.98967679e+01, 1.27350215e+02, 1.31087135e+02,\n",
       "       1.13310642e+02, 1.84491424e+02, 1.08663868e+02, 2.71178966e+01,\n",
       "       1.37620853e+02, 2.50986182e+02, 2.66299285e+02, 1.35060934e+01,\n",
       "       1.52294551e+01, 2.12063591e+02, 2.54867156e+02, 2.24079890e+02,\n",
       "       1.16938612e+02, 1.34617517e+02, 5.33052792e+02, 1.32208702e+02,\n",
       "       1.27227581e+02, 1.74370671e+02, 3.73547825e+02, 1.53980495e+02,\n",
       "       4.32668905e+02, 5.30622696e+02, 8.18656458e+01, 1.74711309e+01,\n",
       "       4.74417552e+02, 6.14618331e+01, 5.90571059e+01, 8.28398038e+00,\n",
       "       8.52521733e+01, 1.00041300e+03, 1.13073309e+02, 1.26834553e+02,\n",
       "       1.01745671e+02, 8.75223257e+01, 2.23031712e+01, 1.82607350e+02,\n",
       "       2.29661336e+02, 3.86171750e+02, 1.47347428e+02, 8.66851552e+01,\n",
       "       2.28938011e+02, 1.09570393e+02, 1.13498281e+02, 3.12400782e+02,\n",
       "       2.95643755e+02, 1.16937017e+02, 4.08174833e+02, 1.79212791e+02,\n",
       "       1.40297776e+02, 1.21295593e+02, 9.98860910e+01, 4.35941701e+00,\n",
       "       9.24789792e+01, 1.14035557e+02, 7.44179154e+02, 5.04937892e+02,\n",
       "       1.04902009e+02, 1.15129542e+03, 1.27658384e+01, 9.10592065e+01,\n",
       "       9.56736563e+01])"
      ]
     },
     "execution_count": 21,
     "metadata": {},
     "output_type": "execute_result"
    }
   ],
   "source": [
    "ypred"
   ]
  },
  {
   "cell_type": "code",
   "execution_count": 22,
   "id": "6c6111b1",
   "metadata": {},
   "outputs": [
    {
     "data": {
      "text/plain": [
       "array([ 199,   54,   17, 1873,  410,  142,  299,   97,   55,  127,   81,\n",
       "         14,  282,  122,  126,   17,  230,  458,  162,  282,   91,  137,\n",
       "        713, 1136,  276,  200,  121,   75,    5,   87,  387,  104,   66,\n",
       "        138,   17,  818,  172,  217,  115,  316,  234,    8,  126,  599,\n",
       "        125,    2,  285,   56,   24,  188,  214,   53, 6334,  252,  228,\n",
       "        101,   53,   67,   32,  121,  163,   68,  106,  130,  155,  186,\n",
       "        129,   10,  128,  311,  252,    9,    9,  242,  232,  199,  114,\n",
       "        135,  624,  122,  128,  164,  367,  165,  454,  622,   69,    7,\n",
       "        505,   46,   60,    5,   98, 1290,  121,   85,   96,   89,   18,\n",
       "        160,  238,  447,  136,   68,  220,  118,  106,  429,  269,  108,\n",
       "        490,  152,   57,  137,  117,    0,   67,  132,  881,  572,  114,\n",
       "       1626,    4,   99,   53], dtype=int64)"
      ]
     },
     "execution_count": 22,
     "metadata": {},
     "output_type": "execute_result"
    }
   ],
   "source": [
    "np.array(ytest)"
   ]
  },
  {
   "cell_type": "markdown",
   "id": "b01112be",
   "metadata": {},
   "source": [
    "More Model(s) With Randomized Search"
   ]
  },
  {
   "cell_type": "code",
   "execution_count": 23,
   "id": "39a5df60",
   "metadata": {},
   "outputs": [],
   "source": [
    "from sklearn.model_selection import RandomizedSearchCV as RS"
   ]
  },
  {
   "cell_type": "code",
   "execution_count": 24,
   "id": "34ed382a",
   "metadata": {},
   "outputs": [],
   "source": [
    "rf_hyperparameters = {\n",
    "    'kernel' : ['linear', 'poly', 'rbf', 'sigmoid'],\n",
    "    'degree' : [1, 2, 3, 4, 5], \n",
    "    'gamma' : ['scale', 'auto']\n",
    "}"
   ]
  },
  {
   "cell_type": "code",
   "execution_count": null,
   "id": "88bb2546",
   "metadata": {},
   "outputs": [],
   "source": [
    "model1 = SVR()\n",
    "model1 = RS(model1, rf_hyperparameters, n_jobs = -1)\n",
    "model1.fit(xtrain, ytrain)\n",
    "model1.best_params_\n",
    "ypred1 = model1.predict(xtest)\n",
    "print(f'{r2_score(ytest, ypred1)}')\n",
    "print(f'{mae(ytest, ypred1)}')"
   ]
  },
  {
   "cell_type": "code",
   "execution_count": null,
   "id": "97844400",
   "metadata": {},
   "outputs": [],
   "source": [
    "model1.best_params_\n",
    "print(model1.best_params_)"
   ]
  },
  {
   "cell_type": "code",
   "execution_count": null,
   "id": "db6b1cee",
   "metadata": {},
   "outputs": [],
   "source": [
    "print(ypred1)"
   ]
  },
  {
   "cell_type": "code",
   "execution_count": null,
   "id": "c0696505",
   "metadata": {},
   "outputs": [],
   "source": [
    "print(np.array(ytest))"
   ]
  },
  {
   "cell_type": "markdown",
   "id": "14b46234",
   "metadata": {},
   "source": [
    "Visualization"
   ]
  },
  {
   "cell_type": "code",
   "execution_count": null,
   "id": "fd0b17cc",
   "metadata": {},
   "outputs": [],
   "source": [
    "ypred1.shape"
   ]
  },
  {
   "cell_type": "code",
   "execution_count": null,
   "id": "fcf59f5e",
   "metadata": {},
   "outputs": [],
   "source": [
    "ytest.shape"
   ]
  },
  {
   "cell_type": "code",
   "execution_count": null,
   "id": "553b424d",
   "metadata": {},
   "outputs": [],
   "source": [
    "from sklearn.linear_model import ElasticNet as EN"
   ]
  },
  {
   "cell_type": "code",
   "execution_count": null,
   "id": "c1bf8922",
   "metadata": {},
   "outputs": [],
   "source": [
    "EN_hyperparameters = {\n",
    "    'alpha' : [0, 0.2, 0.5, 0.7, 1],\n",
    "    'l1_ratio' : [0, 0.2, 0.5, 0.7, 1], \n",
    "    'max_iter' : [100, 200, 500, 700, 1000, 1200, 1300, 1500], \n",
    "    'tol' : [0.01, 0.001, 0.0001, 0.00001, 0.000001, 0.0000001], \n",
    "    'selection' : ['cyclic', 'random']\n",
    "}"
   ]
  },
  {
   "cell_type": "code",
   "execution_count": null,
   "id": "21350585",
   "metadata": {},
   "outputs": [],
   "source": [
    "model2 = EN()\n",
    "model2 = RS(model2, EN_hyperparameters, n_jobs = -1)\n",
    "model2.fit(xtrain, ytrain)\n",
    "model2.best_params_\n",
    "ypred2 = model2.predict(xtest)\n",
    "print(f'{r2_score(ytest, ypred2)}')\n",
    "print(f'{mae(ytest, ypred2)}')"
   ]
  },
  {
   "cell_type": "code",
   "execution_count": null,
   "id": "b51bf376",
   "metadata": {},
   "outputs": [],
   "source": [
    "model2.best_params_\n",
    "print(model2.best_params_)"
   ]
  },
  {
   "cell_type": "code",
   "execution_count": null,
   "id": "48560968",
   "metadata": {},
   "outputs": [],
   "source": []
  }
 ],
 "metadata": {
  "kernelspec": {
   "display_name": "Python 3",
   "language": "python",
   "name": "python3"
  },
  "language_info": {
   "codemirror_mode": {
    "name": "ipython",
    "version": 3
   },
   "file_extension": ".py",
   "mimetype": "text/x-python",
   "name": "python",
   "nbconvert_exporter": "python",
   "pygments_lexer": "ipython3",
   "version": "3.8.8"
  }
 },
 "nbformat": 4,
 "nbformat_minor": 5
}
